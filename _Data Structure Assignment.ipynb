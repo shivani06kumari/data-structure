{
 "cells": [
  {
   "cell_type": "markdown",
   "id": "4a579abd-a895-4ba4-bcee-23ed752439c6",
   "metadata": {},
   "source": [
    "1.Write code to reverse a string"
   ]
  },
  {
   "cell_type": "code",
   "execution_count": null,
   "id": "b02a7677-4986-4187-8459-9addedfac3ee",
   "metadata": {},
   "outputs": [],
   "source": [
    "def reverse_string(s):\n",
    "    return s[::-1]\n",
    "\n",
    "s = \"hello\"\n",
    "result = reverse_string(s)\n",
    "print(result)\n"
   ]
  },
  {
   "cell_type": "markdown",
   "id": "f3890566-ef6e-4ffd-9c56-056965db7daf",
   "metadata": {},
   "source": [
    "2.Write code to count the number of vowels in a string"
   ]
  },
  {
   "cell_type": "code",
   "execution_count": null,
   "id": "9a2fa174-ab12-45e8-ab75-c9aa1ea5a5a2",
   "metadata": {},
   "outputs": [],
   "source": [
    "def count_vowels(s):\n",
    "    vowels = 'aeiouAEIOU'\n",
    "    return sum(1 for char in s if char in vowels)\n",
    "\n",
    "s = \"hello world\"\n",
    "result = count_vowels(s)\n",
    "print(result)\n"
   ]
  },
  {
   "cell_type": "markdown",
   "id": "82939e98-c8d1-4470-a723-f232a7e9e8dc",
   "metadata": {},
   "source": [
    "3. Write code to check if a given string is a palindrome or not:\n"
   ]
  },
  {
   "cell_type": "code",
   "execution_count": null,
   "id": "68ad32ab-175a-4918-8cc3-e4689b35744a",
   "metadata": {},
   "outputs": [],
   "source": [
    "def is_palindrome(s):\n",
    "    return s == s[::-1]\n",
    "\n",
    "s = \"radar\"\n",
    "result = is_palindrome(s)\n",
    "print(result)\n"
   ]
  },
  {
   "cell_type": "markdown",
   "id": "8af8e315-a42a-4be6-b97c-9437fd82fada",
   "metadata": {},
   "source": [
    "4.Write code to check if two given strings are anagrams of each other:"
   ]
  },
  {
   "cell_type": "code",
   "execution_count": null,
   "id": "24f726be-65cc-4dbb-8c25-b77e1304dbc1",
   "metadata": {},
   "outputs": [],
   "source": [
    "def are_anagrams(s1, s2):\n",
    "    return sorted(s1) == sorted(s2)\n",
    "\n",
    "s1 = \"listen\"\n",
    "s2 = \"silent\"\n",
    "result = are_anagrams(s1, s2)\n",
    "print(result)\n"
   ]
  },
  {
   "cell_type": "markdown",
   "id": "7b493289-0d36-4df4-abed-2d724363b4db",
   "metadata": {},
   "source": [
    "5.Write code to find all occurrences of a given substring within another string"
   ]
  },
  {
   "cell_type": "code",
   "execution_count": null,
   "id": "dc940ced-2612-41c9-8b13-c2c4901bd23e",
   "metadata": {},
   "outputs": [],
   "source": [
    "def find_occurrences(text, substring):\n",
    "    start = 0\n",
    "    while True:\n",
    "        start = text.find(substring, start)\n",
    "        if start == -1:\n",
    "            break\n",
    "        yield start\n",
    "        start += len(substring)\n",
    "\n",
    "text = \"This is a test. This test is only a test.\"\n",
    "substring = \"test\"\n",
    "occurrences = list(find_occurrences(text, substring))\n",
    "print(occurrences)\n"
   ]
  },
  {
   "cell_type": "markdown",
   "id": "eeb03d4e-5663-4ba8-be31-ccc2238de7d6",
   "metadata": {},
   "source": [
    "6.Write code to perform basic string compression using the count of repeated characters"
   ]
  },
  {
   "cell_type": "code",
   "execution_count": null,
   "id": "0a371357-ea7c-4353-8261-633aa72aa09b",
   "metadata": {},
   "outputs": [],
   "source": [
    "def compress_string(s):\n",
    "    if not s:\n",
    "        return \"\"\n",
    "    compressed = []\n",
    "    count = 1\n",
    "    for i in range(1, len(s)):\n",
    "        if s[i] == s[i - 1]:\n",
    "            count += 1\n",
    "        else:\n",
    "            compressed.append(s[i - 1] + str(count))\n",
    "            count = 1\n",
    "    compressed.append(s[-1] + str(count))\n",
    "    return ''.join(compressed)\n",
    "\n",
    "s = \"aabbcccccaaa\"\n",
    "result = compress_string(s)\n",
    "print(result)\n"
   ]
  },
  {
   "cell_type": "markdown",
   "id": "784bb0d8-aebd-4e39-91d0-e17bc362a3d0",
   "metadata": {},
   "source": [
    "7.Write code to determine if a string has all unique characters:\n"
   ]
  },
  {
   "cell_type": "code",
   "execution_count": null,
   "id": "d8d3b891-4fce-44ae-a64c-b3ebb5e9a635",
   "metadata": {},
   "outputs": [],
   "source": [
    "def has_unique_characters(s):\n",
    "    return len(s) == len(set(s))\n",
    "\n",
    "s = \"abcdef\"\n",
    "result = has_unique_characters(s)\n",
    "print(result)"
   ]
  },
  {
   "cell_type": "markdown",
   "id": "fbc3d1db-2b5b-43e5-a8e2-d22d68027737",
   "metadata": {},
   "source": [
    "8.Write code to convert a given string to uppercase or lowercase:\n"
   ]
  },
  {
   "cell_type": "code",
   "execution_count": null,
   "id": "db227336-5726-4d85-be3a-e1751d416b47",
   "metadata": {},
   "outputs": [],
   "source": [
    "def convert_case(s, to_upper=True):\n",
    "    return s.upper() if to_upper else s.lower()\n",
    "\n",
    "s = \"Hello World\"\n",
    "result_upper = convert_case(s, to_upper=True)\n",
    "result_lower = convert_case(s, to_upper=False)\n",
    "print(result_upper)\n",
    "print(result_lower)"
   ]
  },
  {
   "cell_type": "markdown",
   "id": "77691ced-a813-4d00-b396-b549a2cafa0a",
   "metadata": {},
   "source": [
    "\n"
   ]
  },
  {
   "cell_type": "markdown",
   "id": "4bd1c55b-ee27-4157-8508-f5f753b06d98",
   "metadata": {},
   "source": [
    "9. Write a code to find all occurrences of a given substring within another string\n"
   ]
  },
  {
   "cell_type": "code",
   "execution_count": 31,
   "id": "c2efa4d7-c527-4204-8b83-aa5e236aabfd",
   "metadata": {},
   "outputs": [
    {
     "name": "stdout",
     "output_type": "stream",
     "text": [
      "[10, 21, 36]\n"
     ]
    }
   ],
   "source": [
    "def find_occurrences(text, substring):\n",
    "    start = 0\n",
    "    while True:\n",
    "        start = text.find(substring, start)\n",
    "        if start == -1:\n",
    "            break\n",
    "        yield start\n",
    "        start += len(substring)\n",
    "\n",
    "text = \"This is a test. This test is only a test.\"\n",
    "substring = \"test\"\n",
    "occurrences = list(find_occurrences(text, substring))\n",
    "print(occurrences)\n"
   ]
  },
  {
   "cell_type": "markdown",
   "id": "dd04c8e3-f75b-410b-8781-c53b73511d29",
   "metadata": {},
   "source": [
    "10. Write a code to concatenate two strings without using the + operator\n"
   ]
  },
  {
   "cell_type": "code",
   "execution_count": 3,
   "id": "d9bc4313-6c5d-4cf3-bf20-43554ba4f255",
   "metadata": {},
   "outputs": [
    {
     "name": "stdout",
     "output_type": "stream",
     "text": [
      "Hello, world!\n"
     ]
    }
   ],
   "source": [
    "def concatenate_strings(str1, str2):\n",
    "    return ''.join([str1, str2])\n",
    "\n",
    "str1 = \"Hello, \"\n",
    "str2 = \"world!\"\n",
    "result = concatenate_strings(str1, str2)\n",
    "print(result)\n"
   ]
  },
  {
   "cell_type": "markdown",
   "id": "dd1012f3-d095-4803-b0e8-4c2a8525227b",
   "metadata": {},
   "source": [
    "11. Write a code to remove all occurrences of a specific element from a list\n"
   ]
  },
  {
   "cell_type": "code",
   "execution_count": 4,
   "id": "73ba5c37-82e3-46a0-bc5e-180ace0fa582",
   "metadata": {},
   "outputs": [
    {
     "name": "stdout",
     "output_type": "stream",
     "text": [
      "[1, 3, 4, 5]\n"
     ]
    }
   ],
   "source": [
    "def remove_occurrences(lst, element):\n",
    "    return [x for x in lst if x != element]\n",
    "\n",
    "lst = [1, 2, 3, 2, 4, 2, 5]\n",
    "element = 2\n",
    "result = remove_occurrences(lst, element)\n",
    "print(result)\n"
   ]
  },
  {
   "cell_type": "markdown",
   "id": "bd6f285c-96c0-44f0-9988-527a89cd6bf0",
   "metadata": {},
   "source": [
    "12. Implement a code to find the second largest number in a given list of integers\n"
   ]
  },
  {
   "cell_type": "code",
   "execution_count": 5,
   "id": "ac867c91-91da-4ff7-a9a9-bce9a1b90a28",
   "metadata": {},
   "outputs": [
    {
     "name": "stdout",
     "output_type": "stream",
     "text": [
      "45\n"
     ]
    }
   ],
   "source": [
    "def second_largest(lst):\n",
    "    unique_lst = list(set(lst))\n",
    "    unique_lst.sort()\n",
    "    return unique_lst[-2] if len(unique_lst) > 1 else None\n",
    "\n",
    "lst = [10, 20, 4, 45, 99, 99, 45]\n",
    "result = second_largest(lst)\n",
    "print(result)\n"
   ]
  },
  {
   "cell_type": "markdown",
   "id": "f13d8ccb-f0a6-4193-919d-a6b38904ca81",
   "metadata": {},
   "source": [
    "13. Create a code to count the occurrences of each element in a list and return a dictionary with elements as keys and their counts as values\n"
   ]
  },
  {
   "cell_type": "code",
   "execution_count": 6,
   "id": "5d4e8609-c5b4-4d23-8b06-6963a01b2fce",
   "metadata": {},
   "outputs": [
    {
     "name": "stdout",
     "output_type": "stream",
     "text": [
      "{'apple': 2, 'banana': 3, 'orange': 1}\n"
     ]
    }
   ],
   "source": [
    "def count_occurrences(lst):\n",
    "    counts = {}\n",
    "    for item in lst:\n",
    "        counts[item] = counts.get(item, 0) + 1\n",
    "    return counts\n",
    "\n",
    "lst = ['apple', 'banana', 'apple', 'orange', 'banana', 'banana']\n",
    "result = count_occurrences(lst)\n",
    "print(result)\n",
    "\n"
   ]
  },
  {
   "cell_type": "markdown",
   "id": "4e10ac2a-fd32-441e-b248-8f209851e5e7",
   "metadata": {},
   "source": [
    "14. Write a code to reverse a list in-place without using any built-in reverse functions\n"
   ]
  },
  {
   "cell_type": "code",
   "execution_count": 7,
   "id": "a8b77555-9bb6-4038-910f-6593c93adf06",
   "metadata": {},
   "outputs": [
    {
     "name": "stdout",
     "output_type": "stream",
     "text": [
      "[5, 4, 3, 2, 1]\n"
     ]
    }
   ],
   "source": [
    "def reverse_list(lst):\n",
    "    left, right = 0, len(lst) - 1\n",
    "    while left < right:\n",
    "        lst[left], lst[right] = lst[right], lst[left]\n",
    "        left += 1\n",
    "        right -= 1\n",
    "\n",
    "lst = [1, 2, 3, 4, 5]\n",
    "reverse_list(lst)\n",
    "print(lst)\n"
   ]
  },
  {
   "cell_type": "markdown",
   "id": "8efe4cc3-42eb-4b36-9f80-19fb5c75a427",
   "metadata": {},
   "source": [
    "15. Implement a code to find and remove duplicates from a list while preserving the original order of elements\n"
   ]
  },
  {
   "cell_type": "code",
   "execution_count": 8,
   "id": "424d0c45-fc7a-4a54-afe3-6074f860ce49",
   "metadata": {},
   "outputs": [
    {
     "name": "stdout",
     "output_type": "stream",
     "text": [
      "[1, 2, 3, 4, 5]\n"
     ]
    }
   ],
   "source": [
    "def remove_duplicates(lst):\n",
    "    seen = set()\n",
    "    result = []\n",
    "    for item in lst:\n",
    "        if item not in seen:\n",
    "            result.append(item)\n",
    "            seen.add(item)\n",
    "    return result\n",
    "\n",
    "lst = [1, 2, 2, 3, 4, 4, 5]\n",
    "result = remove_duplicates(lst)\n",
    "print(result)\n"
   ]
  },
  {
   "cell_type": "markdown",
   "id": "ea9beb52-442b-46be-b546-9a1ef6844892",
   "metadata": {},
   "source": [
    "16. Create a code to check if a given list is sorted (either in ascending or descending order) or not\n"
   ]
  },
  {
   "cell_type": "code",
   "execution_count": 9,
   "id": "7e452d6d-a5ae-4166-aceb-003c92799ce7",
   "metadata": {},
   "outputs": [
    {
     "name": "stdout",
     "output_type": "stream",
     "text": [
      "True\n"
     ]
    }
   ],
   "source": [
    "def is_sorted(lst):\n",
    "    return lst == sorted(lst) or lst == sorted(lst, reverse=True)\n",
    "\n",
    "lst = [1, 2, 3, 4, 5]\n",
    "result = is_sorted(lst)\n",
    "print(result)\n"
   ]
  },
  {
   "cell_type": "markdown",
   "id": "a6047f3f-910f-470b-a9ea-f2085f6de1a7",
   "metadata": {},
   "source": [
    "17. Write a code to merge two sorted lists into a single sorted list\n"
   ]
  },
  {
   "cell_type": "code",
   "execution_count": 10,
   "id": "2c0e9442-6cf8-4299-9303-9e0e96b33bf9",
   "metadata": {},
   "outputs": [
    {
     "name": "stdout",
     "output_type": "stream",
     "text": [
      "[1, 2, 3, 4, 5, 6, 7, 8]\n"
     ]
    }
   ],
   "source": [
    "def merge_sorted_lists(lst1, lst2):\n",
    "    return sorted(lst1 + lst2)\n",
    "\n",
    "lst1 = [1, 3, 5, 7]\n",
    "lst2 = [2, 4, 6, 8]\n",
    "result = merge_sorted_lists(lst1, lst2)\n",
    "print(result)\n"
   ]
  },
  {
   "cell_type": "markdown",
   "id": "26efc6d5-3aa7-451f-8f2b-8a5c377860eb",
   "metadata": {},
   "source": [
    "18. Implement a code to find the intersection of two given lists\n"
   ]
  },
  {
   "cell_type": "code",
   "execution_count": 11,
   "id": "65ebb16c-8401-4b81-accd-b21c5ca24b66",
   "metadata": {},
   "outputs": [
    {
     "name": "stdout",
     "output_type": "stream",
     "text": [
      "[4, 5]\n"
     ]
    }
   ],
   "source": [
    "def intersection(lst1, lst2):\n",
    "    return list(set(lst1) & set(lst2))\n",
    "\n",
    "lst1 = [1, 2, 3, 4, 5]\n",
    "lst2 = [4, 5, 6, 7, 8]\n",
    "result = intersection(lst1, lst2)\n",
    "print(result)\n"
   ]
  },
  {
   "cell_type": "markdown",
   "id": "01832120-bee8-4a52-9f55-f1e1feebaff6",
   "metadata": {},
   "source": [
    "19. Create a code to find the union of two lists without duplicates\n"
   ]
  },
  {
   "cell_type": "code",
   "execution_count": 12,
   "id": "4e0a49d3-93b6-416c-88fb-e2d23c741791",
   "metadata": {},
   "outputs": [
    {
     "name": "stdout",
     "output_type": "stream",
     "text": [
      "[1, 2, 3, 4, 5, 6]\n"
     ]
    }
   ],
   "source": [
    "def union(lst1, lst2):\n",
    "    return list(set(lst1) | set(lst2))\n",
    "\n",
    "lst1 = [1, 2, 3, 4]\n",
    "lst2 = [3, 4, 5, 6]\n",
    "result = union(lst1, lst2)\n",
    "print(result)\n"
   ]
  },
  {
   "cell_type": "markdown",
   "id": "25b725fe-c2f9-4570-abbf-54f7009dbed4",
   "metadata": {},
   "source": [
    "20. Write a code to shuffle a given list randomly without using any built-in shuffle functions\n"
   ]
  },
  {
   "cell_type": "code",
   "execution_count": 13,
   "id": "3b82ec75-e670-45cd-9ee9-bf93f61706ef",
   "metadata": {},
   "outputs": [
    {
     "name": "stdout",
     "output_type": "stream",
     "text": [
      "[5, 4, 2, 3, 1]\n"
     ]
    }
   ],
   "source": [
    "import random\n",
    "\n",
    "def shuffle_list(lst):\n",
    "    lst_copy = lst[:]\n",
    "    for i in range(len(lst_copy) - 1, 0, -1):\n",
    "        j = random.randint(0, i)\n",
    "        lst_copy[i], lst_copy[j] = lst_copy[j], lst_copy[i]\n",
    "    return lst_copy\n",
    "\n",
    "lst = [1, 2, 3, 4, 5]\n",
    "result = shuffle_list(lst)\n",
    "print(result)\n"
   ]
  },
  {
   "cell_type": "markdown",
   "id": "b34c4879-331b-465d-9f2e-1ad984c874fc",
   "metadata": {},
   "source": [
    "21. Write a code that takes two tuples as input and returns a new tuple containing elements that are common to both input tuples\n"
   ]
  },
  {
   "cell_type": "code",
   "execution_count": 14,
   "id": "3faacdb9-c30a-460b-b511-d30ae4955afe",
   "metadata": {},
   "outputs": [
    {
     "name": "stdout",
     "output_type": "stream",
     "text": [
      "(3, 4)\n"
     ]
    }
   ],
   "source": [
    "def common_elements(tuple1, tuple2):\n",
    "    return tuple(set(tuple1) & set(tuple2))\n",
    "\n",
    "tuple1 = (1, 2, 3, 4)\n",
    "tuple2 = (3, 4, 5, 6)\n",
    "result = common_elements(tuple1, tuple2)\n",
    "print(result)\n"
   ]
  },
  {
   "cell_type": "markdown",
   "id": "09a0fd55-f82e-4ca0-8bb2-9ae37d6d1733",
   "metadata": {},
   "source": [
    "22. Create a code that prompts the user to enter two sets of integers separated by commas. Then, print the intersection of these two sets\n"
   ]
  },
  {
   "cell_type": "code",
   "execution_count": 17,
   "id": "0dd5228d-3709-4f07-af15-63274e7cabd5",
   "metadata": {},
   "outputs": [
    {
     "name": "stdin",
     "output_type": "stream",
     "text": [
      "Enter first set of integers separated by commas:  2,3,4,5,6,7\n",
      "Enter second set of integers separated by commas:  1,2,3,4,5,6,7,8\n"
     ]
    },
    {
     "name": "stdout",
     "output_type": "stream",
     "text": [
      "{2, 3, 4, 5, 6, 7}\n"
     ]
    }
   ],
   "source": [
    "def intersection_of_sets():\n",
    "    set1 = set(map(int, input(\"Enter first set of integers separated by commas: \").split(',')))\n",
    "    set2 = set(map(int, input(\"Enter second set of integers separated by commas: \").split(',')))\n",
    "    print(set1 & set2)\n",
    "\n",
    "intersection_of_sets()\n"
   ]
  },
  {
   "cell_type": "markdown",
   "id": "a8230318-e7c7-48b0-8c21-965c3bb531f7",
   "metadata": {},
   "source": [
    "23. Write a code to concatenate two tuples. The function should take two tuples as input and return a new tuple containing elements from both input tuples\n"
   ]
  },
  {
   "cell_type": "code",
   "execution_count": 18,
   "id": "d72158c1-0c4c-4834-a9d3-a6bb4714ea86",
   "metadata": {},
   "outputs": [
    {
     "name": "stdout",
     "output_type": "stream",
     "text": [
      "(1, 2, 3, 4, 5, 6)\n"
     ]
    }
   ],
   "source": [
    "def concatenate_tuples(tuple1, tuple2):\n",
    "    return tuple1 + tuple2\n",
    "\n",
    "tuple1 = (1, 2, 3)\n",
    "tuple2 = (4, 5, 6)\n",
    "result = concatenate_tuples(tuple1, tuple2)\n",
    "print(result)\n"
   ]
  },
  {
   "cell_type": "markdown",
   "id": "dc3a7145-38e2-4d57-af31-3c9516f582aa",
   "metadata": {},
   "source": [
    "24. Develop a code that prompts the user to input two sets of strings. Then, print the elements that are present in the first set but not in the second set\n"
   ]
  },
  {
   "cell_type": "code",
   "execution_count": 19,
   "id": "0ccfb4b2-c659-4049-a535-d749391366be",
   "metadata": {},
   "outputs": [
    {
     "name": "stdin",
     "output_type": "stream",
     "text": [
      "Enter first set of strings separated by commas:  1,2,3,4,5,6,7\n",
      "Enter second set of strings separated by commas:  8,7,6,5,4,3,2\n"
     ]
    },
    {
     "name": "stdout",
     "output_type": "stream",
     "text": [
      "{'1'}\n"
     ]
    }
   ],
   "source": [
    "def difference_of_sets():\n",
    "    set1 = set(input(\"Enter first set of strings separated by commas: \").split(','))\n",
    "    set2 = set(input(\"Enter second set of strings separated by commas: \").split(','))\n",
    "    print(set1 - set2)\n",
    "\n",
    "difference_of_sets()\n"
   ]
  },
  {
   "cell_type": "markdown",
   "id": "3926ab55-aaad-4815-80ba-54732f17d4a6",
   "metadata": {},
   "source": [
    "25. Create a code that takes a tuple and two integers as input. The function should return a new tuple containing elements from the original tuple within the specified range of indices\n"
   ]
  },
  {
   "cell_type": "code",
   "execution_count": 20,
   "id": "d79035ef-4ad7-4211-b6db-72ca332c7dd3",
   "metadata": {},
   "outputs": [
    {
     "name": "stdout",
     "output_type": "stream",
     "text": [
      "(3, 4)\n"
     ]
    }
   ],
   "source": [
    "def slice_tuple(tpl, start, end):\n",
    "    return tpl[start:end]\n",
    "\n",
    "tpl = (1, 2, 3, 4, 5, 6)\n",
    "start = 2\n",
    "end = 4\n",
    "result = slice_tuple(tpl, start, end)\n",
    "print(result)\n"
   ]
  },
  {
   "cell_type": "markdown",
   "id": "65828de5-b3b9-4aae-a292-0d5e924b1054",
   "metadata": {},
   "source": [
    "26. Write a code that prompts the user to input two sets of characters. Then, print the union of these two sets\n"
   ]
  },
  {
   "cell_type": "code",
   "execution_count": 21,
   "id": "758a3bc7-e1f1-499f-bd23-835015e324bd",
   "metadata": {},
   "outputs": [
    {
     "name": "stdin",
     "output_type": "stream",
     "text": [
      "Enter first set of characters separated by commas:  2,3,4,4\n",
      "Enter second set of characters separated by commas:  1,2,3,4,5,6,7,8,9\n"
     ]
    },
    {
     "name": "stdout",
     "output_type": "stream",
     "text": [
      "{'5', '1', '4', '8', '7', '3', '6', '9', '2'}\n"
     ]
    }
   ],
   "source": [
    "def union_of_sets():\n",
    "    set1 = set(input(\"Enter first set of characters separated by commas: \").split(','))\n",
    "    set2 = set(input(\"Enter second set of characters separated by commas: \").split(','))\n",
    "    print(set1 | set2)\n",
    "\n",
    "union_of_sets()\n"
   ]
  },
  {
   "cell_type": "markdown",
   "id": "82f37d26-e66e-4e18-89a4-b1427756a6b5",
   "metadata": {},
   "source": [
    "27. Develop a code that takes a tuple of integers as input. The function should return the maximum and minimum values from the tuple using tuple unpacking\n"
   ]
  },
  {
   "cell_type": "code",
   "execution_count": 22,
   "id": "96197415-4144-49e4-a3a8-e2b75beea858",
   "metadata": {},
   "outputs": [
    {
     "name": "stdout",
     "output_type": "stream",
     "text": [
      "Max: 9, Min: 1\n"
     ]
    }
   ],
   "source": [
    "def max_min_tuple(tpl):\n",
    "    return max(tpl), min(tpl)\n",
    "\n",
    "tpl = (3, 1, 4, 1, 5, 9, 2)\n",
    "max_val, min_val = max_min_tuple(tpl)\n",
    "print(f\"Max: {max_val}, Min: {min_val}\")\n"
   ]
  },
  {
   "cell_type": "markdown",
   "id": "31700431-efe2-4c95-a108-6f6762d8fbd7",
   "metadata": {},
   "source": [
    "28. Create a code that defines two sets of integers. Then, print the union, intersection, and difference of these two sets\n"
   ]
  },
  {
   "cell_type": "code",
   "execution_count": 23,
   "id": "97fa0a3b-d2e1-4169-9384-57bf3c33861a",
   "metadata": {},
   "outputs": [
    {
     "name": "stdin",
     "output_type": "stream",
     "text": [
      "Enter first set of integers separated by commas:  1,2,3,4,5,6,7,8,9\n",
      "Enter second set of integers separated by commas:  2,3,4,6\n"
     ]
    },
    {
     "name": "stdout",
     "output_type": "stream",
     "text": [
      "Union: {1, 2, 3, 4, 5, 6, 7, 8, 9}\n",
      "Intersection: {2, 3, 4, 6}\n",
      "Difference (set1 - set2): {1, 5, 7, 8, 9}\n",
      "Difference (set2 - set1): set()\n"
     ]
    }
   ],
   "source": [
    "def set_operations():\n",
    "    set1 = set(map(int, input(\"Enter first set of integers separated by commas: \").split(',')))\n",
    "    set2 = set(map(int, input(\"Enter second set of integers separated by commas: \").split(',')))\n",
    "    \n",
    "    print(\"Union:\", set1 | set2)\n",
    "    print(\"Intersection:\", set1 & set2)\n",
    "    print(\"Difference (set1 - set2):\", set1 - set2)\n",
    "    print(\"Difference (set2 - set1):\", set2 - set1)\n",
    "\n",
    "set_operations()\n"
   ]
  },
  {
   "cell_type": "markdown",
   "id": "7cb30b37-9060-4a7d-b701-619eb016635e",
   "metadata": {},
   "source": [
    "29. Write a code that takes a tuple and an element as input. The function should return the count of occurrences of the given element in the tuple\n"
   ]
  },
  {
   "cell_type": "code",
   "execution_count": 24,
   "id": "19630b08-679c-4e77-88c6-e7d8bb4a6c2c",
   "metadata": {},
   "outputs": [
    {
     "name": "stdout",
     "output_type": "stream",
     "text": [
      "3\n"
     ]
    }
   ],
   "source": [
    "def count_element(tpl, element):\n",
    "    return tpl.count(element)\n",
    "\n",
    "tpl = (1, 2, 3, 4, 2, 2, 5)\n",
    "element = 2\n",
    "result = count_element(tpl, element)\n",
    "print(result)\n"
   ]
  },
  {
   "cell_type": "markdown",
   "id": "2d5db266-9911-42a5-baae-8d75cc170c5d",
   "metadata": {},
   "source": [
    "30. Develop a code that prompts the user to input two sets of strings. Then, print the symmetric difference of these two sets\n"
   ]
  },
  {
   "cell_type": "code",
   "execution_count": 25,
   "id": "a077397a-9cab-4453-be19-b636b918a0c4",
   "metadata": {},
   "outputs": [
    {
     "name": "stdin",
     "output_type": "stream",
     "text": [
      "Enter first set of strings separated by commas:  3,4,5,6,7\n",
      "Enter second set of strings separated by commas:  2,1,3,5,7\n"
     ]
    },
    {
     "name": "stdout",
     "output_type": "stream",
     "text": [
      "{'1', '4', '6', '2'}\n"
     ]
    }
   ],
   "source": [
    "def symmetric_difference_of_sets():\n",
    "    set1 = set(input(\"Enter first set of strings separated by commas: \").split(','))\n",
    "    set2 = set(input(\"Enter second set of strings separated by commas: \").split(','))\n",
    "    print(set1 ^ set2)\n",
    "\n",
    "symmetric_difference_of_sets()\n"
   ]
  },
  {
   "cell_type": "markdown",
   "id": "c551e061-0f20-444d-9304-d615db0e3c89",
   "metadata": {},
   "source": [
    "31. Write a code that takes a list of words as input and returns a dictionary where the keys are unique words and the values are the frequencies of those words in the input list\n"
   ]
  },
  {
   "cell_type": "code",
   "execution_count": 26,
   "id": "65cec4dc-57ff-432a-9ab0-51e4c4e25d63",
   "metadata": {},
   "outputs": [
    {
     "name": "stdout",
     "output_type": "stream",
     "text": [
      "{'orange': 1, 'banana': 3, 'apple': 2}\n"
     ]
    }
   ],
   "source": [
    "def word_frequencies(word_list):\n",
    "    return {word: word_list.count(word) for word in set(word_list)}\n",
    "\n",
    "word_list = ['apple', 'banana', 'apple', 'orange', 'banana', 'banana']\n",
    "result = word_frequencies(word_list)\n",
    "print(result)\n"
   ]
  },
  {
   "cell_type": "markdown",
   "id": "99b0d959-649e-4bfc-99dc-e65991896b25",
   "metadata": {},
   "source": [
    "32. Write a code that takes two dictionaries as input and merges them into a single dictionary. If there are common keys, the values should be added together\n"
   ]
  },
  {
   "cell_type": "code",
   "execution_count": 27,
   "id": "d4bfe477-79fc-4391-a002-3e804e28d662",
   "metadata": {},
   "outputs": [
    {
     "name": "stdout",
     "output_type": "stream",
     "text": [
      "{'a': 1, 'b': 5, 'c': 4}\n"
     ]
    }
   ],
   "source": [
    "def merge_dicts(dict1, dict2):\n",
    "    result = dict1.copy()\n",
    "    for key, value in dict2.items():\n",
    "        result[key] = result.get(key, 0) + value\n",
    "    return result\n",
    "\n",
    "dict1 = {'a': 1, 'b': 2}\n",
    "dict2 = {'b': 3, 'c': 4}\n",
    "result = merge_dicts(dict1, dict2)\n",
    "print(result)\n"
   ]
  },
  {
   "cell_type": "markdown",
   "id": "ce08be69-c16f-4c11-926d-f458cee81727",
   "metadata": {},
   "source": [
    "33. Write a code to access a value in a nested dictionary. The function should take the dictionary and a list of keys as input, and return the corresponding value. If any of the keys do not exist in the dictionary, the function should return None\n"
   ]
  },
  {
   "cell_type": "code",
   "execution_count": 28,
   "id": "3bdd2d22-6608-4bfa-97c4-51d9897224f1",
   "metadata": {},
   "outputs": [
    {
     "name": "stdout",
     "output_type": "stream",
     "text": [
      "42\n"
     ]
    }
   ],
   "source": [
    "def get_nested_value(d, keys):\n",
    "    for key in keys:\n",
    "        if isinstance(d, dict) and key in d:\n",
    "            d = d[key]\n",
    "        else:\n",
    "            return None\n",
    "    return d\n",
    "\n",
    "nested_dict = {'a': {'b': {'c': 42}}}\n",
    "keys = ['a', 'b', 'c']\n",
    "result = get_nested_value(nested_dict, keys)\n",
    "print(result)\n"
   ]
  },
  {
   "cell_type": "markdown",
   "id": "cc403c82-7a1d-41b3-a7b0-fea24ed0027d",
   "metadata": {},
   "source": [
    "34. Write a code that takes a dictionary as input and returns a sorted version of it based on the values. You can choose whether to sort in ascending or descending order\n"
   ]
  },
  {
   "cell_type": "code",
   "execution_count": 29,
   "id": "8d924fd9-ad29-40ab-95ac-540fc7c714ee",
   "metadata": {},
   "outputs": [
    {
     "name": "stdout",
     "output_type": "stream",
     "text": [
      "{'b': 1, 'c': 2, 'a': 3}\n"
     ]
    }
   ],
   "source": [
    "def sort_dict_by_values(d, reverse=False):\n",
    "    return dict(sorted(d.items(), key=lambda item: item[1], reverse=reverse))\n",
    "\n",
    "d = {'a': 3, 'b': 1, 'c': 2}\n",
    "result = sort_dict_by_values(d)\n",
    "print(result)\n"
   ]
  },
  {
   "cell_type": "markdown",
   "id": "c1df19da-05a3-4cf9-b14f-d3b37671e1f0",
   "metadata": {},
   "source": [
    "35. Write a code that inverts a dictionary, swapping keys and values. Ensure that the inverted dictionary correctly handles cases where multiple keys have the same value by storing the keys as a list in the inverted dictionary."
   ]
  },
  {
   "cell_type": "code",
   "execution_count": 30,
   "id": "67b47b5e-c668-4b96-9079-93859078e9f8",
   "metadata": {},
   "outputs": [
    {
     "name": "stdout",
     "output_type": "stream",
     "text": [
      "{1: ['a', 'c'], 2: ['b']}\n"
     ]
    }
   ],
   "source": [
    "def invert_dict(d):\n",
    "    inverted = {}\n",
    "    for key, value in d.items():\n",
    "        if value not in inverted:\n",
    "            inverted[value] = [key]\n",
    "        else:\n",
    "            inverted[value].append(key)\n",
    "    return inverted\n",
    "\n",
    "d = {'a': 1, 'b': 2, 'c': 1}\n",
    "result = invert_dict(d)\n",
    "print(result)\n"
   ]
  },
  {
   "cell_type": "code",
   "execution_count": null,
   "id": "f381c181-955c-4108-a657-f08084b4100c",
   "metadata": {},
   "outputs": [],
   "source": []
  },
  {
   "cell_type": "code",
   "execution_count": null,
   "id": "4ed742cb-4866-4320-aa54-20df21b9a8bc",
   "metadata": {},
   "outputs": [],
   "source": []
  }
 ],
 "metadata": {
  "kernelspec": {
   "display_name": "Python 3 (ipykernel)",
   "language": "python",
   "name": "python3"
  },
  "language_info": {
   "codemirror_mode": {
    "name": "ipython",
    "version": 3
   },
   "file_extension": ".py",
   "mimetype": "text/x-python",
   "name": "python",
   "nbconvert_exporter": "python",
   "pygments_lexer": "ipython3",
   "version": "3.12.4"
  }
 },
 "nbformat": 4,
 "nbformat_minor": 5
}
