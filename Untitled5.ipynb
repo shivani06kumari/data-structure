{
  "nbformat": 4,
  "nbformat_minor": 0,
  "metadata": {
    "colab": {
      "provenance": [],
      "include_colab_link": true
    },
    "kernelspec": {
      "name": "python3",
      "display_name": "Python 3"
    },
    "language_info": {
      "name": "python"
    }
  },
  "cells": [
    {
      "cell_type": "markdown",
      "metadata": {
        "id": "view-in-github",
        "colab_type": "text"
      },
      "source": [
        "<a href=\"https://colab.research.google.com/github/shivani06kumari/data-structure/blob/main/Untitled5.ipynb\" target=\"_parent\"><img src=\"https://colab.research.google.com/assets/colab-badge.svg\" alt=\"Open In Colab\"/></a>"
      ]
    },
    {
      "cell_type": "markdown",
      "source": [
        "\n",
        "***THEORY QUESTION***\n"
      ],
      "metadata": {
        "id": "mYcH3Ipc7njY"
      }
    },
    {
      "cell_type": "markdown",
      "source": [
        "**Que 1 What is the difference between a function and a method in Python?**"
      ],
      "metadata": {
        "id": "tpl71Tkdp5dT"
      }
    },
    {
      "cell_type": "markdown",
      "source": [
        "**Method**\n",
        "1.  Method is called by its name, but it is associated to an object (dependent).\n",
        "2.   A method definition always includes ‘self’ as its first parameter\n"
      ],
      "metadata": {
        "id": "IabXCMn5rtxL"
      }
    },
    {
      "cell_type": "code",
      "source": [
        "class Calculator:\n",
        "    def add(self, a, b):\n",
        "        return a + b\n",
        "\n",
        "calc = Calculator()\n",
        "print(calc.add(3, 4))"
      ],
      "metadata": {
        "colab": {
          "base_uri": "https://localhost:8080/"
        },
        "id": "oGJ-xpLayd-3",
        "outputId": "c6e54f32-0269-4215-ac15-285ca3b3e828"
      },
      "execution_count": null,
      "outputs": [
        {
          "output_type": "stream",
          "name": "stdout",
          "text": [
            "7\n"
          ]
        }
      ]
    },
    {
      "cell_type": "markdown",
      "source": [
        "**Function**\n",
        "1.   Definition: A function is a block of reusable code that is defined using the def keyword. It can be called independently in the global scope.\n",
        "2.   Syntax: Defined using the def keyword followed by the function name and parentheses (). It may take arguments and return a value."
      ],
      "metadata": {
        "id": "2sGpmICFyH37"
      }
    },
    {
      "cell_type": "code",
      "source": [
        "#EXAMPLE\n",
        "def add(a, b):\n",
        "        return a + b\n",
        "result = add(3, 4)\n",
        "print(result)"
      ],
      "metadata": {
        "colab": {
          "base_uri": "https://localhost:8080/"
        },
        "id": "8WcI8u45yyV8",
        "outputId": "535d411a-981f-40b0-9f57-c8744553d760"
      },
      "execution_count": null,
      "outputs": [
        {
          "output_type": "stream",
          "name": "stdout",
          "text": [
            "7\n"
          ]
        }
      ]
    },
    {
      "cell_type": "markdown",
      "source": [
        "**2. Explain the concept of function arguments and parameters in Python.**\n"
      ],
      "metadata": {
        "id": "a4Lx6NS6rMsn"
      }
    },
    {
      "cell_type": "markdown",
      "source": [
        "*   An **argument** is a value that is passed to a\n",
        " function when it is called. It might be a variable, value or object passed to a function or method as input. They are written when we are calling the function.\n",
        "\n",
        "*  Arguments are the values passed to the function when it is called.\n",
        "\n",
        "1.  Default Arguments\n",
        "2.   Arbitrary Arguments\n",
        "3.   Required Arguments\n",
        "4.  Keyword Arguments\n",
        "\n"
      ],
      "metadata": {
        "id": "wlCaTCVLzh5c"
      }
    },
    {
      "cell_type": "code",
      "source": [
        "def sum(a,b):\n",
        "  print(a+b)\n",
        "\n",
        "# Here the values 1,2 are arguments\n",
        "sum(1,2)"
      ],
      "metadata": {
        "colab": {
          "base_uri": "https://localhost:8080/"
        },
        "id": "pryTwwH20huy",
        "outputId": "bcbb948d-0c96-4b83-e1d0-7cbe4c824c31"
      },
      "execution_count": null,
      "outputs": [
        {
          "output_type": "stream",
          "name": "stdout",
          "text": [
            "3\n"
          ]
        }
      ]
    },
    {
      "cell_type": "markdown",
      "source": [
        "*   A** parameter** is the variable defined within the parentheses during function definition. Simply they are written when we declare a function.\n",
        "*   Parameters are the variables listed inside the parentheses in the function definition.\n",
        "\n"
      ],
      "metadata": {
        "id": "fBxLfo560HcJ"
      }
    },
    {
      "cell_type": "code",
      "source": [
        "# Here a,b are the parameters\n",
        "def sum(a,b):\n",
        "  print(a+b)\n",
        "\n",
        "sum(1,2)"
      ],
      "metadata": {
        "colab": {
          "base_uri": "https://localhost:8080/"
        },
        "id": "nc4VD6o60UUI",
        "outputId": "97ed5e14-0113-435e-e405-889a8ba1fd94"
      },
      "execution_count": null,
      "outputs": [
        {
          "output_type": "stream",
          "name": "stdout",
          "text": [
            "3\n"
          ]
        }
      ]
    },
    {
      "cell_type": "markdown",
      "source": [
        " **3. What are the different ways to define and call a function in Python?**"
      ],
      "metadata": {
        "id": "3Vem4jZsrIrC"
      }
    },
    {
      "cell_type": "markdown",
      "source": [
        "To define a function, you use the def keyword followed by the name of the function and parentheses (). If the function takes any arguments, they are included within the parentheses. The code block for the function is then indented after the colon."
      ],
      "metadata": {
        "id": "aA1b8gPL1pqT"
      }
    },
    {
      "cell_type": "code",
      "source": [
        "def greet(name):\n",
        "    print(\"Hello, \" + name + \"! How are you?\")\n",
        "greet('rashika')"
      ],
      "metadata": {
        "id": "pxhOLyhx1o8l",
        "colab": {
          "base_uri": "https://localhost:8080/"
        },
        "outputId": "f0a57f3d-9f2c-4cee-df17-1606e8c5139d"
      },
      "execution_count": null,
      "outputs": [
        {
          "output_type": "stream",
          "name": "stdout",
          "text": [
            "Hello, rashika! How are you?\n"
          ]
        }
      ]
    },
    {
      "cell_type": "markdown",
      "source": [
        "**4. What is the purpose of the `return` statement in a Python function?**"
      ],
      "metadata": {
        "id": "DMVHrSlerBRL"
      }
    },
    {
      "cell_type": "markdown",
      "source": [
        "A return statement is used to end the execution of the function call and “returns” the result (value of the expression following the return keyword) to the caller. The statements after the return statements are not executed. If the return statement is without any expression, then the special value None is returned. A return statement is overall used to invoke a function so that the passed statements can be executed."
      ],
      "metadata": {
        "id": "dXPheYaYEKSl"
      }
    },
    {
      "cell_type": "code",
      "source": [
        "def addition(n):\n",
        "    return n + n\n",
        "numbers = (1, 2, 3, 4)\n",
        "result = map(addition, numbers)\n",
        "print(list(result))"
      ],
      "metadata": {
        "colab": {
          "base_uri": "https://localhost:8080/"
        },
        "id": "kcVNc1GGEYN9",
        "outputId": "16097955-7a87-4653-a5f0-b696d81e5f5a"
      },
      "execution_count": null,
      "outputs": [
        {
          "output_type": "stream",
          "name": "stdout",
          "text": [
            "[2, 4, 6, 8]\n"
          ]
        }
      ]
    },
    {
      "cell_type": "markdown",
      "source": [
        "*** 5. What are iterators in Python and how do they differ from iterables?***"
      ],
      "metadata": {
        "id": "zBEmFFmiq6Fh"
      }
    },
    {
      "cell_type": "markdown",
      "source": [
        "\n",
        "Iterator: Represents a position within a collection and provides access to the next item.\n",
        "\n",
        "An iterator is an object which must implement the iterator protocol consisting of the two methods __iter__() and __next__() (see Iterator Types)."
      ],
      "metadata": {
        "id": "WLCAhF37DIDA"
      }
    },
    {
      "cell_type": "code",
      "source": [
        "# list of cities\n",
        "cities = [\"Berlin\", \"Vienna\", \"Zurich\"]\n",
        "\n",
        "# initialize the object\n",
        "iterator_obj = iter(cities)\n",
        "\n",
        "print(next(iterator_obj))\n",
        "print(next(iterator_obj))\n",
        "print(next(iterator_obj))"
      ],
      "metadata": {
        "colab": {
          "base_uri": "https://localhost:8080/"
        },
        "id": "F_otOqIHD4CT",
        "outputId": "9f5431cf-c8ee-42f3-9142-a6ff5e31ebd1"
      },
      "execution_count": null,
      "outputs": [
        {
          "output_type": "stream",
          "name": "stdout",
          "text": [
            "Berlin\n",
            "Vienna\n",
            "Zurich\n"
          ]
        }
      ]
    },
    {
      "cell_type": "markdown",
      "source": [
        "Iterable is a sequence that can be iterated over, i.e., you can use a for loop to iterate over the elements in the sequence\n",
        "\n",
        "Iterable: Represents a collection of items and can produce iterators."
      ],
      "metadata": {
        "id": "tTEAA21WDYmU"
      }
    },
    {
      "cell_type": "code",
      "source": [
        "colors = ['Black', 'Purple', 'Green']\n",
        "for color in colors:\n",
        "    print(color)"
      ],
      "metadata": {
        "id": "719MwNf6DoL8"
      },
      "execution_count": null,
      "outputs": []
    },
    {
      "cell_type": "markdown",
      "source": [
        "**6. Explain the concept of generators in Python and how they are defined.**"
      ],
      "metadata": {
        "id": "sGoCMwnvq3n5"
      }
    },
    {
      "cell_type": "markdown",
      "source": [
        "Generators are defined using the def keyword, just like regular functions, but they use the yield keyword to return values instead of return"
      ],
      "metadata": {
        "id": "RFZWFwyHBq0M"
      }
    },
    {
      "cell_type": "code",
      "source": [
        "def count_up_to(n):\n",
        "    count = 1\n",
        "    while count <= n:\n",
        "        yield count\n",
        "        count += 1\n",
        "\n",
        "# Using the generator\n",
        "counter = count_up_to(5)\n",
        "print(next(counter))\n",
        "print(next(counter))\n",
        "print(next(counter))\n",
        "print(next(counter))\n",
        "print(next(counter))\n",
        "\n"
      ],
      "metadata": {
        "colab": {
          "base_uri": "https://localhost:8080/"
        },
        "id": "Lr6XOeZqBwmQ",
        "outputId": "e93bc772-fb17-4eb1-d203-b53ba9219fc0"
      },
      "execution_count": null,
      "outputs": [
        {
          "output_type": "stream",
          "name": "stdout",
          "text": [
            "1\n",
            "2\n",
            "3\n",
            "4\n",
            "5\n"
          ]
        }
      ]
    },
    {
      "cell_type": "markdown",
      "source": [
        "**7. What are the advantages of using generators over regular functions?**"
      ],
      "metadata": {
        "id": "eMq5Z3BQq1Pu"
      }
    },
    {
      "cell_type": "markdown",
      "source": [
        "Generators in Python are a special type of iterator that allows you to iterate over a sequence of values lazily. They are defined using the yield keyword, which allows them to return intermediate results and resume where they left off.\n",
        "Lazy Evaluation:\n",
        "\n",
        "Generators use lazy evaluation, producing items only as they are needed. This can lead to performance improvements, as it avoids computing all values upfront.\n",
        "\n",
        "Memory Efficiency:\n",
        "\n",
        "Generators produce items one at a time and only when required, which means they don't need to store the entire sequence in memory. This is particularly advantageous for working with large datasets.\n",
        "\n",
        "Generators can produce infinite sequences, which is not feasible with regular functions or lists."
      ],
      "metadata": {
        "id": "l0In2GeVA81Q"
      }
    },
    {
      "cell_type": "code",
      "source": [
        "def infinite_sequence():\n",
        "    num = 0\n",
        "    while True:\n",
        "        yield num\n",
        "        num += 1\n",
        "\n",
        "seq = infinite_sequence()\n",
        "print(next(seq))  # Output: 0\n",
        "print(next(seq))  # Output: 1\n"
      ],
      "metadata": {
        "colab": {
          "base_uri": "https://localhost:8080/"
        },
        "id": "ux7jAP6FBafe",
        "outputId": "24869fa4-c42d-4835-e7a4-2f372a0a540a"
      },
      "execution_count": null,
      "outputs": [
        {
          "output_type": "stream",
          "name": "stdout",
          "text": [
            "0\n",
            "1\n"
          ]
        }
      ]
    },
    {
      "cell_type": "markdown",
      "source": [
        "**8. What is a lambda function in Python and when is it typically used?**"
      ],
      "metadata": {
        "id": "kOZAfr5Eqy2O"
      }
    },
    {
      "cell_type": "markdown",
      "source": [
        "lambda argument(s) : expression\n",
        "lambda is a keyword in Python for defining the anonymous function.\n",
        "\n",
        "argument(s) is a placeholder, that is a variable that will be used to hold the value you want to pass into the function expression. A lambda function can have multiple variables depending on what you want to achieve.\n",
        "\n",
        "expression is the code you want to execute in the lambda function\n",
        "\n",
        "In Python, a lambda function is a small anonymous function defined using the lambda keyword. Lambda functions can have any number of arguments but only one expression. They are syntactically restricted to a single expression, making them useful for simple operations that are typically used as arguments to higher-order functions like map(), filter(), and reduce()"
      ],
      "metadata": {
        "id": "DuwPMCkV-SOk"
      }
    },
    {
      "cell_type": "code",
      "source": [
        "(lambda x : x * 2)(3)"
      ],
      "metadata": {
        "colab": {
          "base_uri": "https://localhost:8080/"
        },
        "id": "waDUw0SmADOf",
        "outputId": "2f9fc655-1fff-4de3-a45c-264fd547d852"
      },
      "execution_count": null,
      "outputs": [
        {
          "output_type": "execute_result",
          "data": {
            "text/plain": [
              "6"
            ]
          },
          "metadata": {},
          "execution_count": 31
        }
      ]
    },
    {
      "cell_type": "code",
      "source": [
        "numbers = [1, 2, 3, 4, 5]\n",
        "doubled = list(map(lambda x: x * 2, numbers))\n",
        "print(doubled)"
      ],
      "metadata": {
        "colab": {
          "base_uri": "https://localhost:8080/"
        },
        "id": "9-p7snpDAaiz",
        "outputId": "eccb9f42-f31c-4898-af69-d78ef907d8a3"
      },
      "execution_count": null,
      "outputs": [
        {
          "output_type": "stream",
          "name": "stdout",
          "text": [
            "[2, 4, 6, 8, 10]\n"
          ]
        }
      ]
    },
    {
      "cell_type": "code",
      "source": [
        "list1 = [1, 2, 3, 4, 5, 6, 7, 8, 9, 10]\n",
        "filter(lambda x: x % 2 == 0, list1)\n",
        "\n",
        "list(filter(lambda x: x % 2 == 0, list1))\n"
      ],
      "metadata": {
        "colab": {
          "base_uri": "https://localhost:8080/"
        },
        "id": "NL1FhqQz_rCv",
        "outputId": "ff20b801-d54d-43ca-c83b-6bc65689ec9b"
      },
      "execution_count": null,
      "outputs": [
        {
          "output_type": "execute_result",
          "data": {
            "text/plain": [
              "[2, 4, 6, 8, 10]"
            ]
          },
          "metadata": {},
          "execution_count": 30
        }
      ]
    },
    {
      "cell_type": "markdown",
      "source": [
        "**9. Explain the purpose and usage of the `map()` function in Python.**"
      ],
      "metadata": {
        "id": "QgYplasXqwMF"
      }
    },
    {
      "cell_type": "markdown",
      "source": [
        "map() function returns a map object(which is an iterator) of the results after applying the given function to each item of a given iterable (list, tuple etc.)"
      ],
      "metadata": {
        "id": "qvjqUD5g8XGJ"
      }
    },
    {
      "cell_type": "code",
      "source": [
        "def addition(n):\n",
        "    return n + n\n",
        "numbers = (1, 2, 3, 4)\n",
        "result = map(addition, numbers)\n",
        "print(list(result))"
      ],
      "metadata": {
        "colab": {
          "base_uri": "https://localhost:8080/"
        },
        "id": "Xf0FT1Ac8bgl",
        "outputId": "63ab859c-45d7-4961-a8e3-c1057823a8ac"
      },
      "execution_count": null,
      "outputs": [
        {
          "output_type": "stream",
          "name": "stdout",
          "text": [
            "[2, 4, 6, 8]\n"
          ]
        }
      ]
    },
    {
      "cell_type": "markdown",
      "source": [
        "***10. What is the difference between `map()`, `reduce()`, and `filter()` functions in Python? ***"
      ],
      "metadata": {
        "id": "3oQm8EsIqtNI"
      }
    },
    {
      "cell_type": "markdown",
      "source": [
        "1.   MAP : Applies a specified function to each item of an iterable (e.g., list) and returns a map object (which is an iterator).\n",
        "2. Syntax: map(function, iterable, ...)\n",
        "\n"
      ],
      "metadata": {
        "id": "uNAcPnrmtS5Z"
      }
    },
    {
      "cell_type": "code",
      "source": [
        "def addition(n):\n",
        "    return n * n\n",
        "numbers = (1, 2, 3, 4)\n",
        "result = map(addition, numbers)\n",
        "print(list(result))"
      ],
      "metadata": {
        "colab": {
          "base_uri": "https://localhost:8080/"
        },
        "id": "KqlkcADo92hH",
        "outputId": "a6716cfc-49e1-4086-c51a-1feed3844916"
      },
      "execution_count": null,
      "outputs": [
        {
          "output_type": "stream",
          "name": "stdout",
          "text": [
            "[1, 4, 9, 16]\n"
          ]
        }
      ]
    },
    {
      "cell_type": "markdown",
      "source": [
        "reduce()\n",
        "1.   Purpose: Applies a specified function cumulatively to the items of an iterable, from left to right, to reduce the iterable to a single value.\n",
        "2.  Syntax: reduce(function, iterable[, initializer])\n",
        "\n"
      ],
      "metadata": {
        "id": "wEi4AMmRxY_k"
      }
    },
    {
      "cell_type": "code",
      "source": [
        "from functools import reduce\n",
        "\n",
        "def add(x, y):\n",
        "    return x + y\n",
        "\n",
        "numbers = [1, 2, 3, 4, 5]\n",
        "sum_of_numbers = reduce(add, numbers)\n",
        "print(sum_of_numbers)"
      ],
      "metadata": {
        "colab": {
          "base_uri": "https://localhost:8080/"
        },
        "id": "cYOR8iaz_B71",
        "outputId": "31f85af8-c126-4d6e-86d9-bc666dbf4b9d"
      },
      "execution_count": null,
      "outputs": [
        {
          "output_type": "stream",
          "name": "stdout",
          "text": [
            "15\n"
          ]
        }
      ]
    },
    {
      "cell_type": "markdown",
      "source": [
        "filter()\n",
        "1.  Purpose: Constructs an iterator from elements of an iterable for which a specified function returns True.\n",
        "2. Syntax: filter(function, iterable)"
      ],
      "metadata": {
        "id": "Ia9oT8qxxsXE"
      }
    },
    {
      "cell_type": "code",
      "source": [
        "def is_even(x):\n",
        "    return x % 2 == 0\n",
        "\n",
        "numbers = [1, 2, 3, 4, 5]\n",
        "even_numbers = filter(is_even, numbers)\n",
        "print(list(even_numbers))"
      ],
      "metadata": {
        "colab": {
          "base_uri": "https://localhost:8080/"
        },
        "id": "dx7SOhyR_Jmp",
        "outputId": "04eaf422-9cc5-42f1-8e79-1656d3bea517"
      },
      "execution_count": null,
      "outputs": [
        {
          "output_type": "stream",
          "name": "stdout",
          "text": [
            "[2, 4]\n"
          ]
        }
      ]
    },
    {
      "cell_type": "markdown",
      "source": [
        "**11. Using pen & Paper write the internal mechanism for sum operation using  reduce function on this given list:[47,11,42,13];**"
      ],
      "metadata": {
        "id": "rYHzHqk_qqEd"
      }
    },
    {
      "cell_type": "markdown",
      "source": [
        "![question11.jpeg](data:image/jpeg;base64,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)"
      ],
      "metadata": {
        "id": "1Kyfs2kN7diO"
      }
    },
    {
      "cell_type": "code",
      "source": [
        "from functools import reduce\n",
        "list = [47,11,42,13]\n",
        "result = reduce(lambda x,y:x+y ,list)\n",
        "print(result)"
      ],
      "metadata": {
        "colab": {
          "base_uri": "https://localhost:8080/"
        },
        "id": "vuxXV86psEbi",
        "outputId": "e4497b91-7d1c-4207-e917-39460475c278"
      },
      "execution_count": null,
      "outputs": [
        {
          "output_type": "stream",
          "name": "stdout",
          "text": [
            "113\n"
          ]
        }
      ]
    },
    {
      "cell_type": "markdown",
      "source": [
        "**PRACTICAL QUESTION**"
      ],
      "metadata": {
        "id": "tJi5_QPEKKCE"
      }
    },
    {
      "cell_type": "markdown",
      "source": [
        "**1.Write a Python function that takes a list of numbers as input and returns the sum of all even numbers in the list**"
      ],
      "metadata": {
        "id": "lMU-hB0NGMNR"
      }
    },
    {
      "cell_type": "code",
      "source": [
        "def plus(numbers):\n",
        "  sum =0\n",
        "  for i in numbers:\n",
        "    if i%2==0:\n",
        "      sum=sum+i\n",
        "  return sum\n",
        "numbers=input(\"enter the number: \")\n",
        "print(plus(list(map(int, numbers.split()))))\n"
      ],
      "metadata": {
        "colab": {
          "base_uri": "https://localhost:8080/"
        },
        "id": "wRmz44H-GZte",
        "outputId": "2d30c9f8-0b0b-45c8-92c1-a7c23f0c9882"
      },
      "execution_count": null,
      "outputs": [
        {
          "output_type": "stream",
          "name": "stdout",
          "text": [
            "enter the number: 6 5 5 7 9 1\n",
            "6\n"
          ]
        }
      ]
    },
    {
      "cell_type": "markdown",
      "source": [
        "**2. Create a Python function that accepts a string and returns the reverse of that string.**"
      ],
      "metadata": {
        "id": "mksHWCyOGcgp"
      }
    },
    {
      "cell_type": "code",
      "source": [
        "def reverse(string):\n",
        "  return string[::-1]\n",
        "string =input(\"ENTER THE STRING :\")\n",
        "print(reverse(string))"
      ],
      "metadata": {
        "colab": {
          "base_uri": "https://localhost:8080/"
        },
        "id": "vv9cssOsGkJ0",
        "outputId": "8c6696d5-2535-4330-9d28-e71e4820d4ea"
      },
      "execution_count": null,
      "outputs": [
        {
          "output_type": "stream",
          "name": "stdout",
          "text": [
            "ENTER THE STRING :rashika singhal is great\n",
            "taerg si lahgnis akihsar\n"
          ]
        }
      ]
    },
    {
      "cell_type": "markdown",
      "source": [
        "**3.Implement a Python function that takes a list of integers and returns a new list containing the squares of each number**"
      ],
      "metadata": {
        "id": "bS8Ec7VpGpgG"
      }
    },
    {
      "cell_type": "code",
      "source": [
        "def square(A):\n",
        "  return[num ** 2 for num in A]\n",
        "A = input(\"LIST OF INTEGERS : \")\n",
        "B = list(map(int,A.split()))\n",
        "\n",
        "print(square(B))\n"
      ],
      "metadata": {
        "colab": {
          "base_uri": "https://localhost:8080/"
        },
        "id": "Aje9WxC1GvrE",
        "outputId": "60af682e-0fad-41df-d844-d09e1ccce48a"
      },
      "execution_count": null,
      "outputs": [
        {
          "output_type": "stream",
          "name": "stdout",
          "text": [
            "LIST OF INTEGERS : 6 4 3 6 7\n",
            "[36, 16, 9, 36, 49]\n"
          ]
        }
      ]
    },
    {
      "cell_type": "markdown",
      "source": [
        "**4.Write a Python function that checks if a given number is prime or not from 1 to 200.**"
      ],
      "metadata": {
        "id": "SYC4XQhpGyOT"
      }
    },
    {
      "cell_type": "code",
      "source": [
        "def prime(num):\n",
        "  if num <=1:\n",
        "    return False\n",
        "  for i in range(1,200):\n",
        "    if num %i==0:\n",
        "      return False\n",
        "  return True\n",
        "x = int(input(\"Enter any number: \"))\n",
        "if prime(x):\n",
        "    print(f\"{x} is a prime number\")\n",
        "else:\n",
        "    print(f\"{x} is not a prime number\")\n"
      ],
      "metadata": {
        "colab": {
          "base_uri": "https://localhost:8080/"
        },
        "id": "I9O44dd0G420",
        "outputId": "62b17e35-b492-453b-aaa6-e79eaf0ae02d"
      },
      "execution_count": null,
      "outputs": [
        {
          "output_type": "stream",
          "name": "stdout",
          "text": [
            "Enter any number: 6\n",
            "6 is not a prime number\n"
          ]
        }
      ]
    },
    {
      "cell_type": "markdown",
      "source": [
        "**5.Create an iterator class in Python that generates the Fibonacci sequence up to a specified number of terms.**"
      ],
      "metadata": {
        "id": "Z0NBR0YGG8YA"
      }
    },
    {
      "cell_type": "code",
      "source": [
        "num =10\n",
        "n1,n2 = 0,1\n",
        "seq = []\n",
        "for i in range(0,num):\n",
        "  seq.append(n1)\n",
        "  n1,n2 =n2,n1+n2\n",
        "print(seq)"
      ],
      "metadata": {
        "colab": {
          "base_uri": "https://localhost:8080/"
        },
        "id": "7V3Oo4xvHCJp",
        "outputId": "e8c72133-9e58-44de-cfcc-29f2d81f9601"
      },
      "execution_count": null,
      "outputs": [
        {
          "output_type": "stream",
          "name": "stdout",
          "text": [
            "[0, 1, 1, 2, 3, 5, 8, 13, 21, 34]\n"
          ]
        }
      ]
    },
    {
      "cell_type": "markdown",
      "source": [
        "\n",
        "**6.Write a generator function in Python that yields the powers of 2 up to a given exponent.**"
      ],
      "metadata": {
        "id": "lOG6-YBuHI22"
      }
    },
    {
      "cell_type": "code",
      "source": [
        "def powers_of_two(max_exponent):\n",
        "    for exponent in range(max_exponent + 1):\n",
        "        yield 2 ** exponent\n",
        "max_exponent = 10\n",
        "x = powers_of_two(max_exponent)\n",
        "for value in x:\n",
        "    print(value)"
      ],
      "metadata": {
        "colab": {
          "base_uri": "https://localhost:8080/"
        },
        "id": "CN7LGGmFHMCc",
        "outputId": "76e02ccc-34fd-4e0e-e96f-ce165f97c7a7"
      },
      "execution_count": null,
      "outputs": [
        {
          "output_type": "stream",
          "name": "stdout",
          "text": [
            "1\n",
            "2\n",
            "4\n",
            "8\n",
            "16\n",
            "32\n",
            "64\n",
            "128\n",
            "256\n",
            "512\n",
            "1024\n"
          ]
        }
      ]
    },
    {
      "cell_type": "code",
      "source": [
        "from google.colab import drive\n",
        "drive.mount('/content/drive')"
      ],
      "metadata": {
        "colab": {
          "base_uri": "https://localhost:8080/"
        },
        "id": "D538UYKmIjxh",
        "outputId": "2352dae8-645f-4b29-a492-f6c80a997d6c"
      },
      "execution_count": null,
      "outputs": [
        {
          "output_type": "stream",
          "name": "stdout",
          "text": [
            "Mounted at /content/drive\n"
          ]
        }
      ]
    },
    {
      "cell_type": "markdown",
      "source": [
        "**7.Implement a generator function that reads a file line by line and yields each line as a string.**"
      ],
      "metadata": {
        "id": "V64RWMohHO9o"
      }
    },
    {
      "cell_type": "code",
      "source": [
        "def read_file_line_by_line(file_path):\n",
        "    with open(file_path, 'r') as file:\n",
        "        for line in file:\n",
        "            yield line.rstrip('\\n')\n",
        "file_path = '/content/pizza_question.txt'\n",
        "for line in read_file_line_by_line(file_path):\n",
        "    print(line)"
      ],
      "metadata": {
        "colab": {
          "base_uri": "https://localhost:8080/"
        },
        "id": "k7R3-WfPHZ02",
        "outputId": "e9dbaf17-d274-40ba-aa8a-4d53e221376a"
      },
      "execution_count": null,
      "outputs": [
        {
          "output_type": "stream",
          "name": "stdout",
          "text": [
            "\n",
            "1) What days and times do we tend to be busiest?\n",
            "2) How many pizzas are we making during peak periods?\n",
            "3) What are our best and worst-selling pizzas?\n",
            "4) What's our average Revenue?\n",
            "5) What is our monthly order performance?\n",
            "6) What is the order performance of our various pizza sizes?\n",
            "7) Which of our Pizza Category is the most in demand?\n",
            "8) What is our monthly revenue performance?\n",
            "9) Provide a quick visualization for the Month on Month breakdown of our Revenue vs Orders\n"
          ]
        }
      ]
    },
    {
      "cell_type": "markdown",
      "source": [
        "**8.Use a lambda function in Python to sort a list of tuples based on the second element of each tuple.**"
      ],
      "metadata": {
        "id": "gpTtot-cHerU"
      }
    },
    {
      "cell_type": "code",
      "source": [
        "def sorting(tuples):\n",
        "  tuples.sort(key=lambda x:x[1])\n",
        "  return tuples\n",
        "tuples =[(\"u\",2),(\"t\",1),(\"l\",4),(\"p\",3),(\"s\",6),(\"e\",5)]\n",
        "print(sorting(tuples))"
      ],
      "metadata": {
        "colab": {
          "base_uri": "https://localhost:8080/"
        },
        "id": "en7ezaGIHhsH",
        "outputId": "d8c4e414-be13-4a3d-c9fb-1790ea4db002"
      },
      "execution_count": null,
      "outputs": [
        {
          "output_type": "stream",
          "name": "stdout",
          "text": [
            "[('t', 1), ('u', 2), ('p', 3), ('l', 4), ('e', 5), ('s', 6)]\n"
          ]
        }
      ]
    },
    {
      "cell_type": "markdown",
      "source": [
        "**9.Write a Python program that uses map() to convert a list of temperatures from Celsius to Fahrenheit.**"
      ],
      "metadata": {
        "id": "LjtYLsF2Hkwk"
      }
    },
    {
      "cell_type": "code",
      "source": [
        "def celsius_to_fahrenheit(celsius):\n",
        "  return (celsius*9/5)+32\n",
        "def convert(celu_list):\n",
        "  result = map(celsius_to_fahrenheit,celu_list)\n",
        "  return list(result)\n",
        "celu_list = [45,32,0,100,23,56]\n",
        "print(convert(celu_list))\n"
      ],
      "metadata": {
        "colab": {
          "base_uri": "https://localhost:8080/"
        },
        "id": "HfwKmzJLHj6e",
        "outputId": "0053e1d9-2745-4d61-d9d8-359c3a5c8287"
      },
      "execution_count": null,
      "outputs": [
        {
          "output_type": "stream",
          "name": "stdout",
          "text": [
            "[113.0, 89.6, 32.0, 212.0, 73.4, 132.8]\n"
          ]
        }
      ]
    },
    {
      "cell_type": "markdown",
      "source": [
        "**10.Create a Python program that uses filter() to remove all the vowels from a given string.**"
      ],
      "metadata": {
        "id": "JRhG5HQaHttT"
      }
    },
    {
      "cell_type": "code",
      "source": [
        "def no_vowel(char):\n",
        "  vowel = 'aeiouAEIOU'\n",
        "  return char not in vowel\n",
        "\n",
        "def filter_vowel(input_string):\n",
        "  result = filter(no_vowel,input_string)\n",
        "  return ''.join(result)\n",
        "input_string = input('enter the string')\n",
        "print(filter_vowel(input_string))"
      ],
      "metadata": {
        "colab": {
          "base_uri": "https://localhost:8080/"
        },
        "id": "IIS-6XxIHx_M",
        "outputId": "87572f98-0a27-40cd-a8fe-180de6c40e93"
      },
      "execution_count": null,
      "outputs": [
        {
          "output_type": "stream",
          "name": "stdout",
          "text": [
            "enter the stringrashika singhal is great\n",
            "rshk snghl s grt\n"
          ]
        }
      ]
    },
    {
      "cell_type": "markdown",
      "source": [
        "**11 Imagine an accounting routine used in a book shop. It works on a list with sublists, which look like this:**\n",
        "orders = [\n",
        "1.    [34587, \"Learning Python, Mark Lutz\", 4, 40.95],\n",
        "2.   [98762, \"Programming Python, Mark Lutz\", 5, 56.80],\n",
        "3.   [77226, \"Head First Python, Paul Barry\",3, 3295],   \n",
        "4.  [88112, \"Einführung in Python3, Bernd Klein\",3,24.99]\n",
        "   ]\n",
        "Write a Python program, which returns a list with 2-tuples. Each tuple consists of the order number and the\n",
        "product of the price per item and the quantity. The product should be increased by 10,- eur if the value of the\n",
        "order is smaller than 100,00 eur\n",
        "\n",
        "Write a Python program using lambda and map."
      ],
      "metadata": {
        "id": "RqjiZX1kH7kp"
      }
    },
    {
      "cell_type": "code",
      "source": [
        "def order(num):\n",
        "  book= (lambda number: (number[0],number[2]*number[3] if number[2]*number[3]>=100 else number[2]* number[3]+10))\n",
        "  result=list(map(book,num))\n",
        "  return result\n",
        "num= [[34587, \"Learning Python, Mark Lutz\", 4, 40.95],\n",
        "    [98762, \"Programming Python, Mark Lutz\", 5, 56.80],\n",
        "    [77226, \"Head First Python, Paul Barry\", 3, 32.95],\n",
        "    [88112, \"Einführung in Python3, Bernd Klein\", 3, 24.99]]\n",
        "print(order(num))"
      ],
      "metadata": {
        "colab": {
          "base_uri": "https://localhost:8080/"
        },
        "id": "NEiBNBBnH-e9",
        "outputId": "842309b7-d7b4-4d20-fec7-3d61bdbaf143"
      },
      "execution_count": null,
      "outputs": [
        {
          "output_type": "stream",
          "name": "stdout",
          "text": [
            "[(34587, 163.8), (98762, 284.0), (77226, 108.85000000000001), (88112, 84.97)]\n"
          ]
        }
      ]
    }
  ]
}