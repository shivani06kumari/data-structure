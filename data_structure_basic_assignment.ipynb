{
  "cells": [
    {
      "cell_type": "markdown",
      "metadata": {
        "id": "view-in-github",
        "colab_type": "text"
      },
      "source": [
        "<a href=\"https://colab.research.google.com/github/shivani06kumari/data-structure/blob/main/data_structure_basic_assignment.ipynb\" target=\"_parent\"><img src=\"https://colab.research.google.com/assets/colab-badge.svg\" alt=\"Open In Colab\"/></a>"
      ]
    },
    {
      "cell_type": "markdown",
      "id": "95b269d4-05c7-43cf-8df8-839de5a982dc",
      "metadata": {
        "id": "95b269d4-05c7-43cf-8df8-839de5a982dc"
      },
      "source": [
        "\n",
        "1. Discuss string slicing and provide examples"
      ]
    },
    {
      "cell_type": "markdown",
      "id": "8267f03b-abb5-402c-b541-e499fa321a7a",
      "metadata": {
        "id": "8267f03b-abb5-402c-b541-e499fa321a7a"
      },
      "source": [
        " String slicing in Python allows you to extract a portion of a string using the syntax string[start:stop:step]."
      ]
    },
    {
      "cell_type": "code",
      "execution_count": null,
      "id": "bccd341e-cf69-422a-b52f-faa4298d7482",
      "metadata": {
        "id": "bccd341e-cf69-422a-b52f-faa4298d7482",
        "outputId": "7ce9ef1e-d4bc-4cbf-8424-4791723bbdc1"
      },
      "outputs": [
        {
          "name": "stdout",
          "output_type": "stream",
          "text": [
            "Python\n",
            "Programming\n",
            "Pto rgamn\n",
            "Programmin\n"
          ]
        }
      ],
      "source": [
        "text = \"Python Programming\"\n",
        "\n",
        "# Extract substring from index 0 to 5\n",
        "print(text[0:6])\n",
        "\n",
        "# Extract substring from index 7 to 17\n",
        "print(text[7:18])\n",
        "\n",
        "# Extract every second character\n",
        "print(text[::2])\n",
        "\n",
        "# Extract substring using negative indices\n",
        "print(text[-11:-1])\n"
      ]
    },
    {
      "cell_type": "markdown",
      "id": "91fbe2db-945f-4bed-971e-2678c5c0a63d",
      "metadata": {
        "id": "91fbe2db-945f-4bed-971e-2678c5c0a63d"
      },
      "source": [
        "2. Explain the key features of lists in Python"
      ]
    },
    {
      "cell_type": "code",
      "execution_count": null,
      "id": "4ac3f60a-1461-47e9-95ab-d83788eff3ae",
      "metadata": {
        "id": "4ac3f60a-1461-47e9-95ab-d83788eff3ae"
      },
      "outputs": [],
      "source": [
        "\n",
        "#Mutable: Lists can be changed after creation (e.g., adding or removing elements).\n",
        "my_list = [1, 2, 3]\n",
        "my_list[0] = 10  # Output: [10, 2, 3]\n"
      ]
    },
    {
      "cell_type": "code",
      "execution_count": null,
      "id": "838cd341-76f7-430a-84cb-7fc936f0a989",
      "metadata": {
        "id": "838cd341-76f7-430a-84cb-7fc936f0a989"
      },
      "outputs": [],
      "source": [
        "#Ordered: Elements are stored in the order they are added.\n",
        "\n",
        "my_list = ['a', 'b', 'c']  # Output: ['a', 'b', 'c']\n"
      ]
    },
    {
      "cell_type": "code",
      "execution_count": null,
      "id": "c2554e4c-4891-40df-a740-0e08be73c4d1",
      "metadata": {
        "id": "c2554e4c-4891-40df-a740-0e08be73c4d1"
      },
      "outputs": [],
      "source": [
        "#Allows Duplicates: Lists can have multiple identical elements.\n",
        "\n",
        "my_list = [1, 1, 2, 2]  # Output: [1, 1, 2, 2]\n"
      ]
    },
    {
      "cell_type": "code",
      "execution_count": null,
      "id": "5173c42a-4941-4137-a31b-502208fc94d7",
      "metadata": {
        "id": "5173c42a-4941-4137-a31b-502208fc94d7"
      },
      "outputs": [],
      "source": [
        "#Dynamic Size: Lists can grow or shrink dynamically.\n",
        "\n",
        "my_list.append(4)  # Output: [1, 2, 3, 4]\n"
      ]
    },
    {
      "cell_type": "code",
      "execution_count": null,
      "id": "0da69ec5-43bd-45af-95d2-7f823ba5982a",
      "metadata": {
        "id": "0da69ec5-43bd-45af-95d2-7f823ba5982a"
      },
      "outputs": [],
      "source": [
        "#Supports Multiple Data Types: Lists can contain different types of elements.\n",
        "\n",
        "my_list = [1, 'hello', [2, 3]]  # Output: [1, 'hello', [2, 3]]\n"
      ]
    },
    {
      "cell_type": "code",
      "execution_count": null,
      "id": "7d23672a-7ed4-43ce-9af4-eb98ef52b377",
      "metadata": {
        "id": "7d23672a-7ed4-43ce-9af4-eb98ef52b377",
        "outputId": "3f34a945-cccd-4ef7-a8e5-b9be6d86d197"
      },
      "outputs": [
        {
          "name": "stdout",
          "output_type": "stream",
          "text": [
            "20\n",
            "[10, 20]\n"
          ]
        }
      ],
      "source": [
        "#Indexable and Slicable: Access elements by index or get subsets via slicing.\n",
        "\n",
        "my_list = [10, 20, 30]\n",
        "print(my_list[1])  # Output: 20\n",
        "print(my_list[0:2])  # Output: [10, 20]\n"
      ]
    },
    {
      "cell_type": "markdown",
      "id": "8e4251f2-9311-46b2-82e4-2a8c22c23abf",
      "metadata": {
        "id": "8e4251f2-9311-46b2-82e4-2a8c22c23abf"
      },
      "source": [
        "3. Describe how to access, modify, and delete elements in a list with examples"
      ]
    },
    {
      "cell_type": "code",
      "execution_count": null,
      "id": "30d8e9a6-d982-4fcf-89ed-22133ff2a957",
      "metadata": {
        "id": "30d8e9a6-d982-4fcf-89ed-22133ff2a957"
      },
      "outputs": [],
      "source": [
        "#acess\n",
        "my_list = ['apple', 'banana', 'cherry']\n",
        "print(my_list[1])  # Output: banana\n"
      ]
    },
    {
      "cell_type": "code",
      "execution_count": null,
      "id": "babef9df-aed8-47a7-9312-fca9fffc0c53",
      "metadata": {
        "id": "babef9df-aed8-47a7-9312-fca9fffc0c53"
      },
      "outputs": [],
      "source": [
        "#modify\n",
        "my_list = ['apple', 'banana', 'cherry']\n",
        "my_list[1] = 'blueberry'\n",
        "print(my_list)  # Output: ['apple', 'blueberry', 'cherry']\n"
      ]
    },
    {
      "cell_type": "code",
      "execution_count": null,
      "id": "a07e74ee-0158-4018-812a-94f0c9032401",
      "metadata": {
        "id": "a07e74ee-0158-4018-812a-94f0c9032401"
      },
      "outputs": [],
      "source": [
        "#remove()\n",
        "\n",
        "my_list = ['apple', 'banana', 'cherry']\n",
        "my_list.remove('banana')\n",
        "print(my_list)  # Output: ['apple', 'cherry']\n"
      ]
    },
    {
      "cell_type": "code",
      "execution_count": null,
      "id": "22a3c097-8fa3-420c-a14a-3d02cc1f265d",
      "metadata": {
        "id": "22a3c097-8fa3-420c-a14a-3d02cc1f265d"
      },
      "outputs": [],
      "source": [
        "#pop()\n",
        "\n",
        "my_list = ['apple', 'banana', 'cherry']\n",
        "popped_element = my_list.pop(1)\n",
        "print(popped_element)  # Output: banana\n",
        "print(my_list)  # Output: ['apple', 'cherry']\n"
      ]
    },
    {
      "cell_type": "markdown",
      "id": "a2445bfe-8e48-4a69-9d2b-772073e042e5",
      "metadata": {
        "id": "a2445bfe-8e48-4a69-9d2b-772073e042e5"
      },
      "source": [
        "\n",
        "4. Compare and contrast tuples and lists with examples"
      ]
    },
    {
      "cell_type": "markdown",
      "id": "a8d47f1e-d7f9-47f2-be93-4d5581b9cb4c",
      "metadata": {
        "id": "a8d47f1e-d7f9-47f2-be93-4d5581b9cb4c"
      },
      "source": [
        "Mutability:\n",
        "\n",
        "Tuples are immutable (cannot be changed).\n",
        "Lists are mutable (can be changed).\n",
        "Syntax:\n",
        "\n",
        "Tuples use () (parentheses).\n",
        "Lists use [] (square brackets).\n",
        "Use Cases:\n",
        "\n",
        "Tuples: Ideal for fixed data, like coordinates or dictionary keys.\n",
        "Lists: Best for data that might change, like collections of items.\n",
        "Performance:\n",
        "\n",
        "Tuples are faster and use less memory due to immutability.\n",
        "Lists have more functionality but with a slight performance overhead.\n",
        "Methods:\n",
        "\n",
        "Tuples have limited methods (count, index).\n",
        "Lists have many methods for modification (append, remove, pop, etc.)."
      ]
    },
    {
      "cell_type": "code",
      "execution_count": null,
      "id": "4b421487-97a6-4d95-a605-1bc6ae6a49da",
      "metadata": {
        "id": "4b421487-97a6-4d95-a605-1bc6ae6a49da"
      },
      "outputs": [],
      "source": [
        "#Tuples: Immutable; cannot be changed.\n",
        "my_tuple = (1, 2, 3)\n",
        "# my_tuple[0] = 4  # This would raise a TypeError\n",
        "\n",
        "\n"
      ]
    },
    {
      "cell_type": "code",
      "execution_count": null,
      "id": "86c520c2-3a7f-4c32-8d12-b629e4b31617",
      "metadata": {
        "id": "86c520c2-3a7f-4c32-8d12-b629e4b31617",
        "outputId": "0f641d58-bf58-4f0c-81dd-3e0442eb7060"
      },
      "outputs": [
        {
          "name": "stdout",
          "output_type": "stream",
          "text": [
            "[4, 2, 3]\n"
          ]
        }
      ],
      "source": [
        "#Lists: Mutable; can be changed\n",
        "my_list = [1, 2, 3]\n",
        "my_list[0] = 4\n",
        "print(my_list)  # Output: [4, 2, 3]"
      ]
    },
    {
      "cell_type": "code",
      "execution_count": null,
      "id": "16298c3d-1318-4af2-83a3-2c503279204c",
      "metadata": {
        "id": "16298c3d-1318-4af2-83a3-2c503279204c"
      },
      "outputs": [],
      "source": [
        "#syntax\n",
        "my_tuple = (1, 2, 3)\n",
        "my_list = [1, 2, 3]\n"
      ]
    },
    {
      "cell_type": "code",
      "execution_count": null,
      "id": "ad39ef2a-6525-4a8b-a60a-1ded28d51f6b",
      "metadata": {
        "id": "ad39ef2a-6525-4a8b-a60a-1ded28d51f6b",
        "outputId": "d9d2ea96-f469-40dd-c48d-838ace074592"
      },
      "outputs": [
        {
          "name": "stdout",
          "output_type": "stream",
          "text": [
            "['apple', 'banana', 'orange']\n"
          ]
        }
      ],
      "source": [
        "#Tuples: Fixed data, like coordinates.\n",
        "\n",
        "point = (10, 20)\n",
        "\n",
        "\n",
        "#Lists: Data that changes, like a list of items\n",
        "fruits = ['apple', 'banana']\n",
        "fruits.append('orange')\n",
        "print(fruits)  # Output: ['apple', 'banana', 'orange']\n"
      ]
    },
    {
      "cell_type": "markdown",
      "id": "e31432c7-062e-45ea-b712-795a61701fc6",
      "metadata": {
        "id": "e31432c7-062e-45ea-b712-795a61701fc6"
      },
      "source": [
        "\n",
        "5.Describe the key features of sets and provide examples of their use"
      ]
    },
    {
      "cell_type": "code",
      "execution_count": null,
      "id": "86b3671b-382c-451f-8a6c-5428299aab39",
      "metadata": {
        "id": "86b3671b-382c-451f-8a6c-5428299aab39",
        "outputId": "ae408df4-49da-4e7d-9681-11a4ef8d7e48"
      },
      "outputs": [
        {
          "name": "stdout",
          "output_type": "stream",
          "text": [
            "{1, 2, 3, 4}\n"
          ]
        }
      ],
      "source": [
        "#Unique Elements:\n",
        "\n",
        "#Sets automatically enforce uniqueness of elements. Duplicate elements are not allowed.\n",
        "numbers = {1, 2, 3, 3, 4}\n",
        "print(numbers)  # Output: {1, 2, 3, 4}\n"
      ]
    },
    {
      "cell_type": "code",
      "execution_count": null,
      "id": "658d8b24-e9e2-4f66-b515-18441300631d",
      "metadata": {
        "id": "658d8b24-e9e2-4f66-b515-18441300631d",
        "outputId": "f20a10de-78cb-4157-e7d0-1dc70f4f0c18"
      },
      "outputs": [
        {
          "name": "stdout",
          "output_type": "stream",
          "text": [
            "{'cherry', 'banana', 'apple'}\n"
          ]
        }
      ],
      "source": [
        "\n",
        "#Unordered Collection:\n",
        "\n",
        "#Sets do not maintain any order of elements. The order of items is not guaranteed.\n",
        "fruits = {'apple', 'banana', 'cherry'}\n",
        "print(fruits)  # Output may vary in order\n"
      ]
    },
    {
      "cell_type": "code",
      "execution_count": null,
      "id": "1deaba6b-85aa-4790-bd97-e7506d4b63c8",
      "metadata": {
        "id": "1deaba6b-85aa-4790-bd97-e7506d4b63c8",
        "outputId": "653f765e-d62d-4624-90ca-a910244bcb4c"
      },
      "outputs": [
        {
          "name": "stdout",
          "output_type": "stream",
          "text": [
            "{'cherry', 'banana', 'apple'}\n"
          ]
        }
      ],
      "source": [
        "#Mutable:Sets are mutable, meaning you can add or remove elements after creation.\n",
        "\n",
        "fruits = {'apple', 'banana'}\n",
        "fruits.add('cherry')\n",
        "print(fruits)  # Output: {'apple', 'banana', 'cherry'}\n"
      ]
    },
    {
      "cell_type": "code",
      "execution_count": null,
      "id": "31f0f80f-9b83-46bd-951d-9a9655026ea5",
      "metadata": {
        "id": "31f0f80f-9b83-46bd-951d-9a9655026ea5"
      },
      "outputs": [],
      "source": [
        "#Set Operations:\n",
        "\n",
        "#Union: Combines elements from two sets\n",
        "\n",
        "set1 = {1, 2, 3}\n",
        "set2 = {3, 4, 5}\n",
        "union=set1 | set2\n"
      ]
    },
    {
      "cell_type": "code",
      "execution_count": null,
      "id": "9f341fcd-c8d7-45b7-ad3d-b4f42297c3c1",
      "metadata": {
        "id": "9f341fcd-c8d7-45b7-ad3d-b4f42297c3c1"
      },
      "outputs": [],
      "source": [
        "set1\n",
        "\n",
        "intersection = set1 & set2\n",
        "\n"
      ]
    },
    {
      "cell_type": "code",
      "execution_count": null,
      "id": "b2b7b1b8-a111-4636-91fa-d418e3bb3b27",
      "metadata": {
        "id": "b2b7b1b8-a111-4636-91fa-d418e3bb3b27"
      },
      "outputs": [],
      "source": [
        "difference = set1 - set2  # Output: {1, 2}\n",
        "\n"
      ]
    },
    {
      "cell_type": "code",
      "execution_count": null,
      "id": "82c80937-009d-4cb9-b6d7-39ae2ad6f701",
      "metadata": {
        "id": "82c80937-009d-4cb9-b6d7-39ae2ad6f701"
      },
      "outputs": [],
      "source": [
        "symmetric_diff = set1 ^ set2  # Output: {1, 2, 4, 5}"
      ]
    },
    {
      "cell_type": "code",
      "execution_count": null,
      "id": "9d3f2e35-e5e9-4a35-b70b-139490242a7b",
      "metadata": {
        "id": "9d3f2e35-e5e9-4a35-b70b-139490242a7b"
      },
      "outputs": [],
      "source": []
    },
    {
      "cell_type": "markdown",
      "id": "6f083a04-402a-42e6-b8b0-5a595193ec2c",
      "metadata": {
        "id": "6f083a04-402a-42e6-b8b0-5a595193ec2c"
      },
      "source": [
        "\n",
        "6. Discuss the use cases of tuples and sets in Python programming."
      ]
    },
    {
      "cell_type": "markdown",
      "id": "3ce0ba19-9289-4699-a0ef-a3ad569db4f8",
      "metadata": {
        "id": "3ce0ba19-9289-4699-a0ef-a3ad569db4f8"
      },
      "source": [
        "Tuples:\n",
        "\n",
        "Immutable Data: Use for fixed, unchangeable data (e.g., coordinates).\n",
        "Dictionary Keys: Use as dictionary keys due to immutability (e.g., locations = {(10, 20): 'Park'}).\n",
        "Returning Multiple Values: Use to return multiple values from functions.\n",
        "Fixed Records: Use for fixed-size records (e.g., (5, 10))."
      ]
    },
    {
      "cell_type": "markdown",
      "id": "c20912cd-bfe2-4f35-a5bd-dfed42364e69",
      "metadata": {
        "id": "c20912cd-bfe2-4f35-a5bd-dfed42364e69"
      },
      "source": [
        "Sets:\n",
        "\n",
        "Unique Elements: Use to store unique items and remove duplicates (e.g., unique_numbers = set([1, 2, 2, 3])).\n",
        "Set Operations: Use for union, intersection, and difference (e.g., common_elements = set1 & set2).\n",
        "Fast Membership Testing: Use for quick checks if an item exists (e.g., 'apple' in fruits).\n",
        "Efficient Operations: Use for differences and overlaps (e.g., unique_to_A = setA - setB)."
      ]
    },
    {
      "cell_type": "markdown",
      "id": "f74f0f6e-3788-484a-bfa1-eaca7cb78218",
      "metadata": {
        "id": "f74f0f6e-3788-484a-bfa1-eaca7cb78218"
      },
      "source": [
        "\n",
        "7.Describe how to add, modify, and delete items in a dictionary with examples."
      ]
    },
    {
      "cell_type": "code",
      "execution_count": null,
      "id": "3bc0436a-24de-4dec-ac3e-8940f9eea75e",
      "metadata": {
        "id": "3bc0436a-24de-4dec-ac3e-8940f9eea75e",
        "outputId": "c7b922d8-43d4-445b-8063-64f4e48719d9"
      },
      "outputs": [
        {
          "name": "stdout",
          "output_type": "stream",
          "text": [
            "{'name': 'Alice', 'age': 30, 'city': 'New York'}\n"
          ]
        }
      ],
      "source": [
        "# Create a dictionary\n",
        "data = {'name': 'Alice', 'age': 30}\n",
        "\n",
        "# Add a new key-value pair\n",
        "data['city'] = 'New York'\n",
        "print(data)  # Output: {'name': 'Alice', 'age': 30, 'city': 'New York'}\n",
        "\n"
      ]
    },
    {
      "cell_type": "code",
      "execution_count": null,
      "id": "bcdd482b-d7ac-4c21-8609-bb40c64a23ec",
      "metadata": {
        "id": "bcdd482b-d7ac-4c21-8609-bb40c64a23ec",
        "outputId": "9440070d-7653-4858-faf6-4a4884edeb11"
      },
      "outputs": [
        {
          "name": "stdout",
          "output_type": "stream",
          "text": [
            "{'name': 'Alice', 'age': 31, 'city': 'New York'}\n"
          ]
        }
      ],
      "source": [
        "# Modify an existing key-value pair\n",
        "data['age'] = 31\n",
        "print(data)  # Output: {'name': 'Alice', 'age': 31, 'city': 'New York'}\n"
      ]
    },
    {
      "cell_type": "code",
      "execution_count": null,
      "id": "55dfa4ca-73cf-4514-9145-b15b9abe954a",
      "metadata": {
        "id": "55dfa4ca-73cf-4514-9145-b15b9abe954a",
        "outputId": "f218f004-295c-4f83-d38a-904dd5ceb1e0"
      },
      "outputs": [
        {
          "name": "stdout",
          "output_type": "stream",
          "text": [
            "{'name': 'Alice', 'age': 31}\n"
          ]
        }
      ],
      "source": [
        "# Delete a key-value pair\n",
        "del data['city']\n",
        "print(data)  # Output: {'name': 'Alice', 'age': 31}\n"
      ]
    },
    {
      "cell_type": "code",
      "execution_count": null,
      "id": "8c044438-e0fc-4e9e-91fa-aa09d6bdfd38",
      "metadata": {
        "id": "8c044438-e0fc-4e9e-91fa-aa09d6bdfd38",
        "outputId": "1125e387-a4fe-4647-c058-6a6301c0f084"
      },
      "outputs": [
        {
          "name": "stdout",
          "output_type": "stream",
          "text": [
            "31\n",
            "{'name': 'Alice'}\n"
          ]
        }
      ],
      "source": [
        "# Remove a key-value pair and get the value\n",
        "age = data.pop('age')\n",
        "print(age)   # Output: 31\n",
        "print(data)  # Output: {'name': 'Alice'}\n"
      ]
    },
    {
      "cell_type": "markdown",
      "id": "3fa59321-a818-4f89-b403-bb083c1b2142",
      "metadata": {
        "id": "3fa59321-a818-4f89-b403-bb083c1b2142"
      },
      "source": [
        "8. Discuss the importance of dictionary keys being immutable and provide examples."
      ]
    },
    {
      "cell_type": "markdown",
      "id": "6ffac671-8467-4cd4-b807-acc5009535f1",
      "metadata": {
        "id": "6ffac671-8467-4cd4-b807-acc5009535f1"
      },
      "source": [
        "Hash Consistency: Immutable keys have a stable hash value, which is essential for efficient dictionary lookups.\n",
        "Predictable Behavior: Immutable keys ensure that once a key is added, its hash value and equality comparison remain consistent.\n",
        "\n",
        "Immutable keys are crucial for maintaining consistent and reliable dictionary operations.\n",
        "Mutable keys would lead to errors and unpredictable behavior."
      ]
    },
    {
      "cell_type": "code",
      "execution_count": null,
      "id": "f1886da9-ab29-4516-9093-091c6d316462",
      "metadata": {
        "id": "f1886da9-ab29-4516-9093-091c6d316462"
      },
      "outputs": [],
      "source": [
        "#immutable\n",
        "data = {'name': 'Alice', 1: 'First', (1, 2): 'Tuple Key'}\n"
      ]
    },
    {
      "cell_type": "code",
      "execution_count": null,
      "id": "5dd464e3-8647-4682-9c03-55778a0b7726",
      "metadata": {
        "id": "5dd464e3-8647-4682-9c03-55778a0b7726"
      },
      "outputs": [],
      "source": [
        "#mutable\n",
        "# Using a list as a key\n",
        "try:\n",
        "    data = {[1, 2]: 'Invalid Key'}\n",
        "except TypeError as e:\n",
        "    print(e)  # Output: unhashable type: 'list'\n"
      ]
    },
    {
      "cell_type": "code",
      "execution_count": null,
      "id": "ee735976-e57d-4aef-906d-1d627ed07d86",
      "metadata": {
        "id": "ee735976-e57d-4aef-906d-1d627ed07d86"
      },
      "outputs": [],
      "source": []
    },
    {
      "cell_type": "code",
      "execution_count": null,
      "id": "4ccd2a20-20b8-42a4-ac55-42d3dba5b447",
      "metadata": {
        "id": "4ccd2a20-20b8-42a4-ac55-42d3dba5b447"
      },
      "outputs": [],
      "source": []
    }
  ],
  "metadata": {
    "kernelspec": {
      "display_name": "Python 3 (ipykernel)",
      "language": "python",
      "name": "python3"
    },
    "language_info": {
      "codemirror_mode": {
        "name": "ipython",
        "version": 3
      },
      "file_extension": ".py",
      "mimetype": "text/x-python",
      "name": "python",
      "nbconvert_exporter": "python",
      "pygments_lexer": "ipython3",
      "version": "3.12.4"
    },
    "colab": {
      "provenance": [],
      "include_colab_link": true
    }
  },
  "nbformat": 4,
  "nbformat_minor": 5
}