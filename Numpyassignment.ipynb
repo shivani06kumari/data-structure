{
  "cells": [
    {
      "cell_type": "markdown",
      "metadata": {
        "id": "view-in-github",
        "colab_type": "text"
      },
      "source": [
        "<a href=\"https://colab.research.google.com/github/shivani06kumari/data-structure/blob/main/Numpyassignment.ipynb\" target=\"_parent\"><img src=\"https://colab.research.google.com/assets/colab-badge.svg\" alt=\"Open In Colab\"/></a>"
      ]
    },
    {
      "cell_type": "code",
      "execution_count": null,
      "metadata": {
        "id": "Iju1Fhza4D8N"
      },
      "outputs": [],
      "source": [
        "import numpy as np\n",
        "import pandas as pd\n",
        "import sys"
      ]
    },
    {
      "cell_type": "raw",
      "metadata": {
        "id": "QtCcEVnk4D8P"
      },
      "source": []
    },
    {
      "cell_type": "markdown",
      "metadata": {
        "id": "rbQIiZrXNyIX"
      },
      "source": [
        "1.  Create a NumPy array 'arr' of integers from 0 to 5 and print its data type."
      ]
    },
    {
      "cell_type": "code",
      "execution_count": null,
      "metadata": {
        "colab": {
          "base_uri": "https://localhost:8080/"
        },
        "id": "MrMXGddnN2bG",
        "outputId": "1f897116-f6a6-48f4-c53b-8dd0c9a29990"
      },
      "outputs": [
        {
          "name": "stdout",
          "output_type": "stream",
          "text": [
            "int64\n"
          ]
        }
      ],
      "source": [
        "arr = np.array([0, 1, 2, 3, 4, 5])\n",
        "print(arr.dtype)"
      ]
    },
    {
      "cell_type": "markdown",
      "metadata": {
        "id": "CH7QCDw2OCEf"
      },
      "source": [
        "2.Given a NumPy array 'arr', check if its data type is float64.\n",
        "\n",
        "arr = np.array([1.5, 2.6, 3.7])"
      ]
    },
    {
      "cell_type": "code",
      "execution_count": null,
      "metadata": {
        "colab": {
          "base_uri": "https://localhost:8080/"
        },
        "id": "HyFr8rYfOHxw",
        "outputId": "999d8fb2-d262-4919-ae8b-293d7e1a96c9"
      },
      "outputs": [
        {
          "name": "stdout",
          "output_type": "stream",
          "text": [
            "True\n"
          ]
        }
      ],
      "source": [
        "arr = np.array([1.5, 2.6, 3.7])\n",
        "is_float64 = arr.dtype == np.float64\n",
        "\n",
        "print(is_float64)\n"
      ]
    },
    {
      "cell_type": "markdown",
      "metadata": {
        "id": "sjSu4H44OxmJ"
      },
      "source": [
        "3.Create a NumPy array 'arr' with a data type of complex128 containing three complex numbers"
      ]
    },
    {
      "cell_type": "code",
      "execution_count": null,
      "metadata": {
        "colab": {
          "base_uri": "https://localhost:8080/"
        },
        "id": "sQVmO-4JO6pM",
        "outputId": "0728a411-1726-4fad-b744-32d78e04bb8d"
      },
      "outputs": [
        {
          "name": "stdout",
          "output_type": "stream",
          "text": [
            "[1.+2.j 3.+4.j 5.+6.j]\n",
            "complex128\n"
          ]
        }
      ],
      "source": [
        "arr = np.array([1+2j, 3+4j, 5+6j], dtype=np.complex128)\n",
        "print(arr)\n",
        "print(arr.dtype)\n"
      ]
    },
    {
      "cell_type": "markdown",
      "metadata": {
        "id": "hd8P8VtPPECi"
      },
      "source": [
        "4.Convert an existing NumPy array 'arr' of integers to float32 data type."
      ]
    },
    {
      "cell_type": "code",
      "execution_count": null,
      "metadata": {
        "colab": {
          "base_uri": "https://localhost:8080/"
        },
        "id": "ojNocgLpPH72",
        "outputId": "a0bf6ce6-e3a5-44c9-fa59-64c64355917e"
      },
      "outputs": [
        {
          "name": "stdout",
          "output_type": "stream",
          "text": [
            "[1. 2. 3. 4. 5.]\n",
            "float32\n"
          ]
        }
      ],
      "source": [
        "arr = np.array([1, 2, 3, 4, 5])\n",
        "arr_float32 = arr.astype(np.float32)\n",
        "\n",
        "print(arr_float32)\n",
        "print(arr_float32.dtype)\n"
      ]
    },
    {
      "cell_type": "markdown",
      "metadata": {
        "id": "-gYprhokPWgN"
      },
      "source": [
        "5.Given a NumPy array 'arr' with float64 data type, convert it to float32 to reduce decimal precision."
      ]
    },
    {
      "cell_type": "code",
      "execution_count": null,
      "metadata": {
        "colab": {
          "base_uri": "https://localhost:8080/"
        },
        "id": "0HNsLu6pPaKC",
        "outputId": "001d9774-f0e2-4ec6-9f9b-f92496c81a2a"
      },
      "outputs": [
        {
          "name": "stdout",
          "output_type": "stream",
          "text": [
            "[1.1234568 2.9876542 3.456789 ]\n",
            "float32\n"
          ]
        }
      ],
      "source": [
        "arr = np.array([1.123456789, 2.987654321, 3.456789012], dtype=np.float64)\n",
        "arr_float32 = arr.astype(np.float32)\n",
        "print(arr_float32)\n",
        "print(arr_float32.dtype)\n"
      ]
    },
    {
      "cell_type": "markdown",
      "metadata": {
        "id": "imKNzUcTPoy3"
      },
      "source": [
        " 6. Write a function array_attributes that takes a NumPy array as input and returns its shape, size, and data type."
      ]
    },
    {
      "cell_type": "code",
      "execution_count": null,
      "metadata": {
        "colab": {
          "base_uri": "https://localhost:8080/"
        },
        "id": "5qC2ZkIjP7fL",
        "outputId": "14b4332d-22e7-45ed-8dc7-1fc711bb2473"
      },
      "outputs": [
        {
          "name": "stdout",
          "output_type": "stream",
          "text": [
            "((2, 3), 6, dtype('int64'))\n"
          ]
        }
      ],
      "source": [
        "def array_attributes(arr):\n",
        "    shape = arr.shape\n",
        "    size = arr.size\n",
        "    dtype = arr.dtype\n",
        "    return shape, size, dtype\n",
        "arr = np.array([[1, 2, 3], [4, 5, 6]])\n",
        "attributes = array_attributes(arr)\n",
        "\n",
        "print(attributes)  # Output will be (shape, size, dtype)\n"
      ]
    },
    {
      "cell_type": "markdown",
      "metadata": {
        "id": "gTghbJRjQPFu"
      },
      "source": [
        "7. Create a function array_dimension that takes a NumPy array as input and returns its dimensionality."
      ]
    },
    {
      "cell_type": "code",
      "execution_count": null,
      "metadata": {
        "colab": {
          "base_uri": "https://localhost:8080/"
        },
        "id": "OwKpPOtkQWvH",
        "outputId": "f7208587-104a-4300-c777-df42d8545026"
      },
      "outputs": [
        {
          "name": "stdout",
          "output_type": "stream",
          "text": [
            "2\n"
          ]
        }
      ],
      "source": [
        "\n",
        "def array_dimension(arr):\n",
        "    # Return the dimensionality of the array\n",
        "    return arr.ndim\n",
        "\n",
        "# Example usage\n",
        "arr = np.array([[1, 2, 3], [4, 5, 6]])\n",
        "dimension = array_dimension(arr)\n",
        "\n",
        "print(dimension)  # Output will be the number of dimensions (e.g., 2 for a 2D array)\n"
      ]
    },
    {
      "cell_type": "markdown",
      "metadata": {
        "id": "JjoarU0wQirE"
      },
      "source": [
        "8. Design a function item_size_info that takes a NumPy array as input and returns the item size and the total\n",
        "size in bytes."
      ]
    },
    {
      "cell_type": "code",
      "execution_count": null,
      "metadata": {
        "colab": {
          "base_uri": "https://localhost:8080/"
        },
        "id": "sTdimkm2QmtT",
        "outputId": "ab404a68-bc4e-4906-a170-716df57af671"
      },
      "outputs": [
        {
          "name": "stdout",
          "output_type": "stream",
          "text": [
            "(8, 48)\n"
          ]
        }
      ],
      "source": [
        "def item_size_info(arr):\n",
        "    # Get the item size and total size in bytes\n",
        "    item_size = arr.itemsize\n",
        "    total_size = arr.nbytes\n",
        "\n",
        "    # Return the item size and total size as a tuple\n",
        "    return item_size, total_size\n",
        "\n",
        "# Example usage\n",
        "arr = np.array([[1, 2, 3], [4, 5, 6]])\n",
        "size_info = item_size_info(arr)\n",
        "\n",
        "print(size_info)  # Output will be (item_size, total_size)\n"
      ]
    },
    {
      "cell_type": "markdown",
      "metadata": {
        "id": "PjEr2ZX7SJST"
      },
      "source": [
        "9.Create a function array_strides that takes a NumPy array as input and returns the strides of the array."
      ]
    },
    {
      "cell_type": "code",
      "execution_count": null,
      "metadata": {
        "colab": {
          "base_uri": "https://localhost:8080/"
        },
        "id": "xcF2o7twSllv",
        "outputId": "d100db53-d0f3-44e8-b5b4-3c4fd0a6ec75"
      },
      "outputs": [
        {
          "name": "stdout",
          "output_type": "stream",
          "text": [
            "(24, 8)\n"
          ]
        }
      ],
      "source": [
        "def array_strides(arr):\n",
        "    # Return the strides of the array\n",
        "    return arr.strides\n",
        "\n",
        "# Example usage\n",
        "arr = np.array([[1, 2, 3], [4, 5, 6]])\n",
        "strides = array_strides(arr)\n",
        "\n",
        "print(strides)  # Output will be the strides of the array\n"
      ]
    },
    {
      "cell_type": "markdown",
      "metadata": {
        "id": "msprnu21TS2C"
      },
      "source": [
        "10.Design a function shape_stride_relationship that takes a NumPy array as input and returns the shape\n",
        "and strides of the array."
      ]
    },
    {
      "cell_type": "code",
      "execution_count": null,
      "metadata": {
        "colab": {
          "base_uri": "https://localhost:8080/"
        },
        "id": "fhOKLRuqTWSt",
        "outputId": "b33b0597-dae4-4b3b-e672-f161e62b7279"
      },
      "outputs": [
        {
          "name": "stdout",
          "output_type": "stream",
          "text": [
            "((2, 3), (24, 8))\n"
          ]
        }
      ],
      "source": [
        "def shape_stride_relationship(arr):\n",
        "    # Get the shape and strides of the array\n",
        "    shape = arr.shape\n",
        "    strides = arr.strides\n",
        "\n",
        "    # Return the shape and strides as a tuple\n",
        "    return shape, strides\n",
        "\n",
        "# Example usage\n",
        "arr = np.array([[1, 2, 3], [4, 5, 6]])\n",
        "shape_and_strides = shape_stride_relationship(arr)\n",
        "\n",
        "print(shape_and_strides)  # Output will be (shape, strides)\n"
      ]
    },
    {
      "cell_type": "markdown",
      "metadata": {
        "id": "Z3_9iyNVWpdy"
      },
      "source": [
        "11.Create a function `create_zeros_array` that takes an integer `n` as input and returns a NumPy array of\n",
        "zeros with `n` elements."
      ]
    },
    {
      "cell_type": "code",
      "execution_count": null,
      "metadata": {
        "colab": {
          "base_uri": "https://localhost:8080/"
        },
        "id": "w4MjNvDPXvRR",
        "outputId": "a82fd231-3558-408d-9f39-868ed3300dfc"
      },
      "outputs": [
        {
          "name": "stdout",
          "output_type": "stream",
          "text": [
            "[0. 0. 0. 0. 0.]\n"
          ]
        }
      ],
      "source": [
        "def create_zeros_array(n):\n",
        "    # Create a NumPy array of zeros with n elements\n",
        "    return np.zeros(n)\n",
        "\n",
        "# Example usage\n",
        "n = 5\n",
        "zeros_array = create_zeros_array(n)\n",
        "\n",
        "print(zeros_array)  # Output will be an array of zeros with n elements\n"
      ]
    },
    {
      "cell_type": "markdown",
      "metadata": {
        "id": "gk1uFoVVVnHu"
      },
      "source": []
    },
    {
      "cell_type": "markdown",
      "metadata": {
        "id": "ScYXPC40YC_Y"
      },
      "source": [
        "12.Write a function `create_ones_matrix` that takes integers `rows` and `cols` as inputs and generates a 2D\n",
        "NumPy array filled with ones of size `rows x cols`."
      ]
    },
    {
      "cell_type": "code",
      "execution_count": null,
      "metadata": {
        "colab": {
          "base_uri": "https://localhost:8080/"
        },
        "id": "dBek7uOKYNiT",
        "outputId": "552d888c-1aed-4b6a-8783-58baeec7cc60"
      },
      "outputs": [
        {
          "name": "stdout",
          "output_type": "stream",
          "text": [
            "[[1. 1. 1. 1.]\n",
            " [1. 1. 1. 1.]\n",
            " [1. 1. 1. 1.]]\n"
          ]
        }
      ],
      "source": [
        "def create_ones_matrix(rows, cols):\n",
        "    # Create a 2D NumPy array filled with ones\n",
        "    return np.ones((rows, cols))\n",
        "\n",
        "# Example usage\n",
        "rows = 3\n",
        "cols = 4\n",
        "ones_matrix = create_ones_matrix(rows, cols)\n",
        "\n",
        "print(ones_matrix)\n"
      ]
    },
    {
      "cell_type": "markdown",
      "metadata": {
        "id": "d6hB7o6qYSPy"
      },
      "source": [
        "13. Write a function `generate_range_array` that takes three integers start, stop, and step as arguments and\n",
        "creates a NumPy array with a range starting from `start`, ending at stop (exclusive), and with the specified\n",
        "`step`."
      ]
    },
    {
      "cell_type": "code",
      "execution_count": null,
      "metadata": {
        "colab": {
          "base_uri": "https://localhost:8080/"
        },
        "id": "xHV4wWPxYVao",
        "outputId": "8ae39207-c6c1-4410-8656-62bb5a14c220"
      },
      "outputs": [
        {
          "name": "stdout",
          "output_type": "stream",
          "text": [
            "[0 2 4 6 8]\n"
          ]
        }
      ],
      "source": [
        "def generate_range_array(start, stop, step):\n",
        "    # Create a NumPy array with a range from start to stop with the given step\n",
        "    return np.arange(start, stop, step)\n",
        "\n",
        "# Example usage\n",
        "start = 0\n",
        "stop = 10\n",
        "step = 2\n",
        "range_array = generate_range_array(start, stop, step)\n",
        "\n",
        "print(range_array)\n"
      ]
    },
    {
      "cell_type": "markdown",
      "metadata": {
        "id": "ffRaV9b2YbgQ"
      },
      "source": [
        "14. Design a function `generate_linear_space` that takes two floats `start`, `stop`, and an integer `num` as\n",
        "arguments and generates a NumPy array with num equally spaced values between `start` and `stop`\n",
        "(inclusive)."
      ]
    },
    {
      "cell_type": "code",
      "execution_count": null,
      "metadata": {
        "colab": {
          "base_uri": "https://localhost:8080/"
        },
        "id": "1E9JuKJmYgke",
        "outputId": "b7708d70-b86d-4be1-d70c-6b63fb4483df"
      },
      "outputs": [
        {
          "name": "stdout",
          "output_type": "stream",
          "text": [
            "[1.         1.44444444 1.88888889 2.33333333 2.77777778 3.22222222\n",
            " 3.66666667 4.11111111 4.55555556 5.        ]\n"
          ]
        }
      ],
      "source": [
        "def generate_linear_space(start, stop, num):\n",
        "    # Create a NumPy array with num equally spaced values between start and stop\n",
        "    return np.linspace(start, stop, num)\n",
        "\n",
        "# Example usage\n",
        "start = 1.0\n",
        "stop = 5.0\n",
        "num = 10\n",
        "linear_space_array = generate_linear_space(start, stop, num)\n",
        "\n",
        "print(linear_space_array)\n"
      ]
    },
    {
      "cell_type": "markdown",
      "metadata": {
        "id": "1aJQfpu-Yosd"
      },
      "source": [
        "15.Create a function `create_identity_matrix` that takes an integer `n` as input and generates a square\n",
        "identity matrix of size `n x n` using `numpy.eye`."
      ]
    },
    {
      "cell_type": "code",
      "execution_count": null,
      "metadata": {
        "colab": {
          "base_uri": "https://localhost:8080/"
        },
        "id": "ZZMR8PU_YxNT",
        "outputId": "fdef2a04-9c43-4814-c8bc-b91dda127d61"
      },
      "outputs": [
        {
          "name": "stdout",
          "output_type": "stream",
          "text": [
            "[[1. 0. 0. 0.]\n",
            " [0. 1. 0. 0.]\n",
            " [0. 0. 1. 0.]\n",
            " [0. 0. 0. 1.]]\n"
          ]
        }
      ],
      "source": [
        "def create_identity_matrix(n):\n",
        "    # Create an n x n identity matrix\n",
        "    return np.eye(n)\n",
        "\n",
        "# Example usage\n",
        "n = 4\n",
        "identity_matrix = create_identity_matrix(n)\n",
        "\n",
        "print(identity_matrix)\n"
      ]
    },
    {
      "cell_type": "markdown",
      "metadata": {
        "id": "IK4GQvWCYy5w"
      },
      "source": [
        "16.Write a function that takes a Python list and converts it into a NumPy array."
      ]
    },
    {
      "cell_type": "code",
      "execution_count": null,
      "metadata": {
        "colab": {
          "base_uri": "https://localhost:8080/"
        },
        "id": "_w7KuKitY3ar",
        "outputId": "53bfc65c-d8c7-44c5-fb91-316410444d71"
      },
      "outputs": [
        {
          "name": "stdout",
          "output_type": "stream",
          "text": [
            "[1 2 3 4 5]\n"
          ]
        }
      ],
      "source": [
        "def list_to_array(py_list):\n",
        "    # Convert the Python list to a NumPy array\n",
        "    return np.array(py_list)\n",
        "\n",
        "# Example usage\n",
        "py_list = [1, 2, 3, 4, 5]\n",
        "numpy_array = list_to_array(py_list)\n",
        "\n",
        "print(numpy_array)\n"
      ]
    },
    {
      "cell_type": "markdown",
      "metadata": {
        "id": "BAN-D_4xY_Ak"
      },
      "source": [
        "17.Create a NumPy array and demonstrate the use of `numpy.view` to create a new array object with the\n",
        "same data.\n"
      ]
    },
    {
      "cell_type": "code",
      "execution_count": null,
      "metadata": {
        "colab": {
          "base_uri": "https://localhost:8080/"
        },
        "id": "W05Nf1CBZB2x",
        "outputId": "334d73f3-1339-4172-e608-8a7f09383857"
      },
      "outputs": [
        {
          "name": "stdout",
          "output_type": "stream",
          "text": [
            "Original array:\n",
            "[[1 2 3]\n",
            " [4 5 6]]\n",
            "Data type of original array: int32\n",
            "\n",
            "View array:\n",
            "[[1.e-45 3.e-45 4.e-45]\n",
            " [6.e-45 7.e-45 8.e-45]]\n",
            "Data type of view array: float32\n"
          ]
        }
      ],
      "source": [
        "original_array = np.array([[1, 2, 3], [4, 5, 6]], dtype=np.int32)\n",
        "\n",
        "# Use numpy.view to create a new array object with the same data but a different dtype\n",
        "view_array = original_array.view(dtype=np.float32)\n",
        "\n",
        "print(\"Original array:\")\n",
        "print(original_array)\n",
        "print(\"Data type of original array:\", original_array.dtype)\n",
        "\n",
        "print(\"\\nView array:\")\n",
        "print(view_array)\n",
        "print(\"Data type of view array:\", view_array.dtype)\n"
      ]
    },
    {
      "cell_type": "markdown",
      "metadata": {
        "id": "3OSLawquZIr3"
      },
      "source": [
        "18.Write a function that takes two NumPy arrays and concatenates them along a specified axis."
      ]
    },
    {
      "cell_type": "code",
      "execution_count": null,
      "metadata": {
        "colab": {
          "base_uri": "https://localhost:8080/"
        },
        "id": "bEw_Wl4jZNKQ",
        "outputId": "55d3fd95-e612-4fe5-849a-110c1732b7ad"
      },
      "outputs": [
        {
          "name": "stdout",
          "output_type": "stream",
          "text": [
            "Concatenated along axis 0:\n",
            "[[ 1  2  3]\n",
            " [ 4  5  6]\n",
            " [ 7  8  9]\n",
            " [10 11 12]]\n",
            "\n",
            "Concatenated along axis 1:\n",
            "[[ 1  2  3  7  8  9]\n",
            " [ 4  5  6 10 11 12]]\n"
          ]
        }
      ],
      "source": [
        "\n",
        "\n",
        "def concatenate_arrays(arr1, arr2, axis=0):\n",
        "    \"\"\"\n",
        "    Concatenate two NumPy arrays along a specified axis.\n",
        "\n",
        "    Parameters:\n",
        "    arr1 (np.ndarray): The first array.\n",
        "    arr2 (np.ndarray): The second array.\n",
        "    axis (int): The axis along which to concatenate the arrays. Default is 0.\n",
        "\n",
        "    Returns:\n",
        "    np.ndarray: The concatenated array.\n",
        "    \"\"\"\n",
        "    # Concatenate the arrays along the specified axis\n",
        "    return np.concatenate((arr1, arr2), axis=axis)\n",
        "\n",
        "# Example usage\n",
        "arr1 = np.array([[1, 2, 3], [4, 5, 6]])\n",
        "arr2 = np.array([[7, 8, 9], [10, 11, 12]])\n",
        "\n",
        "# Concatenate along axis 0 (vertically)\n",
        "result_axis0 = concatenate_arrays(arr1, arr2, axis=0)\n",
        "print(\"Concatenated along axis 0:\")\n",
        "print(result_axis0)\n",
        "\n",
        "# Concatenate along axis 1 (horizontally)\n",
        "result_axis1 = concatenate_arrays(arr1, arr2, axis=1)\n",
        "print(\"\\nConcatenated along axis 1:\")\n",
        "print(result_axis1)\n"
      ]
    },
    {
      "cell_type": "markdown",
      "metadata": {
        "id": "WK9HWxIfZVSP"
      },
      "source": [
        "19.Create two NumPy arrays with different shapes and concatenate them horizontally using `numpy.\n",
        " concatenate`."
      ]
    },
    {
      "cell_type": "code",
      "execution_count": null,
      "metadata": {
        "colab": {
          "base_uri": "https://localhost:8080/"
        },
        "id": "2j-mpGe0ZYSS",
        "outputId": "d70b23d0-2422-4edb-f668-be8608cd4ff5"
      },
      "outputs": [
        {
          "name": "stdout",
          "output_type": "stream",
          "text": [
            "Array 1:\n",
            "[[1 2 3]\n",
            " [4 5 6]]\n",
            "Shape of Array 1: (2, 3)\n",
            "\n",
            "Array 2:\n",
            "[[ 7  8]\n",
            " [ 9 10]]\n",
            "Shape of Array 2: (2, 2)\n",
            "\n",
            "Concatenated Result:\n",
            "[[ 1  2  3  7  8]\n",
            " [ 4  5  6  9 10]]\n",
            "Shape of Result: (2, 5)\n"
          ]
        }
      ],
      "source": [
        "\n",
        "# Create two NumPy arrays with different shapes\n",
        "arr1 = np.array([[1, 2, 3], [4, 5, 6]])  # Shape (2, 3)\n",
        "arr2 = np.array([[7, 8], [9, 10]])       # Shape (2, 2)\n",
        "\n",
        "# Concatenate the arrays horizontally (along axis 1)\n",
        "result = np.concatenate((arr1, arr2), axis=1)\n",
        "\n",
        "print(\"Array 1:\")\n",
        "print(arr1)\n",
        "print(\"Shape of Array 1:\", arr1.shape)\n",
        "\n",
        "print(\"\\nArray 2:\")\n",
        "print(arr2)\n",
        "print(\"Shape of Array 2:\", arr2.shape)\n",
        "\n",
        "print(\"\\nConcatenated Result:\")\n",
        "print(result)\n",
        "print(\"Shape of Result:\", result.shape)\n"
      ]
    },
    {
      "cell_type": "markdown",
      "metadata": {
        "id": "7W2UqdSZZe1N"
      },
      "source": [
        "20.Write a function that vertically stacks multiple NumPy arrays given as a list."
      ]
    },
    {
      "cell_type": "code",
      "execution_count": null,
      "metadata": {
        "colab": {
          "base_uri": "https://localhost:8080/"
        },
        "id": "k-4uO5ODZiKp",
        "outputId": "693bf581-62f5-42b0-fa17-c860309dea34"
      },
      "outputs": [
        {
          "name": "stdout",
          "output_type": "stream",
          "text": [
            "Vertically Stacked Array:\n",
            "[[ 1  2  3]\n",
            " [ 4  5  6]\n",
            " [ 7  8  9]\n",
            " [10 11 12]\n",
            " [13 14 15]]\n"
          ]
        }
      ],
      "source": [
        "\n",
        "def vertical_stack(arrays):\n",
        "    \"\"\"\n",
        "    Vertically stack multiple NumPy arrays.\n",
        "\n",
        "    Parameters:\n",
        "    arrays (list of np.ndarray): List of NumPy arrays to stack.\n",
        "\n",
        "    Returns:\n",
        "    np.ndarray: The vertically stacked array.\n",
        "    \"\"\"\n",
        "    # Use numpy.vstack to stack arrays vertically\n",
        "    return np.vstack(arrays)\n",
        "\n",
        "# Example usage\n",
        "array_list = [\n",
        "    np.array([[1, 2, 3], [4, 5, 6]]),\n",
        "    np.array([[7, 8, 9], [10, 11, 12]]),\n",
        "    np.array([[13, 14, 15]])\n",
        "]\n",
        "\n",
        "stacked_array = vertical_stack(array_list)\n",
        "\n",
        "print(\"Vertically Stacked Array:\")\n",
        "print(stacked_array)\n"
      ]
    },
    {
      "cell_type": "markdown",
      "metadata": {
        "id": "N8cXzGu3Zqbc"
      },
      "source": [
        "21.Write a Python function using NumPy to create an array of integers within a specified range (inclusive)\n",
        "with a given step size."
      ]
    },
    {
      "cell_type": "code",
      "execution_count": null,
      "metadata": {
        "colab": {
          "base_uri": "https://localhost:8080/"
        },
        "id": "MKyXJt9BZtFP",
        "outputId": "2ce6846f-f9a6-4815-d969-a5d28e0d09c7"
      },
      "outputs": [
        {
          "name": "stdout",
          "output_type": "stream",
          "text": [
            "Range Array:\n",
            "[1 3 5 7 9]\n"
          ]
        }
      ],
      "source": [
        "\n",
        "def create_range_array(start, stop, step):\n",
        "    \"\"\"\n",
        "    Create a NumPy array of integers within a specified range with a given step size.\n",
        "\n",
        "    Parameters:\n",
        "    start (int): The starting value of the range.\n",
        "    stop (int): The ending value of the range (inclusive).\n",
        "    step (int): The step size between values.\n",
        "\n",
        "    Returns:\n",
        "    np.ndarray: The NumPy array with the specified range and step size.\n",
        "    \"\"\"\n",
        "    # Use numpy.arange to create the array\n",
        "    return np.arange(start, stop + 1, step)\n",
        "\n",
        "# Example usage\n",
        "start = 1\n",
        "stop = 10\n",
        "step = 2\n",
        "\n",
        "range_array = create_range_array(start, stop, step)\n",
        "\n",
        "print(\"Range Array:\")\n",
        "print(range_array)\n"
      ]
    },
    {
      "cell_type": "markdown",
      "metadata": {
        "id": "NO4qt8QQZzrI"
      },
      "source": [
        "22.Write a Python function using NumPy to generate an array of 10 equally spaced values between 0 and 1\n",
        "(inclusive)."
      ]
    },
    {
      "cell_type": "code",
      "execution_count": null,
      "metadata": {
        "colab": {
          "base_uri": "https://localhost:8080/"
        },
        "id": "qXHZR4dpZ47X",
        "outputId": "8c6bd1b1-ef1b-4ef4-d4a1-dd4b07dae9fa"
      },
      "outputs": [
        {
          "name": "stdout",
          "output_type": "stream",
          "text": [
            "Equally Spaced Array:\n",
            "[0.         0.11111111 0.22222222 0.33333333 0.44444444 0.55555556\n",
            " 0.66666667 0.77777778 0.88888889 1.        ]\n"
          ]
        }
      ],
      "source": [
        "\n",
        "\n",
        "def generate_equally_spaced_array(start, stop, num):\n",
        "    \"\"\"\n",
        "    Generate a NumPy array of equally spaced values between start and stop (inclusive).\n",
        "\n",
        "    Parameters:\n",
        "    start (float): The starting value of the range.\n",
        "    stop (float): The ending value of the range (inclusive).\n",
        "    num (int): The number of equally spaced values to generate.\n",
        "\n",
        "    Returns:\n",
        "    np.ndarray: The NumPy array with the specified number of equally spaced values.\n",
        "    \"\"\"\n",
        "    # Use numpy.linspace to generate the array\n",
        "    return np.linspace(start, stop, num)\n",
        "\n",
        "# Example usage\n",
        "start = 0\n",
        "stop = 1\n",
        "num = 10\n",
        "\n",
        "equally_spaced_array = generate_equally_spaced_array(start, stop, num)\n",
        "\n",
        "print(\"Equally Spaced Array:\")\n",
        "print(equally_spaced_array)\n"
      ]
    },
    {
      "cell_type": "markdown",
      "metadata": {
        "id": "VdMobVjSaCkQ"
      },
      "source": [
        "23.Write a Python function using NumPy to create an array of 5 logarithmically spaced values between 1 and\n",
        "1000 (inclusive)."
      ]
    },
    {
      "cell_type": "code",
      "execution_count": null,
      "metadata": {
        "colab": {
          "base_uri": "https://localhost:8080/"
        },
        "id": "RIthQ565aFDZ",
        "outputId": "88f8bc5e-2d53-4bf8-9bba-b74cda9331f5"
      },
      "outputs": [
        {
          "name": "stdout",
          "output_type": "stream",
          "text": [
            "Logarithmically Spaced Array:\n",
            "[   1.            5.62341325   31.6227766   177.827941   1000.        ]\n"
          ]
        }
      ],
      "source": [
        "\n",
        "\n",
        "def generate_logarithmically_spaced_array(start, stop, num):\n",
        "    \"\"\"\n",
        "    Generate a NumPy array of logarithmically spaced values between start and stop (inclusive).\n",
        "\n",
        "    Parameters:\n",
        "    start (float): The starting value (base 10 exponent) of the range.\n",
        "    stop (float): The ending value (base 10 exponent) of the range (inclusive).\n",
        "    num (int): The number of logarithmically spaced values to generate.\n",
        "\n",
        "    Returns:\n",
        "    np.ndarray: The NumPy array with the specified number of logarithmically spaced values.\n",
        "    \"\"\"\n",
        "    # Use numpy.logspace to generate the array\n",
        "    return np.logspace(np.log10(start), np.log10(stop), num)\n",
        "\n",
        "# Example usage\n",
        "start = 1\n",
        "stop = 1000\n",
        "num = 5\n",
        "\n",
        "logarithmically_spaced_array = generate_logarithmically_spaced_array(start, stop, num)\n",
        "\n",
        "print(\"Logarithmically Spaced Array:\")\n",
        "print(logarithmically_spaced_array)\n"
      ]
    },
    {
      "cell_type": "markdown",
      "metadata": {
        "id": "KJJr3XGzaLoE"
      },
      "source": [
        "24.Create a Pandas DataFrame using a NumPy array that contains 5 rows and 3 columns, where the values\n",
        "are random integers between 1 and 100."
      ]
    },
    {
      "cell_type": "code",
      "execution_count": null,
      "metadata": {
        "colab": {
          "base_uri": "https://localhost:8080/"
        },
        "id": "5BlhUJ8AaOHz",
        "outputId": "818aa655-bc1d-425b-ea12-131c15f87c91"
      },
      "outputs": [
        {
          "name": "stdout",
          "output_type": "stream",
          "text": [
            "Pandas DataFrame:\n",
            "   Column1  Column2  Column3\n",
            "0       95       85       81\n",
            "1       75        9       94\n",
            "2       10       89       41\n",
            "3       38       22       67\n",
            "4       65       72       95\n"
          ]
        }
      ],
      "source": [
        "\n",
        "\n",
        "# Generate a NumPy array with random integers between 1 and 100\n",
        "array = np.random.randint(1, 101, size=(5, 3))\n",
        "\n",
        "# Create a Pandas DataFrame from the NumPy array\n",
        "df = pd.DataFrame(array, columns=['Column1', 'Column2', 'Column3'])\n",
        "\n",
        "print(\"Pandas DataFrame:\")\n",
        "print(df)\n"
      ]
    },
    {
      "cell_type": "markdown",
      "metadata": {
        "id": "mtSpSHuZaYLm"
      },
      "source": [
        "25.Write a function that takes a Pandas DataFrame and replaces all negative values in a specific column\n",
        "with zeros. Use NumPy operations within the Pandas DataFrame."
      ]
    },
    {
      "cell_type": "code",
      "execution_count": null,
      "metadata": {
        "colab": {
          "base_uri": "https://localhost:8080/"
        },
        "id": "OM3TMk4pab10",
        "outputId": "737c884e-3866-4d56-ed1c-2990750fb022"
      },
      "outputs": [
        {
          "name": "stdout",
          "output_type": "stream",
          "text": [
            "Original DataFrame:\n",
            "   A   B\n",
            "0  1  10\n",
            "1 -2 -20\n",
            "2  3  30\n",
            "3 -4 -40\n",
            "4  5  50\n",
            "\n",
            "DataFrame after replacing negative values in column 'A':\n",
            "   A   B\n",
            "0  1  10\n",
            "1  0 -20\n",
            "2  3  30\n",
            "3  0 -40\n",
            "4  5  50\n"
          ]
        }
      ],
      "source": [
        "\n",
        "def replace_negative_with_zero(df, column_name):\n",
        "    \"\"\"\n",
        "    Replace all negative values in a specific column of a Pandas DataFrame with zeros.\n",
        "\n",
        "    Parameters:\n",
        "    df (pd.DataFrame): The DataFrame in which to replace negative values.\n",
        "    column_name (str): The name of the column in which to replace negative values.\n",
        "\n",
        "    Returns:\n",
        "    pd.DataFrame: The DataFrame with negative values replaced by zeros in the specified column.\n",
        "    \"\"\"\n",
        "    # Ensure the column exists in the DataFrame\n",
        "    if column_name in df.columns:\n",
        "        # Replace negative values with zeros using NumPy\n",
        "        df[column_name] = np.where(df[column_name] < 0, 0, df[column_name])\n",
        "    else:\n",
        "        print(f\"Column '{column_name}' does not exist in the DataFrame.\")\n",
        "\n",
        "    return df\n",
        "\n",
        "# Example usage\n",
        "data = {\n",
        "    'A': [1, -2, 3, -4, 5],\n",
        "    'B': [10, -20, 30, -40, 50]\n",
        "}\n",
        "df = pd.DataFrame(data)\n",
        "\n",
        "print(\"Original DataFrame:\")\n",
        "print(df)\n",
        "\n",
        "# Replace negative values in column 'A'\n",
        "df = replace_negative_with_zero(df, 'A')\n",
        "\n",
        "print(\"\\nDataFrame after replacing negative values in column 'A':\")\n",
        "print(df)\n"
      ]
    },
    {
      "cell_type": "markdown",
      "metadata": {
        "id": "vNz7UgS7ajMC"
      },
      "source": [
        "26. Access the 3rd element from the given NumPy array.\n",
        "\n",
        " arr = np.array([10, 20, 30, 40, 50])"
      ]
    },
    {
      "cell_type": "code",
      "execution_count": null,
      "metadata": {
        "colab": {
          "base_uri": "https://localhost:8080/"
        },
        "id": "89ozZAP7anJe",
        "outputId": "03f49bb6-3514-4d59-ed3c-729e94f0b126"
      },
      "outputs": [
        {
          "name": "stdout",
          "output_type": "stream",
          "text": [
            "The 3rd element is: 30\n"
          ]
        }
      ],
      "source": [
        "\n",
        "\n",
        "# Define the NumPy array\n",
        "arr = np.array([10, 20, 30, 40, 50])\n",
        "\n",
        "# Access the 3rd element (index 2)\n",
        "third_element = arr[2]\n",
        "\n",
        "print(\"The 3rd element is:\", third_element)\n"
      ]
    },
    {
      "cell_type": "markdown",
      "metadata": {
        "id": "NYLPqtF9av_i"
      },
      "source": [
        ". Retrieve the element at index (1, 2) from the 2D NumPy array.\n",
        "\n",
        " arr_2d = np.array([[1, 2, 3],\n",
        "\n",
        " [4, 5, 6],\n",
        "\n",
        " [7, 8, 9]])"
      ]
    },
    {
      "cell_type": "code",
      "execution_count": null,
      "metadata": {
        "colab": {
          "base_uri": "https://localhost:8080/"
        },
        "id": "OJm-66zaa5yU",
        "outputId": "f3935dc2-9e2b-48fe-d42a-4ea6907b82ba"
      },
      "outputs": [
        {
          "name": "stdout",
          "output_type": "stream",
          "text": [
            "The element at index (1, 2) is: 6\n"
          ]
        }
      ],
      "source": [
        "\n",
        "\n",
        "# Define the 2D NumPy array\n",
        "arr_2d = np.array([[1, 2, 3],\n",
        "                   [4, 5, 6],\n",
        "                   [7, 8, 9]])\n",
        "\n",
        "# Retrieve the element at index (1, 2)\n",
        "element = arr_2d[1, 2]\n",
        "\n",
        "print(\"The element at index (1, 2) is:\", element)\n"
      ]
    },
    {
      "cell_type": "markdown",
      "metadata": {
        "id": "icrxHeaVbIK_"
      },
      "source": [
        "28.Using boolean indexing, extract elements greater than 5 from the given NumPy array.\n",
        "\n",
        " arr = np.array([3, 8, 2, 10, 5, 7])"
      ]
    },
    {
      "cell_type": "code",
      "execution_count": null,
      "metadata": {
        "colab": {
          "base_uri": "https://localhost:8080/"
        },
        "id": "65Yyl36pbQru",
        "outputId": "0b00e84e-b5fd-4f4e-8ee6-304bc9433c75"
      },
      "outputs": [
        {
          "name": "stdout",
          "output_type": "stream",
          "text": [
            "Elements greater than 5: [ 8 10  7]\n"
          ]
        }
      ],
      "source": [
        "\n",
        "\n",
        "# Define the NumPy array\n",
        "arr = np.array([3, 8, 2, 10, 5, 7])\n",
        "\n",
        "# Use boolean indexing to extract elements greater than 5\n",
        "greater_than_5 = arr[arr > 5]\n",
        "\n",
        "print(\"Elements greater than 5:\", greater_than_5)\n"
      ]
    },
    {
      "cell_type": "markdown",
      "metadata": {
        "id": "i0P14a-KbWhH"
      },
      "source": [
        "29. Perform basic slicing to extract elements from index 2 to 5 (inclusive) from the given NumPy array.\n",
        "\n",
        " arr = np.array([1, 2, 3, 4, 5, 6, 7, 8, 9])"
      ]
    },
    {
      "cell_type": "code",
      "execution_count": null,
      "metadata": {
        "colab": {
          "base_uri": "https://localhost:8080/"
        },
        "id": "x1vKa83BbaJT",
        "outputId": "b7af390b-4660-4178-f6ad-658ff723da23"
      },
      "outputs": [
        {
          "name": "stdout",
          "output_type": "stream",
          "text": [
            "Elements from index 2 to 5 (inclusive): [3 4 5 6]\n"
          ]
        }
      ],
      "source": [
        "\n",
        "\n",
        "# Define the NumPy array\n",
        "arr = np.array([1, 2, 3, 4, 5, 6, 7, 8, 9])\n",
        "\n",
        "# Slice the array to get elements from index 2 to 5 (inclusive)\n",
        "sliced_array = arr[2:6]\n",
        "\n",
        "print(\"Elements from index 2 to 5 (inclusive):\", sliced_array)\n"
      ]
    },
    {
      "cell_type": "markdown",
      "metadata": {
        "id": "mb_UVHOqbhy-"
      },
      "source": [
        "30. Slice the 2D NumPy array to extract the sub-array `[[2, 3], [5, 6]]` from the given array.\n",
        "\n",
        " arr_2d = np.array([[1, 2, 3],\n",
        "\n",
        " [4, 5, 6],\n",
        "\n",
        " [7, 8, 9]])"
      ]
    },
    {
      "cell_type": "code",
      "execution_count": null,
      "metadata": {
        "colab": {
          "base_uri": "https://localhost:8080/"
        },
        "id": "IgXBrcmGbyeu",
        "outputId": "7798616c-bf8c-4c52-923a-375269db4e5b"
      },
      "outputs": [
        {
          "name": "stdout",
          "output_type": "stream",
          "text": [
            "Extracted sub-array:\n",
            "[[2 3]\n",
            " [5 6]]\n"
          ]
        }
      ],
      "source": [
        "\n",
        "\n",
        "# Define the 2D NumPy array\n",
        "arr_2d = np.array([[1, 2, 3],\n",
        "                   [4, 5, 6],\n",
        "                   [7, 8, 9]])\n",
        "\n",
        "# Slice the array to extract the sub-array [[2, 3], [5, 6]]\n",
        "sub_array = arr_2d[0:2, 1:3]\n",
        "\n",
        "print(\"Extracted sub-array:\")\n",
        "print(sub_array)\n"
      ]
    },
    {
      "cell_type": "markdown",
      "metadata": {
        "id": "dALyRFWzJndS"
      },
      "source": [
        "31.Write a NumPy function to extract elements in specific order from a given 2D array based on indices\n",
        "provided in another array."
      ]
    },
    {
      "cell_type": "code",
      "execution_count": null,
      "metadata": {
        "colab": {
          "base_uri": "https://localhost:8080/"
        },
        "id": "eGlRSvokKEaF",
        "outputId": "bf00d58c-3c39-49ad-f718-4bd839684bdc"
      },
      "outputs": [
        {
          "name": "stdout",
          "output_type": "stream",
          "text": [
            "[20 90 40]\n"
          ]
        }
      ],
      "source": [
        "\n",
        "def extract_elements(arr, indices):\n",
        "    \"\"\"\n",
        "    Extract elements from a 2D array based on given indices.\n",
        "\n",
        "    Parameters:\n",
        "    arr (numpy.ndarray): The input 2D array from which to extract elements.\n",
        "    indices (numpy.ndarray): A 2D array of indices where each row contains a pair of indices [row, col].\n",
        "\n",
        "    Returns:\n",
        "    numpy.ndarray: A 1D array of extracted elements.\n",
        "    \"\"\"\n",
        "    return arr[indices[:, 0], indices[:, 1]]\n",
        "\n",
        "# Example usage\n",
        "arr = np.array([[10, 20, 30],\n",
        "                [40, 50, 60],\n",
        "                [70, 80, 90]])\n",
        "\n",
        "indices = np.array([[0, 1],\n",
        "                    [2, 2],\n",
        "                    [1, 0]])\n",
        "\n",
        "extracted_elements = extract_elements(arr, indices)\n",
        "print(extracted_elements)\n"
      ]
    },
    {
      "cell_type": "markdown",
      "metadata": {
        "id": "aIueb3jVKG2C"
      },
      "source": [
        "32.Create a NumPy function that filters elements greater than a threshold from a given 1D array using\n",
        "boolean indexing."
      ]
    },
    {
      "cell_type": "code",
      "execution_count": null,
      "metadata": {
        "colab": {
          "base_uri": "https://localhost:8080/"
        },
        "id": "B6BPq72qKMco",
        "outputId": "bd6aa5aa-b89d-4b7b-9dae-1b32d4836e54"
      },
      "outputs": [
        {
          "name": "stdout",
          "output_type": "stream",
          "text": [
            "[2 6 7]\n"
          ]
        }
      ],
      "source": [
        "import numpy as np\n",
        "\n",
        "def extract_elements(arr, indices):\n",
        "    \"\"\"\n",
        "    Extract elements from a 2D array based on the given indices.\n",
        "\n",
        "    Parameters:\n",
        "    arr (numpy.ndarray): The input 2D array.\n",
        "    indices (numpy.ndarray): A 2D array of indices where each pair is [row, col].\n",
        "\n",
        "    Returns:\n",
        "    numpy.ndarray: A 1D array of extracted elements.\n",
        "    \"\"\"\n",
        "    return arr[indices[:, 0], indices[:, 1]]\n",
        "\n",
        "# Example usage:\n",
        "arr = np.array([[1, 2, 3], [4, 5, 6], [7, 8, 9]])\n",
        "indices = np.array([[0, 1], [1, 2], [2, 0]])\n",
        "result = extract_elements(arr, indices)\n",
        "print(result)  # Output: [2 6 7]\n"
      ]
    },
    {
      "cell_type": "code",
      "execution_count": null,
      "metadata": {
        "colab": {
          "base_uri": "https://localhost:8080/"
        },
        "id": "wOTs27STKXgm",
        "outputId": "638ddf43-48ce-4fe3-9f8d-073a4d26cf89"
      },
      "outputs": [
        {
          "name": "stdout",
          "output_type": "stream",
          "text": [
            "[5 7 9]\n"
          ]
        }
      ],
      "source": [
        "\n",
        "\n",
        "def filter_elements(arr, threshold):\n",
        "    \"\"\"\n",
        "    Filter elements greater than a given threshold from a 1D array.\n",
        "\n",
        "    Parameters:\n",
        "    arr (numpy.ndarray): The input 1D array.\n",
        "    threshold (float): The threshold value.\n",
        "\n",
        "    Returns:\n",
        "    numpy.ndarray: A 1D array containing elements greater than the threshold.\n",
        "    \"\"\"\n",
        "    return arr[arr > threshold]\n",
        "\n",
        "# Example usage:\n",
        "arr = np.array([1, 3, 5, 7, 9])\n",
        "threshold = 4\n",
        "result = filter_elements(arr, threshold)\n",
        "print(result)  # Output: [5 7 9]\n"
      ]
    },
    {
      "cell_type": "markdown",
      "metadata": {
        "id": "VO5FMR-sKaHy"
      },
      "source": [
        "33. Develop a NumPy function that extracts specific elements from a 3D array using indices provided in three\n",
        "separate arrays for each dimension."
      ]
    },
    {
      "cell_type": "code",
      "execution_count": null,
      "metadata": {
        "colab": {
          "base_uri": "https://localhost:8080/"
        },
        "id": "NZQDFkUuKm48",
        "outputId": "232756d5-d044-47da-c05e-d55381b23656"
      },
      "outputs": [
        {
          "name": "stdout",
          "output_type": "stream",
          "text": [
            "[6 8]\n"
          ]
        }
      ],
      "source": [
        "import numpy as np\n",
        "\n",
        "def extract_elements_3d(arr, x_indices, y_indices, z_indices):\n",
        "    \"\"\"\n",
        "    Extract specific elements from a 3D array using separate arrays of indices for each dimension.\n",
        "\n",
        "    Parameters:\n",
        "    arr (numpy.ndarray): The input 3D array.\n",
        "    x_indices (numpy.ndarray): The array of indices for the first dimension (axis 0).\n",
        "    y_indices (numpy.ndarray): The array of indices for the second dimension (axis 1).\n",
        "    z_indices (numpy.ndarray): The array of indices for the third dimension (axis 2).\n",
        "\n",
        "    Returns:\n",
        "    numpy.ndarray: A 1D array of extracted elements.\n",
        "    \"\"\"\n",
        "    return arr[x_indices, y_indices, z_indices]\n",
        "\n",
        "# Example usage:\n",
        "arr = np.array([[[1, 2, 3], [4, 5, 6]],\n",
        "                [[7, 8, 9], [10, 11, 12]]])\n",
        "\n",
        "x_indices = np.array([0, 1])\n",
        "y_indices = np.array([1, 0])\n",
        "z_indices = np.array([2, 1])\n",
        "\n",
        "result = extract_elements_3d(arr, x_indices, y_indices, z_indices)\n",
        "print(result)  # Output: [6 8]\n"
      ]
    },
    {
      "cell_type": "markdown",
      "metadata": {
        "id": "iwugcuLLKpiu"
      },
      "source": [
        "34.Write a NumPy function that returns elements from an array where both two conditions are satisfied\n",
        "using boolean indexing."
      ]
    },
    {
      "cell_type": "code",
      "execution_count": null,
      "metadata": {
        "colab": {
          "base_uri": "https://localhost:8080/"
        },
        "id": "mk8TWQV4KxU4",
        "outputId": "d956fb12-7e84-456c-dc74-8b1270bda73d"
      },
      "outputs": [
        {
          "name": "stdout",
          "output_type": "stream",
          "text": [
            "[5 7 9]\n"
          ]
        }
      ],
      "source": [
        "\n",
        "\n",
        "def filter_elements_two_conditions(arr, condition1, condition2):\n",
        "    \"\"\"\n",
        "    Return elements from an array where both conditions are satisfied.\n",
        "\n",
        "    Parameters:\n",
        "    arr (numpy.ndarray): The input array.\n",
        "    condition1 (numpy.ndarray): A boolean array representing the first condition.\n",
        "    condition2 (numpy.ndarray): A boolean array representing the second condition.\n",
        "\n",
        "    Returns:\n",
        "    numpy.ndarray: A 1D array of elements that satisfy both conditions.\n",
        "    \"\"\"\n",
        "    return arr[condition1 & condition2]\n",
        "\n",
        "# Example usage:\n",
        "arr = np.array([1, 3, 5, 7, 9, 11, 13])\n",
        "condition1 = arr > 4      # Elements greater than 4\n",
        "condition2 = arr < 10     # Elements less than 10\n",
        "\n",
        "result = filter_elements_two_conditions(arr, condition1, condition2)\n",
        "print(result)  # Output: [5 7 9]\n"
      ]
    },
    {
      "cell_type": "markdown",
      "metadata": {
        "id": "98VPGHymK0U4"
      },
      "source": [
        "35.Create a NumPy function that extracts elements from a 2D array using row and column indices provided\n",
        "in separate arrays."
      ]
    },
    {
      "cell_type": "code",
      "execution_count": null,
      "metadata": {
        "colab": {
          "base_uri": "https://localhost:8080/"
        },
        "id": "ea0qntL_K4Ms",
        "outputId": "9768b57f-70ca-4d85-97ce-28cd2fe1db1e"
      },
      "outputs": [
        {
          "name": "stdout",
          "output_type": "stream",
          "text": [
            "[30 40 80]\n"
          ]
        }
      ],
      "source": [
        "\n",
        "\n",
        "def extract_elements_2d(arr, row_indices, col_indices):\n",
        "    \"\"\"\n",
        "    Extract specific elements from a 2D array using separate arrays of row and column indices.\n",
        "\n",
        "    Parameters:\n",
        "    arr (numpy.ndarray): The input 2D array.\n",
        "    row_indices (numpy.ndarray): The array of row indices.\n",
        "    col_indices (numpy.ndarray): The array of column indices.\n",
        "\n",
        "    Returns:\n",
        "    numpy.ndarray: A 1D array of extracted elements.\n",
        "    \"\"\"\n",
        "    return arr[row_indices, col_indices]\n",
        "\n",
        "# Example usage:\n",
        "arr = np.array([[10, 20, 30],\n",
        "                [40, 50, 60],\n",
        "                [70, 80, 90]])\n",
        "\n",
        "row_indices = np.array([0, 1, 2])\n",
        "col_indices = np.array([2, 0, 1])\n",
        "\n",
        "result = extract_elements_2d(arr, row_indices, col_indices)\n",
        "print(result)  # Output: [30 40 80]\n"
      ]
    },
    {
      "cell_type": "markdown",
      "metadata": {
        "id": "UuptPlb6LLRU"
      },
      "source": [
        "36.Given an array arr of shape (3, 3), add a scalar value of 5 to each element using NumPy broadcasting."
      ]
    },
    {
      "cell_type": "code",
      "execution_count": null,
      "metadata": {
        "colab": {
          "base_uri": "https://localhost:8080/"
        },
        "id": "vwAwZSrSLWdv",
        "outputId": "022fb051-d1f5-4f32-a53d-907352db4295"
      },
      "outputs": [
        {
          "name": "stdout",
          "output_type": "stream",
          "text": [
            "[[ 6  7  8]\n",
            " [ 9 10 11]\n",
            " [12 13 14]]\n"
          ]
        }
      ],
      "source": [
        "\n",
        "\n",
        "# Example 2D array of shape (3, 3)\n",
        "arr = np.array([[1, 2, 3],\n",
        "                [4, 5, 6],\n",
        "                [7, 8, 9]])\n",
        "\n",
        "# Add scalar value 5 to each element using broadcasting\n",
        "result = arr + 5\n",
        "\n",
        "print(result)\n"
      ]
    },
    {
      "cell_type": "markdown",
      "metadata": {
        "id": "FaviZjFuLYgD"
      },
      "source": [
        "37. Consider two arrays arr1 of shape (1, 3) and arr2 of shape (3, 4). Multiply each row of arr2 by the\n",
        "corresponding element in arr1 using NumPy broadcasting."
      ]
    },
    {
      "cell_type": "code",
      "execution_count": null,
      "metadata": {
        "colab": {
          "base_uri": "https://localhost:8080/"
        },
        "id": "RM1_OYWFLjqN",
        "outputId": "e2381bce-4ca5-4d4b-b8db-d2bb481c0804"
      },
      "outputs": [
        {
          "name": "stdout",
          "output_type": "stream",
          "text": [
            "[[ 2  4  6  8]\n",
            " [15 18 21 24]\n",
            " [36 40 44 48]]\n"
          ]
        }
      ],
      "source": [
        "\n",
        "\n",
        "# Example arrays\n",
        "arr1 = np.array([[2, 3, 4]])  # Shape (1, 3)\n",
        "arr2 = np.array([[1, 2, 3, 4],\n",
        "                 [5, 6, 7, 8],\n",
        "                 [9, 10, 11, 12]])  # Shape (3, 4)\n",
        "\n",
        "# Multiply each row of arr2 by the corresponding element in arr1 using broadcasting\n",
        "result = arr2 * arr1.T\n",
        "\n",
        "print(result)\n"
      ]
    },
    {
      "cell_type": "markdown",
      "metadata": {
        "id": "XbbMEstYLlxN"
      },
      "source": [
        "38.Given a 1D array arr1 of shape (1, 4) and a 2D array arr2 of shape (4, 3), add arr1 to each row of arr2 using\n",
        "NumPy broadcasting."
      ]
    },
    {
      "cell_type": "code",
      "execution_count": null,
      "metadata": {
        "colab": {
          "base_uri": "https://localhost:8080/"
        },
        "id": "Vf_mywWULpi-",
        "outputId": "114de371-ecfa-474f-d321-a95f9bac6bda"
      },
      "outputs": [
        {
          "name": "stdout",
          "output_type": "stream",
          "text": [
            "[[ 11  21  31]\n",
            " [ 42  52  62]\n",
            " [ 73  83  93]\n",
            " [104 114 124]]\n"
          ]
        }
      ],
      "source": [
        "\n",
        "\n",
        "# Example arrays\n",
        "arr1 = np.array([[1, 2, 3, 4]])  # Shape (1, 4)\n",
        "arr2 = np.array([[10, 20, 30],\n",
        "                 [40, 50, 60],\n",
        "                 [70, 80, 90],\n",
        "                 [100, 110, 120]])  # Shape (4, 3)\n",
        "\n",
        "# Add arr1 to each row of arr2 using broadcasting\n",
        "# First, we need to reshape arr1 to be of shape (4, 1) so that it can broadcast properly\n",
        "result = arr2 + arr1.T\n",
        "\n",
        "print(result)\n"
      ]
    },
    {
      "cell_type": "markdown",
      "metadata": {
        "id": "u35MhJNjLvTV"
      },
      "source": [
        "39.Consider two arrays arr1 of shape (3, 1) and arr2 of shape (1, 3). Add these arrays using NumPy\n",
        "broadcasting."
      ]
    },
    {
      "cell_type": "code",
      "execution_count": null,
      "metadata": {
        "colab": {
          "base_uri": "https://localhost:8080/"
        },
        "id": "fRIXwKiNL3Ag",
        "outputId": "299c9d33-52fb-43d3-f4cb-eed497e73529"
      },
      "outputs": [
        {
          "name": "stdout",
          "output_type": "stream",
          "text": [
            "[[5 6 7]\n",
            " [6 7 8]\n",
            " [7 8 9]]\n"
          ]
        }
      ],
      "source": [
        "\n",
        "# Example arrays\n",
        "arr1 = np.array([[1],\n",
        "                 [2],\n",
        "                 [3]])  # Shape (3, 1)\n",
        "arr2 = np.array([[4, 5, 6]])  # Shape (1, 3)\n",
        "\n",
        "# Add the arrays using broadcasting\n",
        "result = arr1 + arr2\n",
        "\n",
        "print(result)\n"
      ]
    },
    {
      "cell_type": "markdown",
      "metadata": {
        "id": "BIxRn7X9L5vl"
      },
      "source": [
        "40.Given arrays arr1 of shape (2, 3) and arr2 of shape (2, 2), perform multiplication using NumPy\n",
        "broadcasting. Handle the shape incompatibility."
      ]
    },
    {
      "cell_type": "code",
      "execution_count": null,
      "metadata": {
        "colab": {
          "base_uri": "https://localhost:8080/"
        },
        "id": "078N5G2eL90V",
        "outputId": "84e556d1-48e2-40a2-98d4-8f5d419dd62f"
      },
      "outputs": [
        {
          "name": "stdout",
          "output_type": "stream",
          "text": [
            "[[[ 10  20  30]\n",
            "  [ 80 100 120]]\n",
            "\n",
            " [[ 30  60  90]\n",
            "  [160 200 240]]]\n"
          ]
        }
      ],
      "source": [
        "\n",
        "\n",
        "# Example arrays\n",
        "arr1 = np.array([[1, 2, 3],\n",
        "                 [4, 5, 6]])  # Shape (2, 3)\n",
        "\n",
        "arr2 = np.array([[10, 20],\n",
        "                 [30, 40]])  # Shape (2, 2)\n",
        "\n",
        "# Reshape arr2 to be compatible with arr1 for broadcasting\n",
        "arr2_reshaped = arr2[:, :, np.newaxis]  # Shape becomes (2, 2, 1)\n",
        "\n",
        "# Now perform broadcasting multiplication\n",
        "result = arr1 * arr2_reshaped\n",
        "\n",
        "print(result)\n"
      ]
    },
    {
      "cell_type": "markdown",
      "metadata": {
        "id": "kYSzB5DGMFC1"
      },
      "source": [
        "41.Calculate column wise mean for the given array:\n",
        "\n",
        "arr = np.array([[1, 2, 3], [4, 5, 6]])"
      ]
    },
    {
      "cell_type": "code",
      "execution_count": null,
      "metadata": {
        "colab": {
          "base_uri": "https://localhost:8080/"
        },
        "id": "uYSbXsLLMYRb",
        "outputId": "59b58df6-1857-4905-a4ab-33afb8cbf974"
      },
      "outputs": [
        {
          "name": "stdout",
          "output_type": "stream",
          "text": [
            "[2.5 3.5 4.5]\n"
          ]
        }
      ],
      "source": [
        "\n",
        "\n",
        "# Given array\n",
        "arr = np.array([[1, 2, 3],\n",
        "                [4, 5, 6]])\n",
        "\n",
        "# Calculate column-wise mean\n",
        "column_wise_mean = np.mean(arr, axis=0)\n",
        "\n",
        "print(column_wise_mean)\n"
      ]
    },
    {
      "cell_type": "markdown",
      "metadata": {
        "id": "OyY7-GuYMdsd"
      },
      "source": [
        "42. Find maximum value in each row of the given array:\n",
        "\n",
        "arr = np.array([[1, 2, 3], [4, 5, 6]])\n"
      ]
    },
    {
      "cell_type": "code",
      "execution_count": null,
      "metadata": {
        "colab": {
          "base_uri": "https://localhost:8080/"
        },
        "id": "hEQFwbucMr_r",
        "outputId": "d4d64f8c-3354-44c3-d16e-58f92865119e"
      },
      "outputs": [
        {
          "name": "stdout",
          "output_type": "stream",
          "text": [
            "[3 6]\n"
          ]
        }
      ],
      "source": [
        "\n",
        "\n",
        "# Given array\n",
        "arr = np.array([[1, 2, 3],\n",
        "                [4, 5, 6]])\n",
        "\n",
        "# Find the maximum value in each row\n",
        "max_values = np.max(arr, axis=1)\n",
        "\n",
        "print(max_values)\n"
      ]
    },
    {
      "cell_type": "markdown",
      "metadata": {
        "id": "Vx5He_7YMzMv"
      },
      "source": [
        "43. For the given array, find indices of maximum value in each column.\n",
        "\n",
        "arr = np.array([[1, 2, 3], [4, 5, 6]])"
      ]
    },
    {
      "cell_type": "code",
      "execution_count": null,
      "metadata": {
        "colab": {
          "base_uri": "https://localhost:8080/"
        },
        "id": "_bcumHkbM8qg",
        "outputId": "ea283086-5d51-4eba-f295-89ee466b0ad9"
      },
      "outputs": [
        {
          "name": "stdout",
          "output_type": "stream",
          "text": [
            "[1 1 1]\n"
          ]
        }
      ],
      "source": [
        "\n",
        "\n",
        "# Given array\n",
        "arr = np.array([[1, 2, 3],\n",
        "                [4, 5, 6]])\n",
        "\n",
        "# Find the indices of the maximum value in each column\n",
        "max_indices = np.argmax(arr, axis=0)\n",
        "\n",
        "print(max_indices)\n"
      ]
    },
    {
      "cell_type": "markdown",
      "metadata": {
        "id": "qV4OLBCjM-1h"
      },
      "source": [
        "44. For the given array, apply cu\n",
        "stom function to calculate moving sum along rows.\n",
        "\n",
        "arr = np.array([[1, 2, 3], [4, 5, 6]])"
      ]
    },
    {
      "cell_type": "code",
      "execution_count": null,
      "metadata": {
        "colab": {
          "base_uri": "https://localhost:8080/"
        },
        "id": "hK32-HGyNNEY",
        "outputId": "215231ea-0b67-4423-8be1-5eb2722977cd"
      },
      "outputs": [
        {
          "name": "stdout",
          "output_type": "stream",
          "text": [
            "[[ 3.  5.]\n",
            " [ 9. 11.]]\n"
          ]
        }
      ],
      "source": [
        "\n",
        "\n",
        "def moving_sum(arr, window_size):\n",
        "    \"\"\"\n",
        "    Calculate the moving sum along rows for a given window size.\n",
        "\n",
        "    Parameters:\n",
        "    arr (numpy.ndarray): The input 2D array.\n",
        "    window_size (int): The size of the moving window.\n",
        "\n",
        "    Returns:\n",
        "    numpy.ndarray: A 2D array with the moving sums.\n",
        "    \"\"\"\n",
        "    # Initialize an empty list to store the moving sums\n",
        "    result = []\n",
        "\n",
        "    # Iterate over each row\n",
        "    for row in arr:\n",
        "        # Calculate the moving sum for the current row\n",
        "        row_sums = np.convolve(row, np.ones(window_size), mode='valid')\n",
        "        result.append(row_sums)\n",
        "\n",
        "    # Convert the result list to a numpy array\n",
        "    return np.array(result)\n",
        "\n",
        "# Given array\n",
        "arr = np.array([[1, 2, 3],\n",
        "                [4, 5, 6]])\n",
        "\n",
        "# Apply the custom function with a window size of 2\n",
        "window_size = 2\n",
        "moving_sums = moving_sum(arr, window_size)\n",
        "\n",
        "print(moving_sums)\n"
      ]
    },
    {
      "cell_type": "markdown",
      "metadata": {
        "id": "DoJsWvjcNQEP"
      },
      "source": [
        "45. In the given array, check if all elements in each column are even.\n",
        "\n",
        "arr = np.array([[2, 4, 6], [3, 5, 7]])"
      ]
    },
    {
      "cell_type": "code",
      "execution_count": null,
      "metadata": {
        "colab": {
          "base_uri": "https://localhost:8080/"
        },
        "id": "XyLnDyloNclJ",
        "outputId": "12d92a01-ac90-4fb8-9ab3-9bf8d9feac84"
      },
      "outputs": [
        {
          "name": "stdout",
          "output_type": "stream",
          "text": [
            "[False False False]\n"
          ]
        }
      ],
      "source": [
        "\n",
        "# Given array\n",
        "arr = np.array([[2, 4, 6],\n",
        "                [3, 5, 7]])\n",
        "\n",
        "# Check if all elements in each column are even\n",
        "# An element is even if it is divisible by 2\n",
        "is_even = arr % 2 == 0\n",
        "\n",
        "# Check if all elements in each column are even\n",
        "all_even = np.all(is_even, axis=0)\n",
        "\n",
        "print(all_even)\n"
      ]
    },
    {
      "cell_type": "markdown",
      "metadata": {
        "id": "XdHy_indNeoq"
      },
      "source": [
        "46. Given a NumPy array arr, reshape it into a matrix of dimensions `m` rows and `n` columns. Return the\n",
        "reshaped matrix.\n",
        "\n",
        "original_array = np.array([1, 2, 3, 4, 5, 6])\n",
        "\n"
      ]
    },
    {
      "cell_type": "code",
      "execution_count": null,
      "metadata": {
        "colab": {
          "base_uri": "https://localhost:8080/"
        },
        "id": "Zuu9QzXNNpZ3",
        "outputId": "f1c85a7a-ebab-4140-ed17-5ddd1734a0d5"
      },
      "outputs": [
        {
          "name": "stdout",
          "output_type": "stream",
          "text": [
            "[[1 2 3]\n",
            " [4 5 6]]\n"
          ]
        }
      ],
      "source": [
        "\n",
        "\n",
        "# Original array\n",
        "original_array = np.array([1, 2, 3, 4, 5, 6])\n",
        "\n",
        "# Specify the desired dimensions\n",
        "m = 2  # Number of rows\n",
        "n = 3  # Number of columns\n",
        "\n",
        "# Reshape the array\n",
        "reshaped_matrix = original_array.reshape(m, n)\n",
        "\n",
        "print(reshaped_matrix)\n"
      ]
    },
    {
      "cell_type": "markdown",
      "metadata": {
        "id": "_zI3PuRZNrgs"
      },
      "source": [
        "47.Create a function that takes a matrix as input and returns the flattened array.\n",
        "\n",
        "input_matrix = np.array([[1, 2, 3], [4, 5, 6]])\n"
      ]
    },
    {
      "cell_type": "code",
      "execution_count": null,
      "metadata": {
        "colab": {
          "base_uri": "https://localhost:8080/"
        },
        "id": "h6uTiZ2VN0EM",
        "outputId": "d6514bd3-8cb9-4d85-ea5f-b472c835ed07"
      },
      "outputs": [
        {
          "name": "stdout",
          "output_type": "stream",
          "text": [
            "[1 2 3 4 5 6]\n"
          ]
        }
      ],
      "source": [
        "\n",
        "\n",
        "def flatten_matrix(matrix):\n",
        "    \"\"\"\n",
        "    Flatten a given matrix into a 1D array.\n",
        "\n",
        "    Parameters:\n",
        "    matrix (numpy.ndarray): The input 2D array (matrix).\n",
        "\n",
        "    Returns:\n",
        "    numpy.ndarray: The flattened 1D array.\n",
        "    \"\"\"\n",
        "    return matrix.flatten()  # or use matrix.ravel()\n",
        "\n",
        "# Example usage\n",
        "input_matrix = np.array([[1, 2, 3],\n",
        "                         [4, 5, 6]])\n",
        "\n",
        "flattened_array = flatten_matrix(input_matrix)\n",
        "\n",
        "print(flattened_array)\n"
      ]
    },
    {
      "cell_type": "markdown",
      "metadata": {
        "id": "enRWzdXaOGN4"
      },
      "source": [
        "48. Write a function that concatenates two given arrays along a specified axis.\n",
        "\n",
        "array1 = np.array([[1, 2], [3, 4]])\n",
        "\n",
        "\n",
        "array2 = np.array([[5, 6], [7, 8]])\n"
      ]
    },
    {
      "cell_type": "code",
      "execution_count": null,
      "metadata": {
        "colab": {
          "base_uri": "https://localhost:8080/"
        },
        "id": "BUHwQPYZOXKb",
        "outputId": "82709413-984b-4765-b188-bd5ac8cdee4b"
      },
      "outputs": [
        {
          "name": "stdout",
          "output_type": "stream",
          "text": [
            "Concatenated along axis 0:\n",
            "[[1 2]\n",
            " [3 4]\n",
            " [5 6]\n",
            " [7 8]]\n",
            "Concatenated along axis 1:\n",
            "[[1 2 5 6]\n",
            " [3 4 7 8]]\n"
          ]
        }
      ],
      "source": [
        "\n",
        "\n",
        "def concatenate_arrays(arr1, arr2, axis=0):\n",
        "    \"\"\"\n",
        "    Concatenate two arrays along the specified axis.\n",
        "\n",
        "    Parameters:\n",
        "    arr1 (numpy.ndarray): The first input array.\n",
        "    arr2 (numpy.ndarray): The second input array.\n",
        "    axis (int): The axis along which to concatenate the arrays (default is 0).\n",
        "\n",
        "    Returns:\n",
        "    numpy.ndarray: The concatenated array.\n",
        "    \"\"\"\n",
        "    return np.concatenate((arr1, arr2), axis=axis)\n",
        "\n",
        "# Example usage\n",
        "array1 = np.array([[1, 2], [3, 4]])\n",
        "array2 = np.array([[5, 6], [7, 8]])\n",
        "\n",
        "# Concatenate along axis 0 (vertically)\n",
        "result_axis0 = concatenate_arrays(array1, array2, axis=0)\n",
        "print(\"Concatenated along axis 0:\")\n",
        "print(result_axis0)\n",
        "\n",
        "# Concatenate along axis 1 (horizontally)\n",
        "result_axis1 = concatenate_arrays(array1, array2, axis=1)\n",
        "print(\"Concatenated along axis 1:\")\n",
        "print(result_axis1)\n"
      ]
    },
    {
      "cell_type": "markdown",
      "metadata": {
        "id": "gfeOMgceOZUq"
      },
      "source": [
        "49.Create a function that splits an array into multiple sub-arrays along a specified axis.\n",
        "\n",
        "original_array = np.array([[1, 2, 3], [4, 5, 6], [7, 8, 9]])\n"
      ]
    },
    {
      "cell_type": "code",
      "execution_count": null,
      "metadata": {
        "colab": {
          "base_uri": "https://localhost:8080/"
        },
        "id": "Iqu7Zw_wOsZD",
        "outputId": "35cbb2be-4a3a-4bb2-c6b1-8746ca0832ca"
      },
      "outputs": [
        {
          "name": "stdout",
          "output_type": "stream",
          "text": [
            "Split along axis 0:\n",
            "[[1 2 3]]\n",
            "[[4 5 6]]\n",
            "[[7 8 9]]\n",
            "Split along axis 1:\n",
            "[[1]\n",
            " [4]\n",
            " [7]]\n",
            "[[2]\n",
            " [5]\n",
            " [8]]\n",
            "[[3]\n",
            " [6]\n",
            " [9]]\n"
          ]
        }
      ],
      "source": [
        "\n",
        "\n",
        "def split_array(arr, num_splits, axis=0):\n",
        "    \"\"\"\n",
        "    Split an array into multiple sub-arrays along the specified axis.\n",
        "\n",
        "    Parameters:\n",
        "    arr (numpy.ndarray): The input array.\n",
        "    num_splits (int): The number of splits.\n",
        "    axis (int): The axis along which to split the array (default is 0).\n",
        "\n",
        "    Returns:\n",
        "    list: A list of numpy.ndarrays, each representing a sub-array.\n",
        "    \"\"\"\n",
        "    return np.array_split(arr, num_splits, axis=axis)\n",
        "\n",
        "# Example usage\n",
        "original_array = np.array([[1, 2, 3],\n",
        "                           [4, 5, 6],\n",
        "                           [7, 8, 9]])\n",
        "\n",
        "# Split along axis 0 into 3 sub-arrays\n",
        "sub_arrays_axis0 = split_array(original_array, num_splits=3, axis=0)\n",
        "print(\"Split along axis 0:\")\n",
        "for sub_array in sub_arrays_axis0:\n",
        "    print(sub_array)\n",
        "\n",
        "# Split along axis 1 into 3 sub-arrays\n",
        "sub_arrays_axis1 = split_array(original_array, num_splits=3, axis=1)\n",
        "print(\"Split along axis 1:\")\n",
        "for sub_array in sub_arrays_axis1:\n",
        "    print(sub_array)\n"
      ]
    },
    {
      "cell_type": "markdown",
      "metadata": {
        "id": "Xeu2i2sJOwTb"
      },
      "source": [
        "50. Write a function that inserts and then deletes elements from a given array at specified indices.\n",
        "\n",
        "original_array = np.array([1, 2, 3, 4, 5])\n",
        "\n",
        "indices_to_insert = [2, 4]\n",
        "\n",
        "values_to_insert = [10, 11]\n",
        "\n",
        "indices_to_delete = [1, 3]\n"
      ]
    },
    {
      "cell_type": "code",
      "execution_count": null,
      "metadata": {
        "colab": {
          "base_uri": "https://localhost:8080/"
        },
        "id": "YAG7pJUIPIe4",
        "outputId": "421d93b6-2f5b-4ef1-e9ac-bb32b53c9a93"
      },
      "outputs": [
        {
          "name": "stdout",
          "output_type": "stream",
          "text": [
            "[ 1 10  4 11  5]\n"
          ]
        }
      ],
      "source": [
        "\n",
        "\n",
        "def insert_and_delete(arr, indices_to_insert, values_to_insert, indices_to_delete):\n",
        "    \"\"\"\n",
        "    Insert elements into an array at specified indices, and then delete elements from the array at specified indices.\n",
        "\n",
        "    Parameters:\n",
        "    arr (numpy.ndarray): The input array.\n",
        "    indices_to_insert (list or numpy.ndarray): Indices at which to insert the values.\n",
        "    values_to_insert (list or numpy.ndarray): Values to insert at the specified indices.\n",
        "    indices_to_delete (list or numpy.ndarray): Indices at which to delete the values.\n",
        "\n",
        "    Returns:\n",
        "    numpy.ndarray: The resulting array after insertion and deletion.\n",
        "    \"\"\"\n",
        "    # Insert elements\n",
        "    arr_with_inserts = np.insert(arr, indices_to_insert, values_to_insert)\n",
        "\n",
        "    # Delete elements\n",
        "    arr_with_deletions = np.delete(arr_with_inserts, indices_to_delete)\n",
        "\n",
        "    return arr_with_deletions\n",
        "\n",
        "# Example usage\n",
        "original_array = np.array([1, 2, 3, 4, 5])\n",
        "indices_to_insert = [2, 4]\n",
        "values_to_insert = [10, 11]\n",
        "indices_to_delete = [1, 3]\n",
        "\n",
        "result_array = insert_and_delete(original_array, indices_to_insert, values_to_insert, indices_to_delete)\n",
        "\n",
        "print(result_array)\n"
      ]
    },
    {
      "cell_type": "markdown",
      "metadata": {
        "id": "B_Xx9mJLPXQJ"
      },
      "source": [
        "51. Create a NumPy array `arr1` with random integers and another array `arr2` with integers from 1 to 10.\n",
        "Perform element-wise addition between `arr1` and `arr2`."
      ]
    },
    {
      "cell_type": "code",
      "execution_count": null,
      "metadata": {
        "colab": {
          "base_uri": "https://localhost:8080/"
        },
        "id": "tgG7PH8ePa20",
        "outputId": "77961bff-f96c-4104-b621-bed08481fe0c"
      },
      "outputs": [
        {
          "name": "stdout",
          "output_type": "stream",
          "text": [
            "arr1:\n",
            "[[42 72 65 68 69]\n",
            " [50 98 93 87  2]]\n",
            "\n",
            "arr2:\n",
            "[[ 1  2  3  4  5]\n",
            " [ 6  7  8  9 10]]\n",
            "\n",
            "Result of element-wise addition:\n",
            "[[ 43  74  68  72  74]\n",
            " [ 56 105 101  96  12]]\n"
          ]
        }
      ],
      "source": [
        "\n",
        "# Create arr1 with random integers (e.g., 2x5 array for this example)\n",
        "arr1 = np.random.randint(1, 100, size=(2, 5))\n",
        "\n",
        "# Create arr2 with integers from 1 to 10, reshaped to the same shape as arr1\n",
        "arr2 = np.arange(1, 11).reshape((2, 5))\n",
        "\n",
        "# Perform element-wise addition\n",
        "result = arr1 + arr2\n",
        "\n",
        "print(\"arr1:\")\n",
        "print(arr1)\n",
        "print(\"\\narr2:\")\n",
        "print(arr2)\n",
        "print(\"\\nResult of element-wise addition:\")\n",
        "print(result)\n"
      ]
    },
    {
      "cell_type": "markdown",
      "metadata": {
        "id": "J1YwEdLLPjP4"
      },
      "source": [
        "52. Generate a NumPy array `arr1` with sequential integers from 10 to 1 and another array `arr2` with integers\n",
        "from 1 to 10. Subtract `arr2` from `arr1` element-wise."
      ]
    },
    {
      "cell_type": "code",
      "execution_count": null,
      "metadata": {
        "colab": {
          "base_uri": "https://localhost:8080/"
        },
        "id": "2tM2kTEwPphg",
        "outputId": "93f2b8a6-f359-4b82-c436-ec857520d777"
      },
      "outputs": [
        {
          "name": "stdout",
          "output_type": "stream",
          "text": [
            "arr1:\n",
            "[10  9  8  7  6  5  4  3  2  1]\n",
            "\n",
            "arr2:\n",
            "[ 1  2  3  4  5  6  7  8  9 10]\n",
            "\n",
            "Result of element-wise subtraction:\n",
            "[ 9  7  5  3  1 -1 -3 -5 -7 -9]\n"
          ]
        }
      ],
      "source": [
        "\n",
        "\n",
        "# Create arr1 with sequential integers from 10 to 1 (inclusive)\n",
        "arr1 = np.arange(10, 0, -1)\n",
        "\n",
        "# Create arr2 with integers from 1 to 10\n",
        "arr2 = np.arange(1, 11)\n",
        "\n",
        "# Perform element-wise subtraction\n",
        "result = arr1 - arr2\n",
        "\n",
        "print(\"arr1:\")\n",
        "print(arr1)\n",
        "print(\"\\narr2:\")\n",
        "print(arr2)\n",
        "print(\"\\nResult of element-wise subtraction:\")\n",
        "print(result)\n"
      ]
    },
    {
      "cell_type": "markdown",
      "metadata": {
        "id": "mOIeWtGGPrgE"
      },
      "source": [
        "53.Create a NumPy array `arr1` with random integers and another array `arr2` with integers from 1 to 5.\n",
        "Perform element-wise multiplication between `arr1` and `arr2`."
      ]
    },
    {
      "cell_type": "code",
      "execution_count": null,
      "metadata": {
        "colab": {
          "base_uri": "https://localhost:8080/"
        },
        "id": "qoJmTpGUPxz_",
        "outputId": "9f701f9a-f710-42d4-a9d1-0e102b3d03c8"
      },
      "outputs": [
        {
          "name": "stdout",
          "output_type": "stream",
          "text": [
            "arr1:\n",
            "[[7 8 2 4 2]\n",
            " [7 2 1 3 4]\n",
            " [4 4 1 3 7]]\n",
            "\n",
            "arr2:\n",
            "[[1 2 3 4 5]]\n",
            "\n",
            "Result of element-wise multiplication:\n",
            "[[ 7 16  6 16 10]\n",
            " [ 7  4  3 12 20]\n",
            " [ 4  8  3 12 35]]\n"
          ]
        }
      ],
      "source": [
        "\n",
        "\n",
        "# Create arr1 with random integers (e.g., 3x5 array for this example)\n",
        "arr1 = np.random.randint(1, 10, size=(3, 5))\n",
        "\n",
        "# Create arr2 with integers from 1 to 5, reshaped to match arr1\n",
        "arr2 = np.arange(1, 6).reshape((1, 5))\n",
        "\n",
        "# Perform element-wise multiplication\n",
        "result = arr1 * arr2\n",
        "\n",
        "print(\"arr1:\")\n",
        "print(arr1)\n",
        "print(\"\\narr2:\")\n",
        "print(arr2)\n",
        "print(\"\\nResult of element-wise multiplication:\")\n",
        "print(result)\n"
      ]
    },
    {
      "cell_type": "markdown",
      "metadata": {
        "id": "4TOHfWbLP9ao"
      },
      "source": [
        "54.Generate a NumPy array `arr1` with even integers from 2 to 10 and another array `arr2` with integers from 1\n",
        "to 5. Perform element-wise division of `arr1` by `arr2`."
      ]
    },
    {
      "cell_type": "code",
      "execution_count": null,
      "metadata": {
        "colab": {
          "base_uri": "https://localhost:8080/"
        },
        "id": "U_JrVqUyQA2N",
        "outputId": "c11dd469-fe6f-4934-c23a-c7e18d710744"
      },
      "outputs": [
        {
          "name": "stdout",
          "output_type": "stream",
          "text": [
            "arr1:\n",
            "[ 2  4  6  8 10]\n",
            "\n",
            "arr2:\n",
            "[1 2 3 4 5]\n",
            "\n",
            "Result of element-wise division:\n",
            "[[2. 2. 2. 2. 2.]]\n"
          ]
        }
      ],
      "source": [
        "\n",
        "\n",
        "# Create arr1 with even integers from 2 to 10\n",
        "arr1 = np.arange(2, 11, 2)\n",
        "\n",
        "# Create arr2 with integers from 1 to 5\n",
        "arr2 = np.arange(1, 6)\n",
        "\n",
        "# Perform element-wise division\n",
        "# Reshape arr2 to be broadcastable to the shape of arr1\n",
        "arr2_reshaped = arr2.reshape((1, -1))  # Reshape arr2 to 1x5 array for broadcasting\n",
        "\n",
        "# Perform division\n",
        "result = arr1 / arr2_reshaped\n",
        "\n",
        "print(\"arr1:\")\n",
        "print(arr1)\n",
        "print(\"\\narr2:\")\n",
        "print(arr2)\n",
        "print(\"\\nResult of element-wise division:\")\n",
        "print(result)\n",
        "\n"
      ]
    },
    {
      "cell_type": "markdown",
      "metadata": {
        "id": "0Xt07gofQHBo"
      },
      "source": [
        "55.Create a NumPy array `arr1` with integers from 1 to 5 and another array `arr2` with the same numbers\n",
        "reversed. Calculate the exponentiation of `arr1` raised to the power of `arr2` element-wise."
      ]
    },
    {
      "cell_type": "code",
      "execution_count": null,
      "metadata": {
        "colab": {
          "base_uri": "https://localhost:8080/"
        },
        "id": "3B7He7mrQLAw",
        "outputId": "841d9653-1150-46ec-efb1-1a19712de27b"
      },
      "outputs": [
        {
          "name": "stdout",
          "output_type": "stream",
          "text": [
            "arr1:\n",
            "[1 2 3 4 5]\n",
            "\n",
            "arr2:\n",
            "[5 4 3 2 1]\n",
            "\n",
            "Result of element-wise exponentiation:\n",
            "[ 1 16 27 16  5]\n"
          ]
        }
      ],
      "source": [
        "\n",
        "\n",
        "# Create arr1 with integers from 1 to 5\n",
        "arr1 = np.arange(1, 6)\n",
        "\n",
        "# Create arr2 with the same numbers reversed\n",
        "arr2 = arr1[::-1]\n",
        "\n",
        "# Perform element-wise exponentiation\n",
        "result = arr1 ** arr2\n",
        "\n",
        "print(\"arr1:\")\n",
        "print(arr1)\n",
        "print(\"\\narr2:\")\n",
        "print(arr2)\n",
        "print(\"\\nResult of element-wise exponentiation:\")\n",
        "print(result)\n"
      ]
    },
    {
      "cell_type": "markdown",
      "metadata": {
        "id": "g4s4pE0_QRA5"
      },
      "source": [
        "56.Write a function that counts the occurrences of a specific substring within a NumPy array of strings.\n",
        "\n",
        "\n",
        "arr = np.array(['hello', 'world', 'hello', 'numpy', 'hello'])\n",
        "\n",
        "\n"
      ]
    },
    {
      "cell_type": "code",
      "execution_count": null,
      "metadata": {
        "colab": {
          "base_uri": "https://localhost:8080/"
        },
        "id": "KPUfgtcKQZO-",
        "outputId": "ba7aa570-a793-4f77-987c-1c26f3544457"
      },
      "outputs": [
        {
          "name": "stdout",
          "output_type": "stream",
          "text": [
            "Occurrences of 'hello': 3\n"
          ]
        }
      ],
      "source": [
        "\n",
        "def count_substring_occurrences(arr, substring):\n",
        "    \"\"\"\n",
        "    Count the occurrences of a specific substring within a NumPy array of strings.\n",
        "\n",
        "    Parameters:\n",
        "    arr (numpy.ndarray): The input array of strings.\n",
        "    substring (str): The substring to count occurrences of.\n",
        "\n",
        "    Returns:\n",
        "    int: The total count of the substring within the array.\n",
        "    \"\"\"\n",
        "    # Convert the array to a list of strings and count occurrences of the substring\n",
        "    count = sum(s.count(substring) for s in arr)\n",
        "    return count\n",
        "\n",
        "# Example usage\n",
        "arr = np.array(['hello', 'world', 'hello', 'numpy', 'hello'])\n",
        "substring = 'hello'\n",
        "\n",
        "# Count occurrences of the substring\n",
        "occurrences = count_substring_occurrences(arr, substring)\n",
        "\n",
        "print(f\"Occurrences of '{substring}':\", occurrences)\n"
      ]
    },
    {
      "cell_type": "markdown",
      "metadata": {
        "id": "a05P2X0LQkGG"
      },
      "source": [
        "57.Write a function that extracts uppercase characters from a NumPy array of strings.\n",
        "\n",
        "arr = np.array(['Hello', 'World', 'OpenAI', 'GPT'])\n",
        "\n",
        "arr = np.array(['Hello', 'World', 'OpenAI', 'GPT'])"
      ]
    },
    {
      "cell_type": "code",
      "execution_count": null,
      "metadata": {
        "colab": {
          "base_uri": "https://localhost:8080/"
        },
        "id": "TZxIKJlkQzSf",
        "outputId": "305323b1-b359-4a29-b8ac-39548c3da02f"
      },
      "outputs": [
        {
          "name": "stdout",
          "output_type": "stream",
          "text": [
            "Extracted uppercase characters:\n",
            "['H', 'W', 'OAI', 'GPT']\n"
          ]
        }
      ],
      "source": [
        "\n",
        "\n",
        "def extract_uppercase(arr):\n",
        "    \"\"\"\n",
        "    Extract uppercase characters from a NumPy array of strings.\n",
        "\n",
        "    Parameters:\n",
        "    arr (numpy.ndarray): The input array of strings.\n",
        "\n",
        "    Returns:\n",
        "    list: A list of strings where each string contains only the uppercase characters from the corresponding input string.\n",
        "    \"\"\"\n",
        "    uppercase_chars = [ ''.join([char for char in s if char.isupper()]) for s in arr ]\n",
        "    return uppercase_chars\n",
        "\n",
        "# Example usage\n",
        "arr = np.array(['Hello', 'World', 'OpenAI', 'GPT'])\n",
        "\n",
        "# Extract uppercase characters\n",
        "uppercase_extracted = extract_uppercase(arr)\n",
        "\n",
        "print(\"Extracted uppercase characters:\")\n",
        "print(uppercase_extracted)\n"
      ]
    },
    {
      "cell_type": "markdown",
      "metadata": {
        "id": "9Lk2W5u5Q2Eo"
      },
      "source": [
        "58.Write a function that replaces occurrences of a substring in a NumPy array of strings with a new string.\n",
        "\n",
        "arr = np.array(['apple', 'banana', 'grape', 'pineapple'])\n"
      ]
    },
    {
      "cell_type": "code",
      "execution_count": null,
      "metadata": {
        "colab": {
          "base_uri": "https://localhost:8080/"
        },
        "id": "YOj_wTzMRBHR",
        "outputId": "3572dc4a-e0e5-4286-b5cc-e05d298238ae"
      },
      "outputs": [
        {
          "name": "stdout",
          "output_type": "stream",
          "text": [
            "Original array:\n",
            "['apple' 'banana' 'grape' 'pineapple']\n",
            "\n",
            "Modified array:\n",
            "['orange' 'banana' 'grape' 'pineorange']\n"
          ]
        }
      ],
      "source": [
        "\n",
        "\n",
        "def replace_substring(arr, old_substring, new_substring):\n",
        "    \"\"\"\n",
        "    Replace occurrences of a substring in a NumPy array of strings with a new string.\n",
        "\n",
        "    Parameters:\n",
        "    arr (numpy.ndarray): The input array of strings.\n",
        "    old_substring (str): The substring to replace.\n",
        "    new_substring (str): The new string to replace the old substring with.\n",
        "\n",
        "    Returns:\n",
        "    numpy.ndarray: A new NumPy array with the substrings replaced.\n",
        "    \"\"\"\n",
        "    # Apply the replacement operation to each string in the array\n",
        "    replaced_array = np.array([s.replace(old_substring, new_substring) for s in arr])\n",
        "    return replaced_array\n",
        "\n",
        "# Example usage\n",
        "arr = np.array(['apple', 'banana', 'grape', 'pineapple'])\n",
        "old_substring = 'apple'\n",
        "new_substring = 'orange'\n",
        "\n",
        "# Replace occurrences of the substring\n",
        "result_array = replace_substring(arr, old_substring, new_substring)\n",
        "\n",
        "print(\"Original array:\")\n",
        "print(arr)\n",
        "print(\"\\nModified array:\")\n",
        "print(result_array)\n"
      ]
    },
    {
      "cell_type": "markdown",
      "metadata": {
        "id": "iWN96a2fRDOn"
      },
      "source": [
        "59.Write a function that concatenates strings in a NumPy array element-wise.\n",
        "\n",
        "arr1 = np.array(['Hello', 'World'])\n",
        "\n",
        "arr2 = np.array(['Open', 'AI'])"
      ]
    },
    {
      "cell_type": "code",
      "execution_count": null,
      "metadata": {
        "colab": {
          "base_uri": "https://localhost:8080/"
        },
        "id": "pl9uKuZeRVCS",
        "outputId": "db026bc7-2520-467b-d91a-eebfae80857b"
      },
      "outputs": [
        {
          "name": "stdout",
          "output_type": "stream",
          "text": [
            "Array 1:\n",
            "['Hello' 'World']\n",
            "\n",
            "Array 2:\n",
            "['Open' 'AI']\n",
            "\n",
            "Concatenated Array:\n",
            "['HelloOpen' 'WorldAI']\n"
          ]
        }
      ],
      "source": [
        "\n",
        "\n",
        "def concatenate_strings(arr1, arr2):\n",
        "    \"\"\"\n",
        "    Concatenate strings in two NumPy arrays element-wise.\n",
        "\n",
        "    Parameters:\n",
        "    arr1 (numpy.ndarray): The first array of strings.\n",
        "    arr2 (numpy.ndarray): The second array of strings.\n",
        "\n",
        "    Returns:\n",
        "    numpy.ndarray: A new NumPy array with concatenated strings.\n",
        "    \"\"\"\n",
        "    # Ensure both arrays have the same shape\n",
        "    if arr1.shape != arr2.shape:\n",
        "        raise ValueError(\"Arrays must have the same shape for element-wise concatenation.\")\n",
        "\n",
        "    # Concatenate strings element-wise\n",
        "    concatenated_array = np.char.add(arr1, arr2)\n",
        "    return concatenated_array\n",
        "\n",
        "# Example usage\n",
        "arr1 = np.array(['Hello', 'World'])\n",
        "arr2 = np.array(['Open', 'AI'])\n",
        "\n",
        "# Concatenate strings element-wise\n",
        "result_array = concatenate_strings(arr1, arr2)\n",
        "\n",
        "print(\"Array 1:\")\n",
        "print(arr1)\n",
        "print(\"\\nArray 2:\")\n",
        "print(arr2)\n",
        "print(\"\\nConcatenated Array:\")\n",
        "print(result_array)\n"
      ]
    },
    {
      "cell_type": "markdown",
      "metadata": {
        "id": "rtUK5GHKRgwp"
      },
      "source": [
        "60. Write a function that finds the length of the longest string in a NumPy array.\n",
        "\n",
        "arr = np.array(['apple', 'banana', 'grape', 'pineapple'])\n",
        "\n",
        "arr = np.array(['apple', 'banana', 'grape', 'pineapple'])"
      ]
    },
    {
      "cell_type": "code",
      "execution_count": null,
      "metadata": {
        "colab": {
          "base_uri": "https://localhost:8080/"
        },
        "id": "StypenmxRu91",
        "outputId": "663576d7-4810-4201-a385-b4e04a03831c"
      },
      "outputs": [
        {
          "name": "stdout",
          "output_type": "stream",
          "text": [
            "Array:\n",
            "['apple' 'banana' 'grape' 'pineapple']\n",
            "\n",
            "Length of the longest string: 9\n"
          ]
        }
      ],
      "source": [
        "\n",
        "\n",
        "def longest_string_length(arr):\n",
        "    \"\"\"\n",
        "    Find the length of the longest string in a NumPy array.\n",
        "\n",
        "    Parameters:\n",
        "    arr (numpy.ndarray): The input array of strings.\n",
        "\n",
        "    Returns:\n",
        "    int: The length of the longest string.\n",
        "    \"\"\"\n",
        "    # Compute the length of each string\n",
        "    lengths = np.vectorize(len)(arr)\n",
        "\n",
        "    # Find the maximum length\n",
        "    max_length = np.max(lengths)\n",
        "\n",
        "    return max_length\n",
        "\n",
        "# Example usage\n",
        "arr = np.array(['apple', 'banana', 'grape', 'pineapple'])\n",
        "\n",
        "# Find the length of the longest string\n",
        "max_len = longest_string_length(arr)\n",
        "\n",
        "print(\"Array:\")\n",
        "print(arr)\n",
        "print(\"\\nLength of the longest string:\", max_len)\n"
      ]
    },
    {
      "cell_type": "markdown",
      "metadata": {
        "id": "mpGhRrNBVggC"
      },
      "source": [
        "61.. Create a dataset of 100 random integers between 1 and 1000. Compute the mean, median, variance, and\n",
        "standard deviation of the dataset using NumPy's functions."
      ]
    },
    {
      "cell_type": "code",
      "execution_count": null,
      "metadata": {
        "colab": {
          "base_uri": "https://localhost:8080/"
        },
        "id": "ZvWvHpbRVj5S",
        "outputId": "c93bda84-ad32-4bc8-8d57-bbe3cae9a895"
      },
      "outputs": [
        {
          "name": "stdout",
          "output_type": "stream",
          "text": [
            "Dataset:\n",
            "[666 715 987 795 864 723 256 879 824 924 849 611 529 669   9 611 176 554\n",
            " 721 291 979 137 947 223 625 719 863 330 512 262 414 739 774 527 708 434\n",
            "  16 376 233 878 920  28 617 959 541 242 115 464 163 989 398 327 883 492\n",
            " 163 644 338 180   3 268 869 698 778  41 825 393 307 694 501 673 733  48\n",
            " 129  41 538 547 877 640 175 783  22 205 899  44 988 222 287 949 745 441\n",
            " 713 188 969 827 260 636 821 165 615  82]\n",
            "\n",
            "Mean: 524.51\n",
            "Median: 550.5\n",
            "Variance: 90415.04989999998\n",
            "Standard Deviation: 300.6909541373002\n"
          ]
        }
      ],
      "source": [
        "\n",
        "\n",
        "# Generate a dataset of 100 random integers between 1 and 1000\n",
        "dataset = np.random.randint(1, 1001, size=100)\n",
        "\n",
        "# Compute the mean\n",
        "mean = np.mean(dataset)\n",
        "\n",
        "# Compute the median\n",
        "median = np.median(dataset)\n",
        "\n",
        "# Compute the variance\n",
        "variance = np.var(dataset)\n",
        "\n",
        "# Compute the standard deviation\n",
        "std_dev = np.std(dataset)\n",
        "\n",
        "print(\"Dataset:\")\n",
        "print(dataset)\n",
        "print(\"\\nMean:\", mean)\n",
        "print(\"Median:\", median)\n",
        "print(\"Variance:\", variance)\n",
        "print(\"Standard Deviation:\", std_dev)\n"
      ]
    },
    {
      "cell_type": "markdown",
      "metadata": {
        "id": "qoD1ETJSVuj0"
      },
      "source": [
        "62.Generate an array of 50 random numbers between 1 and 100. Find the 25th and 75th percentiles of the\n",
        "dataset."
      ]
    },
    {
      "cell_type": "code",
      "execution_count": null,
      "metadata": {
        "colab": {
          "base_uri": "https://localhost:8080/"
        },
        "id": "Ky47A-riVxUa",
        "outputId": "4bbb154f-d953-4d5f-8264-ac59bb56067b"
      },
      "outputs": [
        {
          "name": "stdout",
          "output_type": "stream",
          "text": [
            "Data Array:\n",
            "[ 42  85  82  86  30  88  72  70   7  60  53  39  66  14  22  61  92  30\n",
            "  62  78  44  68  96  27  25 100  15  11  61  64  23   3  57  41  92  92\n",
            "  48  57  13  87  38  29  37  96  60  77  90  81  88  58]\n",
            "\n",
            "25th Percentile: 31.75\n",
            "75th Percentile: 81.75\n"
          ]
        }
      ],
      "source": [
        "\n",
        "\n",
        "# Generate an array of 50 random numbers between 1 and 100\n",
        "data = np.random.randint(1, 101, size=50)\n",
        "\n",
        "# Calculate the 25th and 75th percentiles\n",
        "percentile_25 = np.percentile(data, 25)\n",
        "percentile_75 = np.percentile(data, 75)\n",
        "\n",
        "print(\"Data Array:\")\n",
        "print(data)\n",
        "print(\"\\n25th Percentile:\", percentile_25)\n",
        "print(\"75th Percentile:\", percentile_75)\n"
      ]
    },
    {
      "cell_type": "markdown",
      "metadata": {
        "id": "Dk4c8IWUV5je"
      },
      "source": [
        "63.Create two arrays representing two sets of variables. Compute the correlation coefficient between these\n",
        "arrays using NumPy's `corrcoef` function."
      ]
    },
    {
      "cell_type": "code",
      "execution_count": null,
      "metadata": {
        "colab": {
          "base_uri": "https://localhost:8080/"
        },
        "id": "hk4m-W9lWD1h",
        "outputId": "1fe06223-67c1-42f5-acae-5e056a1cba74"
      },
      "outputs": [
        {
          "name": "stdout",
          "output_type": "stream",
          "text": [
            "Array 1:\n",
            "[1 2 3 4 5]\n",
            "\n",
            "Array 2:\n",
            "[5 4 3 2 1]\n",
            "\n",
            "Correlation Coefficient Matrix:\n",
            "[[ 1. -1.]\n",
            " [-1.  1.]]\n"
          ]
        }
      ],
      "source": [
        "\n",
        "\n",
        "# Create two arrays representing two sets of variables\n",
        "array1 = np.array([1, 2, 3, 4, 5])\n",
        "array2 = np.array([5, 4, 3, 2, 1])\n",
        "\n",
        "# Compute the correlation coefficient matrix\n",
        "corr_matrix = np.corrcoef(array1, array2)\n",
        "\n",
        "print(\"Array 1:\")\n",
        "print(array1)\n",
        "print(\"\\nArray 2:\")\n",
        "print(array2)\n",
        "print(\"\\nCorrelation Coefficient Matrix:\")\n",
        "print(corr_matrix)\n"
      ]
    },
    {
      "cell_type": "markdown",
      "metadata": {
        "id": "iMKRoBk9WFyS"
      },
      "source": [
        "64.Create two matrices and perform matrix multiplication using NumPy's `dot` function"
      ]
    },
    {
      "cell_type": "code",
      "execution_count": null,
      "metadata": {
        "colab": {
          "base_uri": "https://localhost:8080/"
        },
        "id": "ZioeJVrgWMy9",
        "outputId": "94300182-998a-4bc5-904b-304f80c0b91e"
      },
      "outputs": [
        {
          "name": "stdout",
          "output_type": "stream",
          "text": [
            "Matrix 1:\n",
            "[[1 2]\n",
            " [3 4]]\n",
            "\n",
            "Matrix 2:\n",
            "[[5 6]\n",
            " [7 8]]\n",
            "\n",
            "Matrix Multiplication Result:\n",
            "[[19 22]\n",
            " [43 50]]\n"
          ]
        }
      ],
      "source": [
        "\n",
        "\n",
        "# Create two matrices\n",
        "matrix1 = np.array([[1, 2], [3, 4]])\n",
        "matrix2 = np.array([[5, 6], [7, 8]])\n",
        "\n",
        "# Perform matrix multiplication using np.dot\n",
        "result = np.dot(matrix1, matrix2)\n",
        "\n",
        "print(\"Matrix 1:\")\n",
        "print(matrix1)\n",
        "print(\"\\nMatrix 2:\")\n",
        "print(matrix2)\n",
        "print(\"\\nMatrix Multiplication Result:\")\n",
        "print(result)\n"
      ]
    },
    {
      "cell_type": "markdown",
      "metadata": {
        "id": "QmfXgj5CWOyF"
      },
      "source": [
        "65. Create an array of 50 integers between 10 and 1000. Calculate the 10th, 50th (median), and 90th\n",
        "percentiles along with the first and third quartiles."
      ]
    },
    {
      "cell_type": "code",
      "execution_count": null,
      "metadata": {
        "colab": {
          "base_uri": "https://localhost:8080/"
        },
        "id": "iNB05RofWScS",
        "outputId": "6feef43b-b95b-4b57-d72b-4c8f95ee6146"
      },
      "outputs": [
        {
          "name": "stdout",
          "output_type": "stream",
          "text": [
            "Data Array:\n",
            "[297 400 447 640 176 402 916 695  95 582 983 396 593 483  62 756 333 147\n",
            " 995 215 330 600 195  69 544 214 946 848 180 144 729  62 892 924  86 336\n",
            " 419 557 911 275 723 847 503 814 921 400 924 977 908 852]\n",
            "\n",
            "10th Percentile: 139.10000000000002\n",
            "50th Percentile (Median): 523.5\n",
            "90th Percentile: 924.0\n",
            "First Quartile (25th Percentile): 280.5\n",
            "Third Quartile (75th Percentile): 847.75\n"
          ]
        }
      ],
      "source": [
        "\n",
        "\n",
        "# Generate an array of 50 integers between 10 and 1000\n",
        "data = np.random.randint(10, 1001, size=50)\n",
        "\n",
        "# Calculate percentiles\n",
        "percentile_10 = np.percentile(data, 10)\n",
        "percentile_50 = np.percentile(data, 50)  # This is the median\n",
        "percentile_90 = np.percentile(data, 90)\n",
        "\n",
        "# Calculate quartiles\n",
        "first_quartile = np.percentile(data, 25)\n",
        "third_quartile = np.percentile(data, 75)\n",
        "\n",
        "print(\"Data Array:\")\n",
        "print(data)\n",
        "print(\"\\n10th Percentile:\", percentile_10)\n",
        "print(\"50th Percentile (Median):\", percentile_50)\n",
        "print(\"90th Percentile:\", percentile_90)\n",
        "print(\"First Quartile (25th Percentile):\", first_quartile)\n",
        "print(\"Third Quartile (75th Percentile):\", third_quartile)\n"
      ]
    },
    {
      "cell_type": "markdown",
      "metadata": {
        "id": "s6hI-OfhWYWs"
      },
      "source": [
        "66.Create a NumPy array of integers and find the index of a specific element."
      ]
    },
    {
      "cell_type": "code",
      "execution_count": null,
      "metadata": {
        "colab": {
          "base_uri": "https://localhost:8080/"
        },
        "id": "QgMgbaVTWcG1",
        "outputId": "7b55a7c7-fbc1-4ec6-8fce-37b34b2d8c88"
      },
      "outputs": [
        {
          "name": "stdout",
          "output_type": "stream",
          "text": [
            "Array:\n",
            "[ 10  20  30  40  50  60  70  80  90 100]\n",
            "\n",
            "Index of element 50 : [4]\n"
          ]
        }
      ],
      "source": [
        "\n",
        "\n",
        "# Create a NumPy array of integers\n",
        "array = np.array([10, 20, 30, 40, 50, 60, 70, 80, 90, 100])\n",
        "\n",
        "# Define the specific element to find\n",
        "element = 50\n",
        "\n",
        "# Find the index of the specific element\n",
        "index = np.where(array == element)[0]\n",
        "\n",
        "print(\"Array:\")\n",
        "print(array)\n",
        "print(\"\\nIndex of element\", element, \":\", index)\n"
      ]
    },
    {
      "cell_type": "code",
      "execution_count": null,
      "metadata": {
        "colab": {
          "base_uri": "https://localhost:8080/"
        },
        "id": "Eb-lPvKXWl8U",
        "outputId": "470da614-40a4-4c96-83f6-aabedac1cc31"
      },
      "outputs": [
        {
          "name": "stdout",
          "output_type": "stream",
          "text": [
            "Array:\n",
            "[ 10  20  30  40  50  60  70  80  90 100]\n",
            "\n",
            "Index of element 50 : 4\n"
          ]
        }
      ],
      "source": [
        "\n",
        "\n",
        "# Create a NumPy array of integers\n",
        "array = np.array([10, 20, 30, 40, 50, 60, 70, 80, 90, 100])\n",
        "\n",
        "# Define the specific element to find\n",
        "element = 50\n",
        "\n",
        "# Find the index of the specific element\n",
        "index = np.argmax(array == element)\n",
        "\n",
        "print(\"Array:\")\n",
        "print(array)\n",
        "print(\"\\nIndex of element\", element, \":\", index)\n"
      ]
    },
    {
      "cell_type": "markdown",
      "metadata": {
        "id": "3prY2qz-WpEj"
      },
      "source": [
        "67. Generate a random NumPy array and sort it in ascending order."
      ]
    },
    {
      "cell_type": "code",
      "execution_count": null,
      "metadata": {
        "colab": {
          "base_uri": "https://localhost:8080/"
        },
        "id": "poelai1GWsRv",
        "outputId": "486f2ebf-0873-4ff8-e819-3f0f7f0c8c09"
      },
      "outputs": [
        {
          "name": "stdout",
          "output_type": "stream",
          "text": [
            "Original Array:\n",
            "[ 68  52  47   1  10  33 100  57  97  18]\n",
            "\n",
            "Sorted Array:\n",
            "[  1  10  18  33  47  52  57  68  97 100]\n"
          ]
        }
      ],
      "source": [
        "\n",
        "\n",
        "# Generate a random NumPy array of integers between 1 and 100\n",
        "random_array = np.random.randint(1, 101, size=10)\n",
        "\n",
        "# Sort the array in ascending order\n",
        "sorted_array = np.sort(random_array)\n",
        "\n",
        "print(\"Original Array:\")\n",
        "print(random_array)\n",
        "print(\"\\nSorted Array:\")\n",
        "print(sorted_array)\n"
      ]
    },
    {
      "cell_type": "markdown",
      "metadata": {
        "id": "6hjKbgxNWyDE"
      },
      "source": [
        "68.. Filter elements >20  in the given NumPy array.\n",
        "\n",
        "arr = np.array([12, 25, 6, 42, 8, 30])\n"
      ]
    },
    {
      "cell_type": "code",
      "execution_count": null,
      "metadata": {
        "colab": {
          "base_uri": "https://localhost:8080/"
        },
        "id": "g7lcdzMcW9ku",
        "outputId": "bd7a5ea0-8410-4663-e0fe-7cff2a1bab9a"
      },
      "outputs": [
        {
          "name": "stdout",
          "output_type": "stream",
          "text": [
            "Original Array:\n",
            "[12 25  6 42  8 30]\n",
            "\n",
            "Filtered Elements (greater than 20):\n",
            "[25 42 30]\n"
          ]
        }
      ],
      "source": [
        "\n",
        "\n",
        "# Given NumPy array\n",
        "arr = np.array([12, 25, 6, 42, 8, 30])\n",
        "\n",
        "# Filter elements greater than 20\n",
        "filtered_elements = arr[arr > 20]\n",
        "\n",
        "print(\"Original Array:\")\n",
        "print(arr)\n",
        "print(\"\\nFiltered Elements (greater than 20):\")\n",
        "print(filtered_elements)\n"
      ]
    },
    {
      "cell_type": "markdown",
      "metadata": {
        "id": "0XkgzQ52XBXI"
      },
      "source": [
        "69. Filter elements which are divisible by 3 from a given NumPy array.\n",
        "\n",
        "arr = np.array([1, 5, 8, 12, 15])"
      ]
    },
    {
      "cell_type": "code",
      "execution_count": null,
      "metadata": {
        "colab": {
          "base_uri": "https://localhost:8080/"
        },
        "id": "IErprVExXRRI",
        "outputId": "06ccfff2-e91b-43b3-a0e1-6627de436cce"
      },
      "outputs": [
        {
          "name": "stdout",
          "output_type": "stream",
          "text": [
            "[12 15]\n"
          ]
        }
      ],
      "source": [
        "\n",
        "\n",
        "arr = np.array([1, 5, 8, 12, 15])\n",
        "filtered_arr = arr[arr % 3 == 0]\n",
        "print(filtered_arr)\n"
      ]
    },
    {
      "cell_type": "markdown",
      "metadata": {
        "id": "dF01MqYiXTov"
      },
      "source": [
        "70. Filter elements which are ≥ 20 and ≤ 40 from a given NumPy array.\n",
        "\n",
        "arr = np.array([10, 20, 30, 40, 50])\n"
      ]
    },
    {
      "cell_type": "code",
      "execution_count": null,
      "metadata": {
        "colab": {
          "base_uri": "https://localhost:8080/"
        },
        "id": "IGeq_brFXcgT",
        "outputId": "23daca94-6141-4682-e3f1-f5cd25611a1e"
      },
      "outputs": [
        {
          "name": "stdout",
          "output_type": "stream",
          "text": [
            "[20 30 40]\n"
          ]
        }
      ],
      "source": [
        "import numpy as np\n",
        "\n",
        "arr = np.array([10, 20, 30, 40, 50])\n",
        "filtered_arr = arr[(arr >= 20) & (arr <= 40)]\n",
        "print(filtered_arr)\n"
      ]
    },
    {
      "cell_type": "markdown",
      "metadata": {
        "id": "DsPFwkT6XeVz"
      },
      "source": [
        "71.. For the given NumPy array, check its byte order using the `dtype` attribute byteorder.\n",
        "\n",
        "arr = np.array([1, 2, 3])\n"
      ]
    },
    {
      "cell_type": "code",
      "execution_count": null,
      "metadata": {
        "colab": {
          "base_uri": "https://localhost:8080/"
        },
        "id": "-ei_rTfdXtVT",
        "outputId": "b09dc996-5e62-45b4-c2e0-c32f6594104a"
      },
      "outputs": [
        {
          "name": "stdout",
          "output_type": "stream",
          "text": [
            "=\n"
          ]
        }
      ],
      "source": [
        "\n",
        "\n",
        "arr = np.array([1, 2, 3])\n",
        "byte_order = arr.dtype.byteorder\n",
        "print(byte_order)\n"
      ]
    },
    {
      "cell_type": "markdown",
      "metadata": {
        "id": "S4_l963XXyXZ"
      },
      "source": [
        "72. For the given NumPy array, perform byte swapping in place using `byteswap()`.\n",
        "\n",
        "arr = np.array([1, 2, 3], dtype=np.int32)\n"
      ]
    },
    {
      "cell_type": "code",
      "execution_count": null,
      "metadata": {
        "colab": {
          "base_uri": "https://localhost:8080/"
        },
        "id": "8EFrqM4lX_gJ",
        "outputId": "44c3e908-dbfa-4041-df48-e6c29baa84de"
      },
      "outputs": [
        {
          "name": "stdout",
          "output_type": "stream",
          "text": [
            "Original array: [1 2 3]\n",
            "Original byte order: =\n",
            "Array after byte swapping: [16777216 33554432 50331648]\n",
            "Byte order after swapping: =\n"
          ]
        }
      ],
      "source": [
        "\n",
        "\n",
        "arr = np.array([1, 2, 3], dtype=np.int32)\n",
        "print(\"Original array:\", arr)\n",
        "print(\"Original byte order:\", arr.dtype.byteorder)\n",
        "\n",
        "arr.byteswap(inplace=True)\n",
        "print(\"Array after byte swapping:\", arr)\n",
        "print(\"Byte order after swapping:\", arr.dtype.byteorder)\n"
      ]
    },
    {
      "cell_type": "markdown",
      "metadata": {
        "id": "73cxPSJYYG8n"
      },
      "source": [
        "73.For the given NumPy array, swap its byte order without modifying the original array using\n",
        "`newbyteorder()`.\n",
        "\n",
        "arr = np.array([1, 2, 3], dtype=np.int32)"
      ]
    },
    {
      "cell_type": "code",
      "execution_count": null,
      "metadata": {
        "colab": {
          "base_uri": "https://localhost:8080/"
        },
        "id": "14IX2IMlYQQe",
        "outputId": "d01181c8-030e-43d7-dcbb-4863e5f8272c"
      },
      "outputs": [
        {
          "name": "stdout",
          "output_type": "stream",
          "text": [
            "Original Array (byte order): =\n",
            "\n",
            "Array with Swapped Byte Order: [1 2 3 4]\n"
          ]
        }
      ],
      "source": [
        "\n",
        "# Example array\n",
        "arr = np.array([1, 2, 3, 4], dtype='int32')\n",
        "\n",
        "print(\"Original Array (byte order):\", arr.dtype.byteorder)\n",
        "\n",
        "# Swap byte order without modifying the original array\n",
        "swapped_arr = arr.view(arr.dtype.newbyteorder('<'))  # Use '<' for little-endian or '>' for big-endian\n",
        "\n",
        "# Print the new array with swapped byte order\n",
        "print(\"\\nArray with Swapped Byte Order:\", swapped_arr)\n"
      ]
    },
    {
      "cell_type": "markdown",
      "metadata": {
        "id": "bEWsQaMCYSzB"
      },
      "source": [
        "74. For the given NumPy array and swap its byte order conditionally based on system endianness using\n",
        "`newbyteorder()`.\n",
        "\n",
        "\n",
        "arr = np.array([1, 2, 3], dtype=np.int32)\n"
      ]
    },
    {
      "cell_type": "code",
      "execution_count": null,
      "metadata": {
        "colab": {
          "base_uri": "https://localhost:8080/"
        },
        "id": "K4Ft5K3uYcgm",
        "outputId": "da54912b-0960-470e-8a4b-2bad77e623ea"
      },
      "outputs": [
        {
          "name": "stdout",
          "output_type": "stream",
          "text": [
            "Original Array: [1 2 3 4]\n",
            "Array with Swapped Byte Order: [1 2 3 4]\n"
          ]
        }
      ],
      "source": [
        "\n",
        "\n",
        "# Example array\n",
        "arr = np.array([1, 2, 3, 4], dtype='int32')\n",
        "\n",
        "# Desired endianness (e.g., '<' for little-endian or '>' for big-endian)\n",
        "desired_endianness = '<'  # Set the desired byte order here\n",
        "\n",
        "# Swap byte order conditionally based on system endianness\n",
        "if arr.dtype.byteorder != desired_endianness:\n",
        "    swapped_arr = arr.view(arr.dtype.newbyteorder(desired_endianness))\n",
        "else:\n",
        "    swapped_arr = arr.copy()  # No change needed if already in desired endianness\n",
        "\n",
        "# Print the original and swapped arrays\n",
        "print(\"Original Array:\", arr)\n",
        "print(\"Array with Swapped Byte Order:\", swapped_arr)\n"
      ]
    },
    {
      "cell_type": "markdown",
      "metadata": {
        "id": "w4W3XOQLYesx"
      },
      "source": [
        "75. For the given NumPy array, check if byte swapping is necessary for the current system using `dtype`\n",
        "attribute `byteorder`.\n",
        "\n",
        "arr = np.array([1, 2, 3], dtype=np.int32)"
      ]
    },
    {
      "cell_type": "code",
      "execution_count": null,
      "metadata": {
        "colab": {
          "base_uri": "https://localhost:8080/"
        },
        "id": "tUG3hIFWYopa",
        "outputId": "c48bcd79-2633-4011-ae1c-c61ab6fc5b47"
      },
      "outputs": [
        {
          "name": "stdout",
          "output_type": "stream",
          "text": [
            "Original array: [1 2 3]\n",
            "Original byte order: =\n",
            "Byte swapping is not necessary.\n"
          ]
        }
      ],
      "source": [
        "\n",
        "\n",
        "# Create the array\n",
        "arr = np.array([1, 2, 3], dtype=np.int32)\n",
        "print(\"Original array:\", arr)\n",
        "print(\"Original byte order:\", arr.dtype.byteorder)\n",
        "\n",
        "# Check system endianness\n",
        "system_endian = '>' if sys.byteorder == 'big' else '<'\n",
        "\n",
        "# Determine if byte swapping is necessary\n",
        "if arr.dtype.byteorder == '=' or arr.dtype.byteorder == system_endian:\n",
        "    print(\"Byte swapping is not necessary.\")\n",
        "else:\n",
        "    print(\"Byte swapping is necessary.\")\n"
      ]
    },
    {
      "cell_type": "markdown",
      "metadata": {
        "id": "rqnsgVMmYssG"
      },
      "source": [
        "76.Create a NumPy array `arr1` with values from 1 to 10. Create a copy of `arr1` named `copy_arr` and modify\n",
        "an element in `copy_arr`. Check if modifying `copy_arr` affects `arr1`.\n"
      ]
    },
    {
      "cell_type": "code",
      "execution_count": null,
      "metadata": {
        "colab": {
          "base_uri": "https://localhost:8080/"
        },
        "id": "4Kd4fr-QY0lO",
        "outputId": "c1812d28-3327-4c22-a515-6e7825fa8572"
      },
      "outputs": [
        {
          "name": "stdout",
          "output_type": "stream",
          "text": [
            "Original array (arr1): [ 1  2  3  4  5  6  7  8  9 10]\n",
            "Copy of array (copy_arr): [ 1  2  3  4  5  6  7  8  9 10]\n",
            "Modified copy array (copy_arr): [100   2   3   4   5   6   7   8   9  10]\n",
            "Original array after modification (arr1): [ 1  2  3  4  5  6  7  8  9 10]\n"
          ]
        }
      ],
      "source": [
        "\n",
        "\n",
        "# Create the original array\n",
        "arr1 = np.arange(1, 11)\n",
        "print(\"Original array (arr1):\", arr1)\n",
        "\n",
        "# Create a copy of arr1\n",
        "copy_arr = arr1.copy()\n",
        "print(\"Copy of array (copy_arr):\", copy_arr)\n",
        "\n",
        "# Modify an element in the copy\n",
        "copy_arr[0] = 100\n",
        "print(\"Modified copy array (copy_arr):\", copy_arr)\n",
        "\n",
        "# Check if the original array is affected\n",
        "print(\"Original array after modification (arr1):\", arr1)\n"
      ]
    },
    {
      "cell_type": "markdown",
      "metadata": {
        "id": "bKzcTvV_Y2nY"
      },
      "source": [
        "77.Create a 2D NumPy array `matrix` of shape (3, 3) with random integers. Extract a slice `view_slice` from\n",
        "the matrix. Modify an element in `view_slice` and observe if it changes the original `matrix`.\n",
        "\n",
        "\n"
      ]
    },
    {
      "cell_type": "code",
      "execution_count": null,
      "metadata": {
        "colab": {
          "base_uri": "https://localhost:8080/"
        },
        "id": "Qr-5nMskY9u5",
        "outputId": "6c11d7db-6395-47ac-e100-3713260c6943"
      },
      "outputs": [
        {
          "name": "stdout",
          "output_type": "stream",
          "text": [
            "Original matrix:\n",
            " [[3 3 3]\n",
            " [1 2 3]\n",
            " [0 1 5]]\n",
            "View slice before modification:\n",
            " [[2 3]\n",
            " [1 5]]\n",
            "View slice after modification:\n",
            " [[99  3]\n",
            " [ 1  5]]\n",
            "Original matrix after modification:\n",
            " [[ 3  3  3]\n",
            " [ 1 99  3]\n",
            " [ 0  1  5]]\n"
          ]
        }
      ],
      "source": [
        "\n",
        "\n",
        "# Create a 2D NumPy array with random integers\n",
        "matrix = np.random.randint(0, 10, size=(3, 3))\n",
        "print(\"Original matrix:\\n\", matrix)\n",
        "\n",
        "# Extract a slice from the matrix\n",
        "view_slice = matrix[1:, 1:]\n",
        "print(\"View slice before modification:\\n\", view_slice)\n",
        "\n",
        "# Modify an element in the slice\n",
        "view_slice[0, 0] = 99\n",
        "print(\"View slice after modification:\\n\", view_slice)\n",
        "\n",
        "# Check if the original matrix is affected\n",
        "print(\"Original matrix after modification:\\n\", matrix)\n"
      ]
    },
    {
      "cell_type": "markdown",
      "metadata": {
        "id": "jUz6uRuJY_xG"
      },
      "source": [
        "78. Create a NumPy array `array_a` of shape (4, 3) with sequential integers from 1 to 12. Extract a slice\n",
        "`view_b` from `array_a` and broadcast the addition of 5 to view_b. Check if it alters the original `array_a`."
      ]
    },
    {
      "cell_type": "code",
      "execution_count": null,
      "metadata": {
        "colab": {
          "base_uri": "https://localhost:8080/"
        },
        "id": "D3vGjYhWZHMi",
        "outputId": "e0d6196d-e8aa-4b47-87cd-869fc1d5397d"
      },
      "outputs": [
        {
          "name": "stdout",
          "output_type": "stream",
          "text": [
            "Original array (array_a):\n",
            " [[ 1  2  3]\n",
            " [ 4  5  6]\n",
            " [ 7  8  9]\n",
            " [10 11 12]]\n",
            "View slice before modification (view_b):\n",
            " [[5 6]\n",
            " [8 9]]\n",
            "View slice after modification (view_b):\n",
            " [[10 11]\n",
            " [13 14]]\n",
            "Original array after modification (array_a):\n",
            " [[ 1  2  3]\n",
            " [ 4 10 11]\n",
            " [ 7 13 14]\n",
            " [10 11 12]]\n"
          ]
        }
      ],
      "source": [
        "\n",
        "\n",
        "# Create the array with sequential integers\n",
        "array_a = np.arange(1, 13).reshape((4, 3))\n",
        "print(\"Original array (array_a):\\n\", array_a)\n",
        "\n",
        "# Extract a slice from array_a\n",
        "view_b = array_a[1:3, 1:3]\n",
        "print(\"View slice before modification (view_b):\\n\", view_b)\n",
        "\n",
        "# Broadcast addition of 5 to view_b\n",
        "view_b += 5\n",
        "print(\"View slice after modification (view_b):\\n\", view_b)\n",
        "\n",
        "# Check if the original array is affected\n",
        "print(\"Original array after modification (array_a):\\n\", array_a)\n"
      ]
    },
    {
      "cell_type": "markdown",
      "metadata": {
        "id": "x5rrMYBMZJI0"
      },
      "source": [
        "79. Create a NumPy array `orig_array` of shape (2, 4) with values from 1 to 8. Create a reshaped view\n",
        "`reshaped_view` of shape (4, 2) from orig_array. Modify an element in `reshaped_view` and check if it\n",
        "reflects changes in the original `orig_array`.\n",
        "\n",
        "\n"
      ]
    },
    {
      "cell_type": "code",
      "execution_count": null,
      "metadata": {
        "colab": {
          "base_uri": "https://localhost:8080/"
        },
        "id": "Hh5_qsZJZSJO",
        "outputId": "4639a88f-8719-48a9-9ead-31e6c5f1b289"
      },
      "outputs": [
        {
          "name": "stdout",
          "output_type": "stream",
          "text": [
            "Original array (orig_array):\n",
            " [[1 2 3 4]\n",
            " [5 6 7 8]]\n",
            "Reshaped view (reshaped_view) before modification:\n",
            " [[1 2]\n",
            " [3 4]\n",
            " [5 6]\n",
            " [7 8]]\n",
            "Reshaped view (reshaped_view) after modification:\n",
            " [[99  2]\n",
            " [ 3  4]\n",
            " [ 5  6]\n",
            " [ 7  8]]\n",
            "Original array (orig_array) after modification:\n",
            " [[99  2  3  4]\n",
            " [ 5  6  7  8]]\n"
          ]
        }
      ],
      "source": [
        "\n",
        "\n",
        "# Create the original array with values from 1 to 8\n",
        "orig_array = np.arange(1, 9).reshape((2, 4))\n",
        "print(\"Original array (orig_array):\\n\", orig_array)\n",
        "\n",
        "# Create a reshaped view of shape (4, 2) from orig_array\n",
        "reshaped_view = orig_array.reshape((4, 2))\n",
        "print(\"Reshaped view (reshaped_view) before modification:\\n\", reshaped_view)\n",
        "\n",
        "# Modify an element in reshaped_view\n",
        "reshaped_view[0, 0] = 99\n",
        "print(\"Reshaped view (reshaped_view) after modification:\\n\", reshaped_view)\n",
        "\n",
        "# Check if the original array is affected\n",
        "print(\"Original array (orig_array) after modification:\\n\", orig_array)\n"
      ]
    },
    {
      "cell_type": "markdown",
      "metadata": {
        "id": "jD5oGRmyZUb4"
      },
      "source": [
        "80. Create a NumPy array `data` of shape (3, 4) with random integers. Extract a copy `data_copy` of\n",
        "elements greater than 5. Modify an element in `data_copy` and verify if it affects the original `data`."
      ]
    },
    {
      "cell_type": "code",
      "execution_count": null,
      "metadata": {
        "colab": {
          "base_uri": "https://localhost:8080/"
        },
        "id": "QzcEHj-9Zcje",
        "outputId": "103a9ee0-e522-4e86-bae4-cf08e23ebb4c"
      },
      "outputs": [
        {
          "name": "stdout",
          "output_type": "stream",
          "text": [
            "Original data array:\n",
            " [[4 7 1 6]\n",
            " [1 2 8 3]\n",
            " [3 8 2 3]]\n",
            "Data copy (elements > 5) before modification:\n",
            " [7 6 8 8]\n",
            "Data copy (elements > 5) after modification:\n",
            " [99  6  8  8]\n",
            "Original data array after modification:\n",
            " [[4 7 1 6]\n",
            " [1 2 8 3]\n",
            " [3 8 2 3]]\n"
          ]
        }
      ],
      "source": [
        "\n",
        "\n",
        "# Create the array with random integers\n",
        "data = np.random.randint(1, 10, size=(3, 4))\n",
        "print(\"Original data array:\\n\", data)\n",
        "\n",
        "# Extract elements greater than 5 and create a copy\n",
        "data_copy = data[data > 5].copy()\n",
        "print(\"Data copy (elements > 5) before modification:\\n\", data_copy)\n",
        "\n",
        "# Modify an element in data_copy\n",
        "data_copy[0] = 99\n",
        "print(\"Data copy (elements > 5) after modification:\\n\", data_copy)\n",
        "\n",
        "# Check if the original array is affected\n",
        "print(\"Original data array after modification:\\n\", data)\n"
      ]
    },
    {
      "cell_type": "markdown",
      "metadata": {
        "id": "KCP540mHZfik"
      },
      "source": [
        "81.Create two matrices A and B of identical shape containing integers and perform addition and subtraction\n",
        "operations between them."
      ]
    },
    {
      "cell_type": "code",
      "execution_count": null,
      "metadata": {
        "colab": {
          "base_uri": "https://localhost:8080/"
        },
        "id": "8-ZdRkZpZjaL",
        "outputId": "1e2df3d2-34e4-44f0-b0ab-97ef1b519426"
      },
      "outputs": [
        {
          "name": "stdout",
          "output_type": "stream",
          "text": [
            "Matrix A:\n",
            " [[1 2 3]\n",
            " [4 5 6]]\n",
            "Matrix B:\n",
            " [[6 5 4]\n",
            " [3 2 1]]\n",
            "Addition result (A + B):\n",
            " [[7 7 7]\n",
            " [7 7 7]]\n",
            "Subtraction result (A - B):\n",
            " [[-5 -3 -1]\n",
            " [ 1  3  5]]\n"
          ]
        }
      ],
      "source": [
        "\n",
        "\n",
        "# Create two matrices of identical shape with integer values\n",
        "A = np.array([[1, 2, 3], [4, 5, 6]])\n",
        "B = np.array([[6, 5, 4], [3, 2, 1]])\n",
        "\n",
        "print(\"Matrix A:\\n\", A)\n",
        "print(\"Matrix B:\\n\", B)\n",
        "\n",
        "# Perform addition\n",
        "addition_result = A + B\n",
        "print(\"Addition result (A + B):\\n\", addition_result)\n",
        "\n",
        "# Perform subtraction\n",
        "subtraction_result = A - B\n",
        "print(\"Subtraction result (A - B):\\n\", subtraction_result)\n"
      ]
    },
    {
      "cell_type": "markdown",
      "metadata": {
        "id": "eXUZuj5KZpwW"
      },
      "source": [
        "82. Generate two matrices `C` (3x2) and `D` (2x4) and perform matrix multiplication"
      ]
    },
    {
      "cell_type": "code",
      "execution_count": null,
      "metadata": {
        "colab": {
          "base_uri": "https://localhost:8080/"
        },
        "id": "XE8iC1TLZw8F",
        "outputId": "09df3962-9341-4daf-ed64-0c3cfd7d1632"
      },
      "outputs": [
        {
          "name": "stdout",
          "output_type": "stream",
          "text": [
            "Matrix C (3x2):\n",
            " [[6 6]\n",
            " [3 2]\n",
            " [3 2]]\n",
            "Matrix D (2x4):\n",
            " [[1 3 5 1]\n",
            " [1 1 6 4]]\n",
            "Result of C @ D:\n",
            " [[12 24 66 30]\n",
            " [ 5 11 27 11]\n",
            " [ 5 11 27 11]]\n"
          ]
        }
      ],
      "source": [
        "\n",
        "\n",
        "# Generate two matrices C (3x2) and D (2x4)\n",
        "C = np.random.randint(1, 10, size=(3, 2))\n",
        "D = np.random.randint(1, 10, size=(2, 4))\n",
        "\n",
        "print(\"Matrix C (3x2):\\n\", C)\n",
        "print(\"Matrix D (2x4):\\n\", D)\n",
        "\n",
        "# Perform matrix multiplication\n",
        "result = C @ D  # or np.dot(C, D)\n",
        "\n",
        "print(\"Result of C @ D:\\n\", result)\n"
      ]
    },
    {
      "cell_type": "markdown",
      "metadata": {
        "id": "cOFZi5sqZ0Jy"
      },
      "source": [
        "83.Create a matrix `E` and find its transpose."
      ]
    },
    {
      "cell_type": "code",
      "execution_count": null,
      "metadata": {
        "colab": {
          "base_uri": "https://localhost:8080/"
        },
        "id": "11yvrSS8Z3sW",
        "outputId": "972704e3-fbe8-4e16-c59e-1afe6160379e"
      },
      "outputs": [
        {
          "name": "stdout",
          "output_type": "stream",
          "text": [
            "Matrix E:\n",
            " [[1 2 3]\n",
            " [4 5 6]\n",
            " [7 8 9]]\n",
            "Transpose of Matrix E:\n",
            " [[1 4 7]\n",
            " [2 5 8]\n",
            " [3 6 9]]\n"
          ]
        }
      ],
      "source": [
        "\n",
        "\n",
        "# Create a matrix E\n",
        "E = np.array([[1, 2, 3], [4, 5, 6], [7, 8, 9]])\n",
        "print(\"Matrix E:\\n\", E)\n",
        "\n",
        "# Find the transpose of matrix E\n",
        "E_transpose = E.T\n",
        "# Alternatively, you can use np.transpose(E)\n",
        "# E_transpose = np.transpose(E)\n",
        "\n",
        "print(\"Transpose of Matrix E:\\n\", E_transpose)\n"
      ]
    },
    {
      "cell_type": "markdown",
      "metadata": {
        "id": "19WBwtcPZ9pO"
      },
      "source": [
        "84.Generate a square matrix `F` and compute its determinant"
      ]
    },
    {
      "cell_type": "code",
      "execution_count": null,
      "metadata": {
        "colab": {
          "base_uri": "https://localhost:8080/"
        },
        "id": "CSKnGt0baEq9",
        "outputId": "8ff45ff7-47ba-4942-b28a-6c1804888fe4"
      },
      "outputs": [
        {
          "name": "stdout",
          "output_type": "stream",
          "text": [
            "Matrix F:\n",
            " [[3 9 7]\n",
            " [8 6 8]\n",
            " [5 3 8]]\n",
            "Determinant of Matrix F: -186.00000000000009\n"
          ]
        }
      ],
      "source": [
        "\n",
        "\n",
        "# Generate a square matrix F (e.g., 3x3) with random integers\n",
        "F = np.random.randint(1, 10, size=(3, 3))\n",
        "print(\"Matrix F:\\n\", F)\n",
        "\n",
        "# Compute the determinant of matrix F\n",
        "determinant_F = np.linalg.det(F)\n",
        "print(\"Determinant of Matrix F:\", determinant_F)\n"
      ]
    },
    {
      "cell_type": "markdown",
      "metadata": {
        "id": "Dnqr1i2PaIKq"
      },
      "source": [
        "85.Create a square matrix `G` and find its inverse."
      ]
    },
    {
      "cell_type": "code",
      "execution_count": null,
      "metadata": {
        "colab": {
          "base_uri": "https://localhost:8080/"
        },
        "id": "yIoaaf64aRmU",
        "outputId": "3df71d63-2649-4837-9820-fce24020312b"
      },
      "outputs": [
        {
          "name": "stdout",
          "output_type": "stream",
          "text": [
            "Matrix G:\n",
            " [[4 7 2]\n",
            " [3 6 1]\n",
            " [2 5 3]]\n",
            "Inverse of Matrix G:\n",
            " [[ 1.44444444 -1.22222222 -0.55555556]\n",
            " [-0.77777778  0.88888889  0.22222222]\n",
            " [ 0.33333333 -0.66666667  0.33333333]]\n"
          ]
        }
      ],
      "source": [
        "\n",
        "\n",
        "# Create a square matrix G (e.g., 3x3) with random integers\n",
        "G = np.array([[4, 7, 2], [3, 6, 1], [2, 5, 3]])\n",
        "print(\"Matrix G:\\n\", G)\n",
        "\n",
        "# Compute the inverse of matrix G\n",
        "try:\n",
        "    G_inv = np.linalg.inv(G)\n",
        "    print(\"Inverse of Matrix G:\\n\", G_inv)\n",
        "except np.linalg.LinAlgError:\n",
        "    print(\"Matrix G is singular and does not have an inverse.\")\n"
      ]
    },
    {
      "cell_type": "code",
      "execution_count": null,
      "metadata": {
        "id": "afS_JW0W4D9d"
      },
      "outputs": [],
      "source": []
    },
    {
      "cell_type": "code",
      "execution_count": null,
      "metadata": {
        "id": "sA0qyl1M4D9d"
      },
      "outputs": [],
      "source": []
    },
    {
      "cell_type": "code",
      "execution_count": null,
      "metadata": {
        "id": "oJ9obWVJ4D9d"
      },
      "outputs": [],
      "source": []
    },
    {
      "cell_type": "code",
      "execution_count": null,
      "metadata": {
        "id": "BtKUjprF4D9e"
      },
      "outputs": [],
      "source": []
    },
    {
      "cell_type": "code",
      "execution_count": null,
      "metadata": {
        "id": "BJofpXno4D9e"
      },
      "outputs": [],
      "source": []
    },
    {
      "cell_type": "code",
      "execution_count": null,
      "metadata": {
        "id": "BTH_jxbU4D9e"
      },
      "outputs": [],
      "source": []
    },
    {
      "cell_type": "code",
      "execution_count": null,
      "metadata": {
        "id": "E7XjtXPP4D9e"
      },
      "outputs": [],
      "source": []
    },
    {
      "cell_type": "code",
      "execution_count": null,
      "metadata": {
        "id": "d7IXVciW4D9e"
      },
      "outputs": [],
      "source": []
    },
    {
      "cell_type": "code",
      "execution_count": null,
      "metadata": {
        "id": "V-uRs5Kk4D9e"
      },
      "outputs": [],
      "source": []
    },
    {
      "cell_type": "code",
      "execution_count": null,
      "metadata": {
        "id": "Q10l4rh-4D9e"
      },
      "outputs": [],
      "source": []
    },
    {
      "cell_type": "code",
      "execution_count": null,
      "metadata": {
        "id": "Ul-EOHKb4D9e"
      },
      "outputs": [],
      "source": []
    },
    {
      "cell_type": "code",
      "execution_count": null,
      "metadata": {
        "id": "KcEhj5fG4D9f"
      },
      "outputs": [],
      "source": []
    },
    {
      "cell_type": "code",
      "execution_count": null,
      "metadata": {
        "id": "potTASRm4D9f"
      },
      "outputs": [],
      "source": []
    },
    {
      "cell_type": "code",
      "execution_count": null,
      "metadata": {
        "id": "vdXoS-F14D9f"
      },
      "outputs": [],
      "source": []
    },
    {
      "cell_type": "code",
      "execution_count": null,
      "metadata": {
        "id": "jnD4PSb04D9f"
      },
      "outputs": [],
      "source": []
    },
    {
      "cell_type": "code",
      "execution_count": null,
      "metadata": {
        "id": "723XAsFs4D9f"
      },
      "outputs": [],
      "source": []
    },
    {
      "cell_type": "code",
      "execution_count": null,
      "metadata": {
        "id": "kN_pTeXg4D9g"
      },
      "outputs": [],
      "source": []
    }
  ],
  "metadata": {
    "colab": {
      "provenance": [],
      "include_colab_link": true
    },
    "kernelspec": {
      "display_name": "Python 3 (ipykernel)",
      "language": "python",
      "name": "python3"
    },
    "language_info": {
      "codemirror_mode": {
        "name": "ipython",
        "version": 3
      },
      "file_extension": ".py",
      "mimetype": "text/x-python",
      "name": "python",
      "nbconvert_exporter": "python",
      "pygments_lexer": "ipython3",
      "version": "3.12.4"
    }
  },
  "nbformat": 4,
  "nbformat_minor": 0
}